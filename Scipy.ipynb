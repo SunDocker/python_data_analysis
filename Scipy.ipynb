{
 "cells": [
  {
   "cell_type": "markdown",
   "id": "407f5774",
   "metadata": {},
   "source": [
    "# SciPy概述"
   ]
  },
  {
   "cell_type": "markdown",
   "id": "36267f78",
   "metadata": {},
   "source": [
    "SciPy是一个科学计算库，它基于Numpy开发。\n",
    "> SciPy是由NumPy的创造者Travis Olliphant开发的\n",
    ">\n",
    "> 和NumPy一样，SciPy也是开源的\n",
    "\n",
    "SciPy是Scientific Python的缩写\n",
    "\n",
    "它提供了更多用于**优化**、**统计**和信号处理的实用函数\n",
    "\n",
    "SciPy主要用Python语言编写，其中也有一些片段使用C语言编写"
   ]
  },
  {
   "cell_type": "code",
   "execution_count": 6,
   "id": "9994f12f",
   "metadata": {},
   "outputs": [],
   "source": [
    "import scipy"
   ]
  },
  {
   "cell_type": "code",
   "execution_count": 4,
   "id": "02ce39f2",
   "metadata": {},
   "outputs": [
    {
     "name": "stdout",
     "output_type": "stream",
     "text": [
      "1.7.3\n"
     ]
    }
   ],
   "source": [
    "print(scipy.__version__)"
   ]
  },
  {
   "cell_type": "markdown",
   "id": "4f744169",
   "metadata": {},
   "source": [
    "# 常数与单位"
   ]
  },
  {
   "cell_type": "markdown",
   "id": "7cd7efa8",
   "metadata": {},
   "source": [
    "SciPy更专注于科学的实现，它提供了许多内置的科学常量。\n",
    "\n",
    "当你从事数据科学工作时，这些常量会很有帮助\n",
    "\n",
    "使用`dir(constants)`可以查看所有常量单位"
   ]
  },
  {
   "cell_type": "code",
   "execution_count": 8,
   "id": "a9ef0515",
   "metadata": {},
   "outputs": [],
   "source": [
    "from scipy import constants"
   ]
  },
  {
   "cell_type": "code",
   "execution_count": 9,
   "id": "01b22801",
   "metadata": {},
   "outputs": [
    {
     "data": {
      "text/plain": [
       "3.141592653589793"
      ]
     },
     "execution_count": 9,
     "metadata": {},
     "output_type": "execute_result"
    }
   ],
   "source": [
    "constants.pi"
   ]
  },
  {
   "cell_type": "code",
   "execution_count": 10,
   "id": "e245ed38",
   "metadata": {},
   "outputs": [
    {
     "data": {
      "text/plain": [
       "['Avogadro',\n",
       " 'Boltzmann',\n",
       " 'Btu',\n",
       " 'Btu_IT',\n",
       " 'Btu_th',\n",
       " 'ConstantWarning',\n",
       " 'G',\n",
       " 'Julian_year',\n",
       " 'N_A',\n",
       " 'Planck',\n",
       " 'R',\n",
       " 'Rydberg',\n",
       " 'Stefan_Boltzmann',\n",
       " 'Wien',\n",
       " '__all__',\n",
       " '__builtins__',\n",
       " '__cached__',\n",
       " '__doc__',\n",
       " '__file__',\n",
       " '__loader__',\n",
       " '__name__',\n",
       " '__package__',\n",
       " '__path__',\n",
       " '__spec__',\n",
       " '_obsolete_constants',\n",
       " 'acre',\n",
       " 'alpha',\n",
       " 'angstrom',\n",
       " 'arcmin',\n",
       " 'arcminute',\n",
       " 'arcsec',\n",
       " 'arcsecond',\n",
       " 'astronomical_unit',\n",
       " 'atm',\n",
       " 'atmosphere',\n",
       " 'atomic_mass',\n",
       " 'atto',\n",
       " 'au',\n",
       " 'bar',\n",
       " 'barrel',\n",
       " 'bbl',\n",
       " 'blob',\n",
       " 'c',\n",
       " 'calorie',\n",
       " 'calorie_IT',\n",
       " 'calorie_th',\n",
       " 'carat',\n",
       " 'centi',\n",
       " 'codata',\n",
       " 'constants',\n",
       " 'convert_temperature',\n",
       " 'day',\n",
       " 'deci',\n",
       " 'degree',\n",
       " 'degree_Fahrenheit',\n",
       " 'deka',\n",
       " 'dyn',\n",
       " 'dyne',\n",
       " 'e',\n",
       " 'eV',\n",
       " 'electron_mass',\n",
       " 'electron_volt',\n",
       " 'elementary_charge',\n",
       " 'epsilon_0',\n",
       " 'erg',\n",
       " 'exa',\n",
       " 'exbi',\n",
       " 'femto',\n",
       " 'fermi',\n",
       " 'find',\n",
       " 'fine_structure',\n",
       " 'fluid_ounce',\n",
       " 'fluid_ounce_US',\n",
       " 'fluid_ounce_imp',\n",
       " 'foot',\n",
       " 'g',\n",
       " 'gallon',\n",
       " 'gallon_US',\n",
       " 'gallon_imp',\n",
       " 'gas_constant',\n",
       " 'gibi',\n",
       " 'giga',\n",
       " 'golden',\n",
       " 'golden_ratio',\n",
       " 'grain',\n",
       " 'gram',\n",
       " 'gravitational_constant',\n",
       " 'h',\n",
       " 'hbar',\n",
       " 'hectare',\n",
       " 'hecto',\n",
       " 'horsepower',\n",
       " 'hour',\n",
       " 'hp',\n",
       " 'inch',\n",
       " 'k',\n",
       " 'kgf',\n",
       " 'kibi',\n",
       " 'kilo',\n",
       " 'kilogram_force',\n",
       " 'kmh',\n",
       " 'knot',\n",
       " 'lambda2nu',\n",
       " 'lb',\n",
       " 'lbf',\n",
       " 'light_year',\n",
       " 'liter',\n",
       " 'litre',\n",
       " 'long_ton',\n",
       " 'm_e',\n",
       " 'm_n',\n",
       " 'm_p',\n",
       " 'm_u',\n",
       " 'mach',\n",
       " 'mebi',\n",
       " 'mega',\n",
       " 'metric_ton',\n",
       " 'micro',\n",
       " 'micron',\n",
       " 'mil',\n",
       " 'mile',\n",
       " 'milli',\n",
       " 'minute',\n",
       " 'mmHg',\n",
       " 'mph',\n",
       " 'mu_0',\n",
       " 'nano',\n",
       " 'nautical_mile',\n",
       " 'neutron_mass',\n",
       " 'nu2lambda',\n",
       " 'ounce',\n",
       " 'oz',\n",
       " 'parsec',\n",
       " 'pebi',\n",
       " 'peta',\n",
       " 'physical_constants',\n",
       " 'pi',\n",
       " 'pico',\n",
       " 'point',\n",
       " 'pound',\n",
       " 'pound_force',\n",
       " 'precision',\n",
       " 'proton_mass',\n",
       " 'psi',\n",
       " 'pt',\n",
       " 'short_ton',\n",
       " 'sigma',\n",
       " 'slinch',\n",
       " 'slug',\n",
       " 'speed_of_light',\n",
       " 'speed_of_sound',\n",
       " 'stone',\n",
       " 'survey_foot',\n",
       " 'survey_mile',\n",
       " 'tebi',\n",
       " 'tera',\n",
       " 'test',\n",
       " 'ton_TNT',\n",
       " 'torr',\n",
       " 'troy_ounce',\n",
       " 'troy_pound',\n",
       " 'u',\n",
       " 'unit',\n",
       " 'value',\n",
       " 'week',\n",
       " 'yard',\n",
       " 'year',\n",
       " 'yobi',\n",
       " 'yotta',\n",
       " 'zebi',\n",
       " 'zepto',\n",
       " 'zero_Celsius',\n",
       " 'zetta']"
      ]
     },
     "execution_count": 10,
     "metadata": {},
     "output_type": "execute_result"
    }
   ],
   "source": [
    "dir(constants)"
   ]
  },
  {
   "cell_type": "markdown",
   "id": "ac12fe36",
   "metadata": {},
   "source": [
    "## 公制长度"
   ]
  },
  {
   "cell_type": "markdown",
   "id": "271c61f0",
   "metadata": {},
   "source": [
    "以米为单位"
   ]
  },
  {
   "cell_type": "code",
   "execution_count": 14,
   "id": "3dd7ed32",
   "metadata": {},
   "outputs": [
    {
     "name": "stdout",
     "output_type": "stream",
     "text": [
      "1e+24\n",
      "1e+21\n",
      "1e+18\n",
      "1000000000000000.0\n",
      "1000000000000.0\n",
      "1000000000.0\n",
      "1000000.0\n",
      "1000.0\n",
      "100.0\n",
      "10.0\n",
      "0.1\n",
      "0.01\n",
      "0.001\n",
      "1e-06\n",
      "1e-09\n",
      "1e-12\n",
      "1e-15\n",
      "1e-18\n",
      "1e-21\n"
     ]
    }
   ],
   "source": [
    "print(constants.yotta)#1e+24\n",
    "print(constants.zetta)#1e+21\n",
    "print(constants.exa)#1e+18\n",
    "print(constants.peta)#100000000000000.0\n",
    "print(constants.tera)#100000000000.0\n",
    "print(constants.giga)#1000000000.0 \n",
    "print(constants.mega)#1000000.0\n",
    "print(constants.kilo)#1000.0\n",
    "print(constants.hecto)#100.0\n",
    "print(constants.deka)#10.0\n",
    "print(constants.deci)#O.1\n",
    "print(constants.centi)#0.01 \n",
    "print(constants.milli)#0.001 \n",
    "print(constants.micro)#1e-06\n",
    "print(constants.nano)#1e-09\n",
    "print(constants.pico)#1e-12\n",
    "print(constants.femto)#1e-15\n",
    "print(constants.atto)#1e-18\n",
    "print(constants.zepto)#1e-21"
   ]
  },
  {
   "cell_type": "markdown",
   "id": "bed0f341",
   "metadata": {},
   "source": [
    "## 二进制单位"
   ]
  },
  {
   "cell_type": "markdown",
   "id": "1b5f6383",
   "metadata": {},
   "source": [
    "以byte为单位（当然理解成以bit为单位也不是不可以）"
   ]
  },
  {
   "cell_type": "code",
   "execution_count": 15,
   "id": "c3f9edcf",
   "metadata": {},
   "outputs": [
    {
     "name": "stdout",
     "output_type": "stream",
     "text": [
      "1024\n",
      "1048576\n",
      "1073741824\n",
      "1099511627776\n",
      "1125899906842624\n",
      "1152921504606846976\n",
      "1180591620717411303424\n",
      "1208925819614629174706176\n"
     ]
    }
   ],
   "source": [
    "print(constants.kibi)\n",
    "print(constants.mebi)\n",
    "print(constants.gibi)\n",
    "print(constants.tebi)\n",
    "print(constants.pebi)\n",
    "print(constants.exbi)\n",
    "print(constants.zebi)\n",
    "print(constants.yobi)"
   ]
  },
  {
   "cell_type": "markdown",
   "id": "bd48315b",
   "metadata": {},
   "source": [
    "## 质量"
   ]
  },
  {
   "cell_type": "markdown",
   "id": "9483d8fd",
   "metadata": {},
   "source": [
    "以千克为单位"
   ]
  },
  {
   "cell_type": "code",
   "execution_count": 18,
   "id": "ffe04d64",
   "metadata": {},
   "outputs": [
    {
     "name": "stdout",
     "output_type": "stream",
     "text": [
      "0.001\n",
      "1000.0\n",
      "6.479891e-05\n",
      "0.45359236999999997\n",
      "0.45359236999999997\n",
      "0.028349523124999998\n",
      "0.028349523124999998\n",
      "6.3502931799999995\n",
      "1016.0469088\n",
      "907.1847399999999\n",
      "0.031103476799999998\n",
      "0.37324172159999996\n",
      "0.0002\n",
      "1.6605390666e-27\n",
      "1.6605390666e-27\n",
      "1.6605390666e-27\n"
     ]
    }
   ],
   "source": [
    "print(constants.gram)\n",
    "print(constants.metric_ton)\n",
    "print(constants.grain)\n",
    "print(constants.lb)\n",
    "print(constants.pound)\n",
    "print(constants.oz)\n",
    "print(constants.ounce)\n",
    "print(constants.stone)\n",
    "print(constants.long_ton)\n",
    "print(constants.short_ton)\n",
    "print(constants.troy_ounce)\n",
    "print(constants.troy_pound)\n",
    "print(constants.carat)\n",
    "print(constants.atomic_mass)\n",
    "print(constants.m_u)\n",
    "print(constants.u)"
   ]
  },
  {
   "cell_type": "markdown",
   "id": "d86142bc",
   "metadata": {},
   "source": [
    "## 角度"
   ]
  },
  {
   "cell_type": "markdown",
   "id": "34de7afe",
   "metadata": {},
   "source": [
    "以弧度为单位"
   ]
  },
  {
   "cell_type": "code",
   "execution_count": 20,
   "id": "cbb458a3",
   "metadata": {},
   "outputs": [
    {
     "name": "stdout",
     "output_type": "stream",
     "text": [
      "0.017453292519943295\n",
      "0.0002908882086657216\n",
      "0.0002908882086657216\n",
      "4.84813681109536e-06\n",
      "4.84813681109536e-06\n"
     ]
    }
   ],
   "source": [
    "print(constants.degree)\n",
    "print(constants.arcmin)\n",
    "print(constants.arcminute)\n",
    "print(constants.arcsec)\n",
    "print(constants.arcsecond)"
   ]
  },
  {
   "cell_type": "markdown",
   "id": "b9b8cded",
   "metadata": {},
   "source": [
    "## 时间"
   ]
  },
  {
   "cell_type": "markdown",
   "id": "53ae5d5a",
   "metadata": {},
   "source": [
    "以秒为单位"
   ]
  },
  {
   "cell_type": "code",
   "execution_count": 21,
   "id": "422bbcec",
   "metadata": {},
   "outputs": [
    {
     "name": "stdout",
     "output_type": "stream",
     "text": [
      "60.0\n",
      "3600.0\n",
      "86400.0\n",
      "604800.0\n",
      "31536000.0\n",
      "31557600.0\n"
     ]
    }
   ],
   "source": [
    "print(constants.minute)\n",
    "print(constants.hour)\n",
    "print(constants.day)\n",
    "print(constants.week)\n",
    "print(constants.year)\n",
    "print(constants.Julian_year)"
   ]
  },
  {
   "cell_type": "markdown",
   "id": "3ee4d684",
   "metadata": {},
   "source": [
    "## 英制长度"
   ]
  },
  {
   "cell_type": "markdown",
   "id": "d92719c4",
   "metadata": {},
   "source": [
    "以米为单位"
   ]
  },
  {
   "cell_type": "code",
   "execution_count": 23,
   "id": "8e3898b7",
   "metadata": {},
   "outputs": [
    {
     "name": "stdout",
     "output_type": "stream",
     "text": [
      "0.0254\n",
      "0.30479999999999996\n",
      "0.9143999999999999\n",
      "1609.3439999999998\n",
      "2.5399999999999997e-05\n",
      "0.00035277777777777776\n",
      "0.00035277777777777776\n",
      "0.3048006096012192\n",
      "1609.3472186944373\n",
      "1852.0\n",
      "1e-15\n",
      "1e-10\n",
      "1e-06\n",
      "149597870700.0\n",
      "149597870700.0\n",
      "9460730472580800.0\n",
      "3.085677581491367e+16\n"
     ]
    }
   ],
   "source": [
    "print(constants.inch)\n",
    "print(constants.foot)\n",
    "print(constants.yard)\n",
    "print(constants.mile)\n",
    "print(constants.mil)\n",
    "print(constants.pt)\n",
    "print(constants.point)\n",
    "print(constants.survey_foot)\n",
    "print(constants.survey_mile)\n",
    "print(constants.nautical_mile)\n",
    "print(constants.fermi)\n",
    "print(constants.angstrom)\n",
    "print(constants.micron)\n",
    "print(constants.au)\n",
    "print(constants.astronomical_unit)\n",
    "print(constants.light_year)\n",
    "print(constants.parsec)"
   ]
  },
  {
   "cell_type": "markdown",
   "id": "2c41931b",
   "metadata": {},
   "source": [
    "## 压力"
   ]
  },
  {
   "cell_type": "markdown",
   "id": "4f3ab904",
   "metadata": {},
   "source": [
    "以帕斯卡为单位"
   ]
  },
  {
   "cell_type": "code",
   "execution_count": 25,
   "id": "71e8477a",
   "metadata": {},
   "outputs": [
    {
     "name": "stdout",
     "output_type": "stream",
     "text": [
      "101325.0\n",
      "101325.0\n",
      "100000.0\n",
      "133.32236842105263\n",
      "133.32236842105263\n",
      "6894.757293168361\n"
     ]
    }
   ],
   "source": [
    "print(constants.atm)\n",
    "print(constants.atmosphere)\n",
    "print(constants.bar)\n",
    "print(constants.torr)\n",
    "print(constants.mmHg)\n",
    "print(constants.psi)"
   ]
  },
  {
   "cell_type": "markdown",
   "id": "3c391a92",
   "metadata": {},
   "source": [
    "## 面积"
   ]
  },
  {
   "cell_type": "markdown",
   "id": "0cfce8ae",
   "metadata": {},
   "source": [
    "以平方米为单位"
   ]
  },
  {
   "cell_type": "code",
   "execution_count": 27,
   "id": "e5878988",
   "metadata": {},
   "outputs": [
    {
     "name": "stdout",
     "output_type": "stream",
     "text": [
      "10000.0\n",
      "4046.8564223999992\n"
     ]
    }
   ],
   "source": [
    "print(constants.hectare)\n",
    "print(constants.acre)"
   ]
  },
  {
   "cell_type": "markdown",
   "id": "c505abfb",
   "metadata": {},
   "source": [
    "## 体积"
   ]
  },
  {
   "cell_type": "markdown",
   "id": "7a79b490",
   "metadata": {},
   "source": [
    "以立方米为单位"
   ]
  },
  {
   "cell_type": "code",
   "execution_count": 30,
   "id": "22182fec",
   "metadata": {},
   "outputs": [
    {
     "name": "stdout",
     "output_type": "stream",
     "text": [
      "0.001\n",
      "0.001\n",
      "0.0037854117839999997\n",
      "0.0037854117839999997\n",
      "0.00454609\n",
      "2.9573529562499998e-05\n",
      "2.9573529562499998e-05\n",
      "2.84130625e-05\n",
      "0.15898729492799998\n",
      "0.15898729492799998\n"
     ]
    }
   ],
   "source": [
    "print(constants.liter)\n",
    "print(constants.litre)\n",
    "print(constants.gallon)\n",
    "print(constants.gallon_US)\n",
    "print(constants.gallon_imp)\n",
    "print(constants.fluid_ounce)\n",
    "print(constants.fluid_ounce_US)\n",
    "print(constants.fluid_ounce_imp)\n",
    "print(constants.barrel)\n",
    "print(constants.bbl)"
   ]
  },
  {
   "cell_type": "markdown",
   "id": "c712267a",
   "metadata": {},
   "source": [
    "## 速度"
   ]
  },
  {
   "cell_type": "markdown",
   "id": "66987486",
   "metadata": {},
   "source": [
    "以米/秒为单位"
   ]
  },
  {
   "cell_type": "code",
   "execution_count": 31,
   "id": "f38b271b",
   "metadata": {},
   "outputs": [
    {
     "name": "stdout",
     "output_type": "stream",
     "text": [
      "0.2777777777777778\n",
      "0.44703999999999994\n",
      "340.5\n",
      "340.5\n",
      "0.5144444444444445\n"
     ]
    }
   ],
   "source": [
    "print(constants.kmh)\n",
    "print(constants.mph)\n",
    "print(constants.mach)\n",
    "print(constants.speed_of_sound)\n",
    "print(constants.knot)"
   ]
  },
  {
   "cell_type": "markdown",
   "id": "3bc42dc4",
   "metadata": {},
   "source": [
    "## 温度"
   ]
  },
  {
   "cell_type": "markdown",
   "id": "3fb3506d",
   "metadata": {},
   "source": [
    "以开尔文为单位"
   ]
  },
  {
   "cell_type": "code",
   "execution_count": 34,
   "id": "1b5cc65b",
   "metadata": {},
   "outputs": [
    {
     "name": "stdout",
     "output_type": "stream",
     "text": [
      "273.15\n",
      "0.5555555555555556\n"
     ]
    }
   ],
   "source": [
    "print(constants.zero_Celsius)\n",
    "print(constants.degree_Fahrenheit)"
   ]
  },
  {
   "cell_type": "markdown",
   "id": "200da2b2",
   "metadata": {},
   "source": [
    "## 能量"
   ]
  },
  {
   "cell_type": "markdown",
   "id": "ec039482",
   "metadata": {},
   "source": [
    "以焦耳为单位"
   ]
  },
  {
   "cell_type": "code",
   "execution_count": 35,
   "id": "41057169",
   "metadata": {},
   "outputs": [
    {
     "name": "stdout",
     "output_type": "stream",
     "text": [
      "1.602176634e-19\n",
      "1.602176634e-19\n",
      "4.184\n",
      "4.184\n",
      "4.1868\n",
      "1e-07\n",
      "1055.05585262\n",
      "1055.05585262\n",
      "1054.3502644888888\n",
      "4184000000.0\n"
     ]
    }
   ],
   "source": [
    "print(constants.eV)\n",
    "print(constants.electron_volt)\n",
    "print(constants.calorie)\n",
    "print(constants.calorie_th)\n",
    "print(constants.calorie_IT)\n",
    "print(constants.erg)\n",
    "print(constants.Btu)\n",
    "print(constants.Btu_IT)\n",
    "print(constants.Btu_th)\n",
    "print(constants.ton_TNT)"
   ]
  },
  {
   "cell_type": "markdown",
   "id": "aceb6e62",
   "metadata": {},
   "source": [
    "## 功率"
   ]
  },
  {
   "cell_type": "markdown",
   "id": "c90f8080",
   "metadata": {},
   "source": [
    "以瓦为单位"
   ]
  },
  {
   "cell_type": "code",
   "execution_count": 38,
   "id": "348d2941",
   "metadata": {},
   "outputs": [
    {
     "name": "stdout",
     "output_type": "stream",
     "text": [
      "745.6998715822701\n",
      "745.6998715822701\n"
     ]
    }
   ],
   "source": [
    "print(constants.hp)\n",
    "print(constants.horsepower)"
   ]
  },
  {
   "cell_type": "markdown",
   "id": "c38aa75b",
   "metadata": {},
   "source": [
    "## 力"
   ]
  },
  {
   "cell_type": "markdown",
   "id": "6503bcf2",
   "metadata": {},
   "source": [
    "以牛顿为单位"
   ]
  },
  {
   "cell_type": "code",
   "execution_count": 39,
   "id": "250b0086",
   "metadata": {},
   "outputs": [
    {
     "name": "stdout",
     "output_type": "stream",
     "text": [
      "1e-05\n",
      "1e-05\n",
      "4.4482216152605\n",
      "4.4482216152605\n",
      "9.80665\n",
      "9.80665\n"
     ]
    }
   ],
   "source": [
    "print(constants.dyn)\n",
    "print(constants.dyne)\n",
    "print(constants.lbf)\n",
    "print(constants.pound_force)\n",
    "print(constants.kgf)\n",
    "print(constants.kilogram_force)"
   ]
  },
  {
   "cell_type": "markdown",
   "id": "3cedacad",
   "metadata": {},
   "source": [
    "# 优化器"
   ]
  },
  {
   "cell_type": "markdown",
   "id": "69125318",
   "metadata": {},
   "source": [
    "**概述**：\n",
    "- 优化器是SciPy中定义的一组程序，它可以找到一个**函数的最小值**，或者找到一个**方程的根**\n",
    "\n",
    "**方程的根**：\n",
    "- NumPy能够找到**多项式和线性方程**的根，但它不能找到**非线性方程**的根，比如：$x+cos(x)$\n",
    "- 为此，可以使用SciPy的`optimize.root`函数，这个函数有两个必要参数：\n",
    "    - `fun`：代表**方程**的函数\n",
    "    - `x0`：对**根**的初始猜测\n",
    "- 该函数返回一个包含**解的信息**的对象\n",
    "\n",
    "**函数极值**：\n",
    "- 从本质上讲，机器学习中的所有算法都不过是一个复杂的方程，需要在给定数据的帮助下将其最小化\n",
    "- 一个函数可以理解为一条曲线，曲线有高点和低点，也就是**极值**\n",
    "- 与此相关的，还有全局最值、局部最值\n",
    "- 可以使用`optimize.minimize`函数求最小值，这个函数有以下参数(前两个是必要参数)：\n",
    "    - `fun`：代表**方程**的函数\n",
    "    - `x0`：对**根**的初始猜测\n",
    "    - `method`：要使用的方法名。不指定的话会自动寻找一个最合适的算法\n",
    "        - CG\n",
    "        - BFGS\n",
    "        - 牛顿-CG\n",
    "        - L-BFGS-B\n",
    "        - TNC\n",
    "        - COBYLA\n",
    "        - SLSQP\n",
    "    - `callback`：每次优化迭代后调用的次数\n",
    "    - `oprionts`：定义额外参数的字典\n",
    "        - `disp:boolean`：打印详细的描述\n",
    "        - `gtol:number`：错误的容忍度\n",
    "\n"
   ]
  },
  {
   "cell_type": "markdown",
   "id": "9952d4bb",
   "metadata": {},
   "source": [
    "## 求方程的根"
   ]
  },
  {
   "cell_type": "code",
   "execution_count": 42,
   "id": "5148028d",
   "metadata": {},
   "outputs": [
    {
     "data": {
      "text/plain": [
       "    fjac: array([[-1.]])\n",
       "     fun: array([0.])\n",
       " message: 'The solution converged.'\n",
       "    nfev: 9\n",
       "     qtf: array([-2.66786593e-13])\n",
       "       r: array([-1.67361202])\n",
       "  status: 1\n",
       " success: True\n",
       "       x: array([-0.73908513])"
      ]
     },
     "execution_count": 42,
     "metadata": {},
     "output_type": "execute_result"
    }
   ],
   "source": [
    "from scipy.optimize import root\n",
    "from math import cos\n",
    "def eqn(x):\n",
    "    return x + cos(x)\n",
    "myroot = root(eqn, 0)\n",
    "myroot"
   ]
  },
  {
   "cell_type": "markdown",
   "id": "7444e0be",
   "metadata": {},
   "source": [
    "## 求函数极值"
   ]
  },
  {
   "cell_type": "code",
   "execution_count": 43,
   "id": "9a45881d",
   "metadata": {},
   "outputs": [
    {
     "data": {
      "text/plain": [
       "      fun: 1.75\n",
       " hess_inv: array([[0.50000001]])\n",
       "      jac: array([0.])\n",
       "  message: 'Optimization terminated successfully.'\n",
       "     nfev: 8\n",
       "      nit: 2\n",
       "     njev: 4\n",
       "   status: 0\n",
       "  success: True\n",
       "        x: array([-0.50000001])"
      ]
     },
     "execution_count": 43,
     "metadata": {},
     "output_type": "execute_result"
    }
   ],
   "source": [
    "from scipy.optimize import minimize\n",
    "def eqn(x):\n",
    "    return x ** 2 + x + 2\n",
    "minimize(eqn, 0)"
   ]
  },
  {
   "cell_type": "markdown",
   "id": "815fe4e9",
   "metadata": {},
   "source": [
    "## 线性规划"
   ]
  },
  {
   "cell_type": "markdown",
   "id": "bf4d467d",
   "metadata": {},
   "source": [
    "`scipy.optimize.linprog(目标函数的系数向量, \n",
    "                       不等式的描述方式（系数，b）, \n",
    "                       方程的描述方式（系数，b）, \n",
    "                       变量约束)`\n",
    "\n",
    "另见数学建模导论.md"
   ]
  },
  {
   "cell_type": "code",
   "execution_count": 45,
   "id": "283ecc91",
   "metadata": {},
   "outputs": [
    {
     "name": "stdout",
     "output_type": "stream",
     "text": [
      "     con: array([1.80712245e-09])\n",
      "     fun: -14.571428565645084\n",
      " message: 'Optimization terminated successfully.'\n",
      "     nit: 5\n",
      "   slack: array([-2.24599006e-10,  3.85714286e+00])\n",
      "  status: 0\n",
      " success: True\n",
      "       x: array([6.42857143e+00, 5.71428571e-01, 2.35900788e-10])\n",
      "14.571428565645084\n",
      "[6.42857143e+00 5.71428571e-01 2.35900788e-10]\n"
     ]
    }
   ],
   "source": [
    "import numpy as np\n",
    "from scipy.optimize import linprog\n",
    "\n",
    "c = np.array([-2, -3, 5])\n",
    "A = np.array([\n",
    "    [-2, 5, -1],\n",
    "    [1, 3, 1],\n",
    "])\n",
    "b = np.array([-10, 12])\n",
    "Aeq = np.array([[1, 1, 1]])\n",
    "beq = np.array([7])\n",
    "x1, x2, x3 = (0, None), (0, None), (0, None)\n",
    "\n",
    "res = linprog(c, A, b, Aeq, beq, (x1, x2, x3))\n",
    "print(res)\n",
    "print(-res.fun)\n",
    "print(res.x)"
   ]
  },
  {
   "cell_type": "markdown",
   "id": "aa90238d",
   "metadata": {},
   "source": [
    "# 微分方程"
   ]
  },
  {
   "cell_type": "markdown",
   "id": "9e61bcb6",
   "metadata": {},
   "source": [
    "`scipy.integrate.odeint(f(y, x), y0, xarray)`：\n",
    "- 用于求**微分方程数值解**，使用**欧拉法**和**龙格库塔法**\n",
    "- `f(y, x)`：一个函数，`y`和`x`分别是第一、第二个参数（可以只有这两个参数），参数`y`代表原函数，`x`代表自变量，***返回值是导数(根据微分方程得出来的导数)***\n",
    "> 注意，`y`和`x`的顺序不要反了，否则会出现warning\n",
    ">\n",
    "> 如果是高阶微分方程，返回值就是向量`[一阶导, 二阶导, ...]`(允许是普通的list)，具体参考“数学建模导论”\n",
    "- `y0`：**微分方程初值**中的$y_0$，如果是多阶的，那可以是向量:`[某点处的函数值, 原点处的一阶导数值, 原点处的二阶导数值, ...]`\n",
    "> 至于为什么一定是原点处，我现在还不知道，之后再说吧\n",
    "- `xarray`：单调数列(允许是`numpy.ndarray`)，第一个元素值必须是**微分方程的原函数初值**，一般都是0，和`y0`中的原函数对应\n",
    "\n",
    "`scipy.integrate.solve_ivp(f(x, y), span, y0array,  method='RK45', t_eval=None)`：\n",
    "- 用于求**常/偏微分方程(组)的数值解**\n",
    "- `f(x, y)`类似（注意x必须在前y必须在后），同样是接收`y`原函数，但由于是方程组，这个`y`会被当作向量，存储**一组原函数**；同样**返回导数**，但由于是方程组，返回的就是与`y`对应的**一组导数**\n",
    "- `span`：积分上下限，求函数的哪段\n",
    "- `y0array`：自变量等于0的时候的初值，**一组初值**\n",
    "> 至于为什么一定是原点处，我现在还不知道，之后再说吧\n",
    "- `t_eval`：数列，代表要求函数值的点，必须排序好，且要在`t_span`范围内。如果不指定则默认选择`solver`选择的点（我也不知道啥是`solver`）"
   ]
  },
  {
   "cell_type": "code",
   "execution_count": 4,
   "id": "68795bfb",
   "metadata": {},
   "outputs": [
    {
     "data": {
      "text/plain": [
       "array([[0.00000000e+000],\n",
       "       [4.17912909e-002],\n",
       "       [3.50232067e-001],\n",
       "       [1.51744848e+000],\n",
       "       [3.17753007e+002],\n",
       "       [4.61705896e+011],\n",
       "       [1.05699242e-307],\n",
       "       [8.01097889e-307],\n",
       "       [1.78020169e-306],\n",
       "       [7.56601165e-307],\n",
       "       [1.02359984e-306],\n",
       "       [1.69118108e-306],\n",
       "       [2.22522597e-306],\n",
       "       [1.78021119e-306],\n",
       "       [2.31421941e-306],\n",
       "       [1.24610587e-306],\n",
       "       [1.60220529e-306],\n",
       "       [1.60218220e-306],\n",
       "       [2.22522596e-306],\n",
       "       [1.78021527e-306],\n",
       "       [2.56761491e-312]])"
      ]
     },
     "execution_count": 4,
     "metadata": {},
     "output_type": "execute_result"
    }
   ],
   "source": [
    "# 解 y' = x^2 + y^2\n",
    "# 确定初值为 y(0) = 0\n",
    "from scipy.integrate import odeint\n",
    "from numpy import arange\n",
    "def dy(y, x):\n",
    "    return x*x + y*y\n",
    "y0 = 0\n",
    "xarray = arange(0, 10.5, 0.5)\n",
    "odeint(dy, y0, xarray)"
   ]
  },
  {
   "cell_type": "code",
   "execution_count": 16,
   "id": "5048b209",
   "metadata": {},
   "outputs": [
    {
     "data": {
      "image/png": "[encoded data removed]",
      "text/plain": [
       "<Figure size 460.8x403.2 with 1 Axes>"
      ]
     },
     "metadata": {},
     "output_type": "display_data"
    }
   ],
   "source": [
    "# 解 y' = 1/(x^2 + 1) - 2*y^2\n",
    "# 确定初值为 y(0) = 0\n",
    "from scipy.integrate import odeint\n",
    "from numpy import arange\n",
    "import matplotlib.pyplot as plt\n",
    "from jupyterthemes import jtplot\n",
    "jtplot.style()\n",
    "def dy(y, x):\n",
    "    return 1/(x*x + 1) - 2*y*y\n",
    "y0 = 0\n",
    "xarray = arange(0, 10.5, 0.1)\n",
    "sol = odeint(dy, y0, xarray)\n",
    "# print(sol)\n",
    "plt.plot(xarray, sol)\n",
    "plt.show()"
   ]
  },
  {
   "cell_type": "code",
   "execution_count": 23,
   "id": "a809ee90",
   "metadata": {},
   "outputs": [
    {
     "name": "stdout",
     "output_type": "stream",
     "text": [
      "[[0.00000000e+00 2.00000000e+00]\n",
      " [1.73172915e+00 2.64993688e+00]\n",
      " [1.73306156e+00 8.65022205e-04]\n",
      " [1.73307021e+00 8.65007750e-04]\n",
      " [1.73307886e+00 8.64999145e-04]\n",
      " [1.73308751e+00 8.64990526e-04]\n",
      " [1.73309616e+00 8.64981900e-04]\n",
      " [1.73310481e+00 8.64973277e-04]\n",
      " [1.73311346e+00 8.64964654e-04]\n",
      " [1.73312210e+00 8.64956030e-04]\n",
      " [1.73313075e+00 8.64947407e-04]\n",
      " [1.73313940e+00 8.64938784e-04]\n",
      " [1.73314805e+00 8.64930160e-04]\n",
      " [1.73315670e+00 8.64921537e-04]\n",
      " [1.73316535e+00 8.64912914e-04]\n",
      " [1.73317399e+00 8.64904291e-04]\n",
      " [1.73318264e+00 8.64895667e-04]\n",
      " [1.73319129e+00 8.64887044e-04]\n",
      " [1.73319994e+00 8.64878421e-04]\n",
      " [1.73320859e+00 8.64869797e-04]\n",
      " [1.73321724e+00 8.64861174e-04]\n",
      " [1.73322588e+00 8.64852551e-04]\n",
      " [1.73323453e+00 8.64843928e-04]\n",
      " [1.73324317e+00 8.64835344e-04]\n",
      " [1.73325182e+00 8.64826721e-04]]\n"
     ]
    },
    {
     "data": {
      "image/png": "[encoded data removed]",
      "text/plain": [
       "<Figure size 460.8x403.2 with 1 Axes>"
      ]
     },
     "metadata": {},
     "output_type": "display_data"
    }
   ],
   "source": [
    "from scipy.integrate import odeint\n",
    "from numpy import arange\n",
    "import matplotlib.pyplot as plt\n",
    "from jupyterthemes import jtplot\n",
    "jtplot.style()\n",
    "def func(y, x):\n",
    "    dy1 = y[1]\n",
    "    dy2 = 1000*(1 - y[0]*y[0])*y[1] + y[0]\n",
    "    return [dy1, dy2]\n",
    "xarray = arange(0, 0.25, 0.01)\n",
    "y0array = [0, 2]\n",
    "sol = odeint(func, y0array, xarray)\n",
    "print(sol)\n",
    "y1, = plt.plot(xarray, sol[:, 0], label='y')\n",
    "y1_1, = plt.plot(xarray, sol[:, 1], label='y')\n",
    "plt.legend(handles=[y1, y1_1])\n",
    "plt.show()"
   ]
  },
  {
   "cell_type": "code",
   "execution_count": 30,
   "id": "3a3df4c7",
   "metadata": {},
   "outputs": [
    {
     "data": {
      "text/plain": [
       "  message: 'The solver successfully reached the end of the integration interval.'\n",
       "     nfev: 98\n",
       "     njev: 0\n",
       "      nlu: 0\n",
       "      sol: None\n",
       "   status: 0\n",
       "  success: True\n",
       "        t: array([1, 2, 3, 4, 5, 6, 7, 8, 9])\n",
       " t_events: None\n",
       "        y: array([[3.67884370e-01, 1.35339524e-01, 4.97894988e-02, 1.83169149e-02,\n",
       "        6.73820121e-03, 2.47949426e-03, 9.12415333e-04, 3.35888197e-04,\n",
       "        1.23748327e-04],\n",
       "       [5.03465117e-01, 1.53728639e-01, 5.22837019e-02, 1.86553963e-02,\n",
       "        6.78398525e-03, 2.48593367e-03, 9.13360337e-04, 3.36039124e-04,\n",
       "        1.23776386e-04],\n",
       "       [1.35580747e-01, 1.83891149e-02, 2.49420308e-03, 3.38481424e-04,\n",
       "        4.57840268e-05, 6.43938328e-06, 9.44755602e-07, 1.49092952e-07,\n",
       "        1.45272818e-08]])\n",
       " y_events: None"
      ]
     },
     "execution_count": 30,
     "metadata": {},
     "output_type": "execute_result"
    }
   ],
   "source": [
    "from scipy.integrate import solve_ivp\n",
    "from numpy import arange\n",
    "def func(t, w):\n",
    "    x = w[0]\n",
    "    y = w[1]\n",
    "    z = w[2]\n",
    "    return [2*x - 3*y + 3*z, 4*x - 5*y +3*z, 4*x - 4*y + 2*z]\n",
    "t_span = (0, 10)\n",
    "w0array = [1, 2, 1]\n",
    "teval = arange(1, 10, 1)\n",
    "solve_ivp(func, t_span, w0array, t_eval=teval)\n",
    "# solve_ivp(func, t_span, w0array)"
   ]
  },
  {
   "cell_type": "code",
   "execution_count": 40,
   "id": "deefedbf",
   "metadata": {},
   "outputs": [
    {
     "data": {
      "image/png": "[encoded data removed]",
      "text/plain": [
       "<Figure size 460.8x403.2 with 1 Axes>"
      ]
     },
     "metadata": {},
     "output_type": "display_data"
    }
   ],
   "source": [
    "from scipy.integrate import solve_ivp\n",
    "from numpy import arange\n",
    "import matplotlib.pyplot as plt\n",
    "from jupyterthemes import jtplot\n",
    "jtplot.style()\n",
    "def func(t, w):\n",
    "    x = w[0]\n",
    "    y = w[1]\n",
    "    return [-x**3 - y, -y**3 + x]\n",
    "tspan = (0, 100)\n",
    "w0vector = [1, 0.5]\n",
    "teval = arange(0, 100, 0.5)\n",
    "yy = solve_ivp(func, tspan, w0vector, t_eval=teval)\n",
    "t = yy.t\n",
    "data = yy.y\n",
    "plt.rcParams['font.sans-serif'] = ['Microsoft YaHei']\n",
    "plt.plot(t, data[0, :])\n",
    "plt.plot(t, data[1, :])\n",
    "plt.xlabel(\"时间s\")\n",
    "plt.show()"
   ]
  },
  {
   "cell_type": "markdown",
   "id": "1422a334",
   "metadata": {},
   "source": [
    "# 稀疏矩阵"
   ]
  },
  {
   "cell_type": "markdown",
   "id": "4e05038e",
   "metadata": {},
   "source": [
    "# 图"
   ]
  },
  {
   "cell_type": "markdown",
   "id": "a8f19ae4",
   "metadata": {},
   "source": [
    "# 空间数据"
   ]
  },
  {
   "cell_type": "markdown",
   "id": "62f6b5df",
   "metadata": {},
   "source": [
    "# MatLab"
   ]
  },
  {
   "cell_type": "markdown",
   "id": "8552ce73",
   "metadata": {},
   "source": [
    "# 插值法"
   ]
  },
  {
   "cell_type": "markdown",
   "id": "879e1fbe",
   "metadata": {},
   "source": [
    "# 假设检验"
   ]
  }
 ],
 "metadata": {
  "kernelspec": {
   "display_name": "Python 3 (ipykernel)",
   "language": "python",
   "name": "python3"
  },
  "language_info": {
   "codemirror_mode": {
    "name": "ipython",
    "version": 3
   },
   "file_extension": ".py",
   "mimetype": "text/x-python",
   "name": "python",
   "nbconvert_exporter": "python",
   "pygments_lexer": "ipython3",
   "version": "3.9.12"
  },
  "toc": {
   "base_numbering": 1,
   "nav_menu": {},
   "number_sections": true,
   "sideBar": true,
   "skip_h1_title": false,
   "title_cell": "Table of Contents",
   "title_sidebar": "Contents",
   "toc_cell": false,
   "toc_position": {
    "height": "calc(100% - 180px)",
    "left": "10px",
    "top": "150px",
    "width": "349.091px"
   },
   "toc_section_display": true,
   "toc_window_display": true
  }
 },
 "nbformat": 4,
 "nbformat_minor": 5
}
