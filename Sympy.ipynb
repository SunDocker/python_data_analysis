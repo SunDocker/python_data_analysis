{
 "cells": [
  {
   "cell_type": "markdown",
   "id": "a3c9f002",
   "metadata": {},
   "source": [
    "# Sympy概述"
   ]
  },
  {
   "cell_type": "markdown",
   "id": "6cd20d2e",
   "metadata": {},
   "source": [
    "理解符号解与数值解"
   ]
  },
  {
   "cell_type": "code",
   "execution_count": 106,
   "id": "630106f2",
   "metadata": {},
   "outputs": [],
   "source": [
    "import sympy\n",
    "import math"
   ]
  },
  {
   "cell_type": "code",
   "execution_count": 2,
   "id": "c3eca7b8",
   "metadata": {},
   "outputs": [],
   "source": [
    "from sympy import *"
   ]
  },
  {
   "cell_type": "code",
   "execution_count": 2,
   "id": "0d4a66cc",
   "metadata": {},
   "outputs": [
    {
     "data": {
      "text/latex": [
       "$\\displaystyle 0$"
      ],
      "text/plain": [
       "0"
      ]
     },
     "execution_count": 2,
     "metadata": {},
     "output_type": "execute_result"
    }
   ],
   "source": [
    "sympy.sin(sympy.pi)"
   ]
  },
  {
   "cell_type": "code",
   "execution_count": 3,
   "id": "853e2598",
   "metadata": {},
   "outputs": [
    {
     "data": {
      "text/plain": [
       "1.2246467991473532e-16"
      ]
     },
     "execution_count": 3,
     "metadata": {},
     "output_type": "execute_result"
    }
   ],
   "source": [
    "math.sin(math.pi)"
   ]
  },
  {
   "cell_type": "code",
   "execution_count": 4,
   "id": "b8d26647",
   "metadata": {},
   "outputs": [
    {
     "data": {
      "text/latex": [
       "$\\displaystyle \\pi$"
      ],
      "text/plain": [
       "pi"
      ]
     },
     "execution_count": 4,
     "metadata": {},
     "output_type": "execute_result"
    }
   ],
   "source": [
    "sympy.pi"
   ]
  },
  {
   "cell_type": "code",
   "execution_count": 6,
   "id": "d6c5c283",
   "metadata": {},
   "outputs": [
    {
     "data": {
      "text/plain": [
       "3.141592653589793"
      ]
     },
     "execution_count": 6,
     "metadata": {},
     "output_type": "execute_result"
    }
   ],
   "source": [
    "math.pi"
   ]
  },
  {
   "cell_type": "markdown",
   "id": "aeec9d03",
   "metadata": {},
   "source": [
    "# Sympy基本操作"
   ]
  },
  {
   "cell_type": "markdown",
   "id": "3d5e3717",
   "metadata": {},
   "source": [
    "## 定义符号变量"
   ]
  },
  {
   "cell_type": "markdown",
   "id": "1bc416d1",
   "metadata": {},
   "source": [
    "分别定义：`x = sympy.Symbol('x')`\n",
    "- `x = sympy.Symbol('x_1')`，相当于`x = sympy.Symbol('x1')`\n",
    "- `a = sympy.Symbol('alpha')`\n",
    "- `b = sympy.Symbol('beta')`\n",
    "\n",
    "同时定义：\n",
    "- `y, z, k = sympy.symbols('y z k')`\n",
    "- `y, z, k = sympy.symbols('y, z, k')`\n",
    "- `var = sympy.symbols('x_start:end')`\n",
    "> 下标从start到end-1，`_`可以省略\n",
    "\n",
    "\n",
    "指定类型：\n",
    "- `n = sympy.Symbol('n', integer=True)`\n",
    "- `n = sympy.Symbol('n', odd=True)`\n",
    "- `y = sympy.symbols('y', cls=Function)`\n",
    "    - Function就是函数，代表这个符号变量是一个函数名，代表一个**抽象的函数**，后面可以跟**括号**，加**任意参数**。可用于**微分方程**中求解函数\n",
    "    - 如果不指定`cls=Function`，没办法在后面直接加括号\n",
    "    - 好像无法用`subs`方法替换`cls=Function`的符号变量，也不能像普通符号变量那样进行某些算术操作"
   ]
  },
  {
   "cell_type": "code",
   "execution_count": 8,
   "id": "8bcc189c",
   "metadata": {},
   "outputs": [
    {
     "data": {
      "text/latex": [
       "$\\displaystyle x$"
      ],
      "text/plain": [
       "x"
      ]
     },
     "execution_count": 8,
     "metadata": {},
     "output_type": "execute_result"
    }
   ],
   "source": [
    "x = sympy.Symbol('x')\n",
    "x"
   ]
  },
  {
   "cell_type": "code",
   "execution_count": 105,
   "id": "1a0e5651",
   "metadata": {},
   "outputs": [
    {
     "data": {
      "text/latex": [
       "$\\displaystyle x_{1}$"
      ],
      "text/plain": [
       "x_1"
      ]
     },
     "execution_count": 105,
     "metadata": {},
     "output_type": "execute_result"
    }
   ],
   "source": [
    "x = Symbol('x_1')\n",
    "x"
   ]
  },
  {
   "cell_type": "code",
   "execution_count": 104,
   "id": "585da2f2",
   "metadata": {},
   "outputs": [
    {
     "data": {
      "text/latex": [
       "$\\displaystyle x^{1}$"
      ],
      "text/plain": [
       "x^1"
      ]
     },
     "execution_count": 104,
     "metadata": {},
     "output_type": "execute_result"
    }
   ],
   "source": [
    "x = Symbol('x^1')\n",
    "x"
   ]
  },
  {
   "cell_type": "code",
   "execution_count": 108,
   "id": "4a4fccc5",
   "metadata": {},
   "outputs": [
    {
     "data": {
      "text/latex": [
       "$\\displaystyle x_{1}$"
      ],
      "text/plain": [
       "x1"
      ]
     },
     "execution_count": 108,
     "metadata": {},
     "output_type": "execute_result"
    }
   ],
   "source": [
    "x = Symbol('x1')\n",
    "x"
   ]
  },
  {
   "cell_type": "code",
   "execution_count": 101,
   "id": "4a0ce5e1",
   "metadata": {},
   "outputs": [
    {
     "data": {
      "text/latex": [
       "$\\displaystyle \\alpha$"
      ],
      "text/plain": [
       "alpha"
      ]
     },
     "execution_count": 101,
     "metadata": {},
     "output_type": "execute_result"
    }
   ],
   "source": [
    "a = Symbol('alpha')\n",
    "a"
   ]
  },
  {
   "cell_type": "code",
   "execution_count": 103,
   "id": "04e638cf",
   "metadata": {},
   "outputs": [
    {
     "data": {
      "text/latex": [
       "$\\displaystyle \\epsilon$"
      ],
      "text/plain": [
       "epsilon"
      ]
     },
     "execution_count": 103,
     "metadata": {},
     "output_type": "execute_result"
    }
   ],
   "source": [
    "e = Symbol('epsilon')\n",
    "e"
   ]
  },
  {
   "cell_type": "code",
   "execution_count": 20,
   "id": "2bff1a17",
   "metadata": {},
   "outputs": [],
   "source": [
    "y, z, k = sympy.symbols('y z k')\n",
    "# y, z, k = sympy.symbols('y, z, k')"
   ]
  },
  {
   "cell_type": "code",
   "execution_count": 112,
   "id": "03b28b2f",
   "metadata": {},
   "outputs": [
    {
     "data": {
      "text/plain": [
       "(x1, x2, x3, x4)"
      ]
     },
     "execution_count": 112,
     "metadata": {},
     "output_type": "execute_result"
    }
   ],
   "source": [
    "var = sympy.symbols('x1:5')\n",
    "var"
   ]
  },
  {
   "cell_type": "code",
   "execution_count": 113,
   "id": "a877154b",
   "metadata": {},
   "outputs": [
    {
     "data": {
      "text/latex": [
       "$\\displaystyle x_{4}$"
      ],
      "text/plain": [
       "x4"
      ]
     },
     "execution_count": 113,
     "metadata": {},
     "output_type": "execute_result"
    }
   ],
   "source": [
    "var[-1]"
   ]
  },
  {
   "cell_type": "code",
   "execution_count": 24,
   "id": "c173b64b",
   "metadata": {},
   "outputs": [
    {
     "data": {
      "text/latex": [
       "$\\displaystyle \\sqrt{x}$"
      ],
      "text/plain": [
       "sqrt(x)"
      ]
     },
     "execution_count": 24,
     "metadata": {},
     "output_type": "execute_result"
    }
   ],
   "source": [
    "sympy.sqrt(x)"
   ]
  },
  {
   "cell_type": "code",
   "execution_count": 26,
   "id": "a4474f1e",
   "metadata": {},
   "outputs": [
    {
     "data": {
      "text/latex": [
       "$\\displaystyle \\sqrt{x^{2}}$"
      ],
      "text/plain": [
       "sqrt(x**2)"
      ]
     },
     "execution_count": 26,
     "metadata": {},
     "output_type": "execute_result"
    }
   ],
   "source": [
    "sympy.sqrt(x ** 2)"
   ]
  },
  {
   "cell_type": "code",
   "execution_count": 27,
   "id": "0ba91aa6",
   "metadata": {},
   "outputs": [
    {
     "data": {
      "text/latex": [
       "$\\displaystyle \\sqrt{x^{2} + \\sin{\\left(x \\right)}}$"
      ],
      "text/plain": [
       "sqrt(x**2 + sin(x))"
      ]
     },
     "execution_count": 27,
     "metadata": {},
     "output_type": "execute_result"
    }
   ],
   "source": [
    "sympy.sqrt(x ** 2 + sympy.sin(x))"
   ]
  },
  {
   "cell_type": "code",
   "execution_count": 108,
   "id": "48dad5fe",
   "metadata": {},
   "outputs": [],
   "source": [
    "n1 = sympy.Symbol('n1')\n",
    "n2 = sympy.Symbol('n2', integer = True)\n",
    "n3 = sympy.Symbol('n3', odd = True)"
   ]
  },
  {
   "cell_type": "code",
   "execution_count": 39,
   "id": "ae19bfd0",
   "metadata": {},
   "outputs": [
    {
     "data": {
      "text/latex": [
       "$\\displaystyle \\cos{\\left(\\pi n_{1} \\right)}$"
      ],
      "text/plain": [
       "cos(pi*n1)"
      ]
     },
     "execution_count": 39,
     "metadata": {},
     "output_type": "execute_result"
    }
   ],
   "source": [
    "sympy.cos(n1 * sympy.pi)"
   ]
  },
  {
   "cell_type": "code",
   "execution_count": 38,
   "id": "5557c533",
   "metadata": {},
   "outputs": [
    {
     "data": {
      "text/latex": [
       "$\\displaystyle \\left(-1\\right)^{n_{2}}$"
      ],
      "text/plain": [
       "(-1)**n2"
      ]
     },
     "execution_count": 38,
     "metadata": {},
     "output_type": "execute_result"
    }
   ],
   "source": [
    "sympy.cos(n2 * sympy.pi)"
   ]
  },
  {
   "cell_type": "code",
   "execution_count": 109,
   "id": "6b9e619b",
   "metadata": {},
   "outputs": [
    {
     "data": {
      "text/latex": [
       "$\\displaystyle -1$"
      ],
      "text/plain": [
       "-1"
      ]
     },
     "execution_count": 109,
     "metadata": {},
     "output_type": "execute_result"
    }
   ],
   "source": [
    "sympy.cos(n3 * sympy.pi)"
   ]
  },
  {
   "cell_type": "code",
   "execution_count": 111,
   "id": "6fc498cb",
   "metadata": {},
   "outputs": [
    {
     "data": {
      "text/latex": [
       "$\\displaystyle \\log{\\left(n_{2} \\right)}$"
      ],
      "text/plain": [
       "log(n2)"
      ]
     },
     "execution_count": 111,
     "metadata": {},
     "output_type": "execute_result"
    }
   ],
   "source": [
    "sympy.log(n2)"
   ]
  },
  {
   "cell_type": "code",
   "execution_count": 113,
   "id": "584eccb3",
   "metadata": {},
   "outputs": [
    {
     "data": {
      "text/latex": [
       "$\\displaystyle \\log{\\left(n_{1} \\right)}$"
      ],
      "text/plain": [
       "log(n1)"
      ]
     },
     "execution_count": 113,
     "metadata": {},
     "output_type": "execute_result"
    }
   ],
   "source": [
    "sympy.ln(n1)"
   ]
  },
  {
   "cell_type": "code",
   "execution_count": 114,
   "id": "4390d310",
   "metadata": {},
   "outputs": [
    {
     "data": {
      "text/latex": [
       "$\\displaystyle \\tilde{\\infty}$"
      ],
      "text/plain": [
       "zoo"
      ]
     },
     "execution_count": 114,
     "metadata": {},
     "output_type": "execute_result"
    }
   ],
   "source": [
    "sympy.ln(0)"
   ]
  },
  {
   "cell_type": "code",
   "execution_count": 166,
   "id": "d997a2d0",
   "metadata": {},
   "outputs": [],
   "source": [
    "x, t = symbols('x t')\n",
    "y = symbols('y', cls=Function)"
   ]
  },
  {
   "cell_type": "code",
   "execution_count": 167,
   "id": "ab0845ba",
   "metadata": {},
   "outputs": [
    {
     "data": {
      "text/latex": [
       "$\\displaystyle y{\\left(x \\right)}$"
      ],
      "text/plain": [
       "y(x)"
      ]
     },
     "execution_count": 167,
     "metadata": {},
     "output_type": "execute_result"
    }
   ],
   "source": [
    "y(x)"
   ]
  },
  {
   "cell_type": "code",
   "execution_count": 171,
   "id": "27b8e6dc",
   "metadata": {},
   "outputs": [
    {
     "data": {
      "text/latex": [
       "$\\displaystyle y{\\left(t,x \\right)}$"
      ],
      "text/plain": [
       "y(t, x)"
      ]
     },
     "execution_count": 171,
     "metadata": {},
     "output_type": "execute_result"
    }
   ],
   "source": [
    "y(t, x)"
   ]
  },
  {
   "cell_type": "code",
   "execution_count": 176,
   "id": "5e8193ee",
   "metadata": {},
   "outputs": [
    {
     "data": {
      "text/latex": [
       "$\\displaystyle \\frac{\\partial}{\\partial x} y{\\left(x,t \\right)}$"
      ],
      "text/plain": [
       "Derivative(y(x, t), x)"
      ]
     },
     "execution_count": 176,
     "metadata": {},
     "output_type": "execute_result"
    }
   ],
   "source": [
    "y(x, t).diff(x)"
   ]
  },
  {
   "cell_type": "code",
   "execution_count": 180,
   "id": "3338c240",
   "metadata": {},
   "outputs": [
    {
     "data": {
      "text/latex": [
       "$\\displaystyle y{\\left(2 \\right)}$"
      ],
      "text/plain": [
       "y(2)"
      ]
     },
     "execution_count": 180,
     "metadata": {},
     "output_type": "execute_result"
    }
   ],
   "source": [
    "y(x).subs(x, 2)"
   ]
  },
  {
   "cell_type": "markdown",
   "id": "5314a05c",
   "metadata": {},
   "source": [
    "## 表达式"
   ]
  },
  {
   "cell_type": "markdown",
   "id": "dcc2737b",
   "metadata": {},
   "source": [
    "定义方式：\n",
    "- 直接使用`=`将带有符号变量和`sympy`函数的表达式赋值即可\n",
    "- 将字符串转换为表达式`sympy.sympify(str_expr)`\n",
    "\n",
    "替换操作：\n",
    "> 可用于函数换元，也可用于函数指定自变量求值\n",
    "- 单个替换：`expr.subs(old, new)`\n",
    "- 多个替换：`expr.subs([(old1, new1), (old2, new2), ...)])`\n",
    "\n",
    "> 注意**类型问题**，就算被替换后结果是数字，也并不是python中普通的数字类型，而是sympy库中定义的类型\n",
    "\n",
    "为数值解指定精度：\n",
    "- `expr.evalf(accuracy)`\n",
    "- 在某点求值(设置了精度)：`expr.evalf(accuracy, subs={x: number}`\n",
    "> 与subs相比，求值时可以设置精度\n",
    "- 忽略较小误差：`expr.evalf(chop=True)`"
   ]
  },
  {
   "cell_type": "code",
   "execution_count": 116,
   "id": "94ebb515",
   "metadata": {},
   "outputs": [
    {
     "data": {
      "text/latex": [
       "$\\displaystyle e^{\\cos{\\left(x \\right)}} + 1$"
      ],
      "text/plain": [
       "exp(cos(x)) + 1"
      ]
     },
     "execution_count": 116,
     "metadata": {},
     "output_type": "execute_result"
    }
   ],
   "source": [
    "x, y, z = symbols('x y z')\n",
    "expr = exp(cos(x)) + 1\n",
    "expr"
   ]
  },
  {
   "cell_type": "code",
   "execution_count": 117,
   "id": "48f3993c",
   "metadata": {},
   "outputs": [
    {
     "data": {
      "text/latex": [
       "$\\displaystyle 1 + e$"
      ],
      "text/plain": [
       "1 + E"
      ]
     },
     "execution_count": 117,
     "metadata": {},
     "output_type": "execute_result"
    }
   ],
   "source": [
    "expr.subs(x, 0)"
   ]
  },
  {
   "cell_type": "code",
   "execution_count": 118,
   "id": "0b5dcd76",
   "metadata": {},
   "outputs": [
    {
     "data": {
      "text/latex": [
       "$\\displaystyle e^{\\cos{\\left(x \\right)}} + 1$"
      ],
      "text/plain": [
       "exp(cos(x)) + 1"
      ]
     },
     "execution_count": 118,
     "metadata": {},
     "output_type": "execute_result"
    }
   ],
   "source": [
    "t = Symbol('t')\n",
    "x = Symbol('x')\n",
    "expr1 = exp(t) + 1\n",
    "expr2 = cos(x)\n",
    "expr_new = expr1.subs(t, expr2)\n",
    "expr_new"
   ]
  },
  {
   "cell_type": "code",
   "execution_count": 122,
   "id": "c19df75f",
   "metadata": {},
   "outputs": [
    {
     "data": {
      "text/latex": [
       "$\\displaystyle 40 - z$"
      ],
      "text/plain": [
       "40 - z"
      ]
     },
     "execution_count": 122,
     "metadata": {},
     "output_type": "execute_result"
    }
   ],
   "source": [
    "expr_mul = x ** 3 + 4 * y * x - z\n",
    "expr_mul.subs([(x, 2), (y, 4)])"
   ]
  },
  {
   "cell_type": "code",
   "execution_count": 125,
   "id": "fc721aca",
   "metadata": {},
   "outputs": [
    {
     "data": {
      "text/latex": [
       "$\\displaystyle 2.82842712474619009760337744842$"
      ],
      "text/plain": [
       "2.82842712474619009760337744842"
      ]
     },
     "execution_count": 125,
     "metadata": {},
     "output_type": "execute_result"
    }
   ],
   "source": [
    "expr = sqrt(8)\n",
    "expr.evalf(30)"
   ]
  },
  {
   "cell_type": "code",
   "execution_count": 127,
   "id": "11f96599",
   "metadata": {},
   "outputs": [
    {
     "data": {
      "text/latex": [
       "$\\displaystyle 3.141592653589793238462643383279502884197169399375105820974944592307816406286208998628034825342117068$"
      ],
      "text/plain": [
       "3.141592653589793238462643383279502884197169399375105820974944592307816406286208998628034825342117068"
      ]
     },
     "execution_count": 127,
     "metadata": {},
     "output_type": "execute_result"
    }
   ],
   "source": [
    "pi.evalf(100)"
   ]
  },
  {
   "cell_type": "code",
   "execution_count": 129,
   "id": "c2892262",
   "metadata": {},
   "outputs": [
    {
     "data": {
      "text/latex": [
       "$\\displaystyle 0.087498983439446392365833650247410931894111629665389$"
      ],
      "text/plain": [
       "0.087498983439446392365833650247410931894111629665389"
      ]
     },
     "execution_count": 129,
     "metadata": {},
     "output_type": "execute_result"
    }
   ],
   "source": [
    "expr = cos(2 * x)\n",
    "expr.evalf(50, subs={x: 2.4})"
   ]
  },
  {
   "cell_type": "code",
   "execution_count": 130,
   "id": "7170656a",
   "metadata": {},
   "outputs": [
    {
     "data": {
      "text/latex": [
       "$\\displaystyle 0.3$"
      ],
      "text/plain": [
       "0.300000000000000"
      ]
     },
     "execution_count": 130,
     "metadata": {},
     "output_type": "execute_result"
    }
   ],
   "source": [
    "expr = sympify('0.1 + 0.2')\n",
    "expr.evalf(chop=True)"
   ]
  },
  {
   "cell_type": "markdown",
   "id": "3d535d16",
   "metadata": {},
   "source": [
    "## 多项式"
   ]
  },
  {
   "cell_type": "markdown",
   "id": "3c8c7659",
   "metadata": {},
   "source": [
    "提取某一项：`exp.args[i]`\n",
    "> 从常数项开始索引\n",
    "\n",
    "> 注意多项式中没有负数次幂\n",
    "\n",
    "提取某一项的系数或变量：`exp.args[i].args[0 or 1]`"
   ]
  },
  {
   "cell_type": "code",
   "execution_count": 94,
   "id": "33dcf9e7",
   "metadata": {},
   "outputs": [
    {
     "data": {
      "text/latex": [
       "$\\displaystyle 3 x^{3} + 9 x^{2} + 4 x + 900$"
      ],
      "text/plain": [
       "3*x**3 + 9*x**2 + 4*x + 900"
      ]
     },
     "execution_count": 94,
     "metadata": {},
     "output_type": "execute_result"
    }
   ],
   "source": [
    "x = sympy.Symbol('x')\n",
    "exp = 3 * x ** 3 + 4 * x + 900 + 9 * x ** 2\n",
    "exp"
   ]
  },
  {
   "cell_type": "code",
   "execution_count": 95,
   "id": "721ac646",
   "metadata": {},
   "outputs": [
    {
     "data": {
      "text/latex": [
       "$\\displaystyle 3 x^{3}$"
      ],
      "text/plain": [
       "3*x**3"
      ]
     },
     "execution_count": 95,
     "metadata": {},
     "output_type": "execute_result"
    }
   ],
   "source": [
    "exp.args[1]"
   ]
  },
  {
   "cell_type": "code",
   "execution_count": 123,
   "id": "1a205d35",
   "metadata": {},
   "outputs": [
    {
     "data": {
      "text/latex": [
       "$\\displaystyle x^{2} + 2 x + 1$"
      ],
      "text/plain": [
       "x**2 + 2*x + 1"
      ]
     },
     "execution_count": 123,
     "metadata": {},
     "output_type": "execute_result"
    }
   ],
   "source": [
    "str_expr = 'x ** 2 + 2 * x + 1'\n",
    "sympify(str_expr)"
   ]
  },
  {
   "cell_type": "markdown",
   "id": "ef630483",
   "metadata": {},
   "source": [
    "## 等式与方程"
   ]
  },
  {
   "cell_type": "markdown",
   "id": "e1048709",
   "metadata": {},
   "source": [
    "`sympy.Eq(expr1, expr2)`：\n",
    "- 代表一个等式\n",
    "- 如果很容易得到是否相等，则该对象相当于`True`或`False`(当然是sympy中的类型)\n",
    "- 如果不容器得到是否相等，则该对象会保持未计算的样子\n",
    "> 当然，也可以通过`evaluate=False`来强制保持未计算的样子\n",
    "- 尝试进一步计算该对象有两种方式：\n",
    "    - `simplyfi(expr)`简化函数\n",
    "    - `expr.doit()`：这个好像不一定管用，我也不知道为啥"
   ]
  },
  {
   "cell_type": "code",
   "execution_count": 133,
   "id": "85f02861",
   "metadata": {},
   "outputs": [],
   "source": [
    "from sympy import symbols, Eq, simplify, exp, cos\n",
    "x, y = symbols('x y')"
   ]
  },
  {
   "cell_type": "code",
   "execution_count": 135,
   "id": "87da6103",
   "metadata": {},
   "outputs": [
    {
     "data": {
      "text/latex": [
       "$\\displaystyle y = x^{2} + x$"
      ],
      "text/plain": [
       "Eq(y, x**2 + x)"
      ]
     },
     "execution_count": 135,
     "metadata": {},
     "output_type": "execute_result"
    }
   ],
   "source": [
    "Eq(y, x + x ** 2)"
   ]
  },
  {
   "cell_type": "code",
   "execution_count": 137,
   "id": "50ed49e4",
   "metadata": {},
   "outputs": [
    {
     "data": {
      "text/latex": [
       "$\\displaystyle \\text{False}$"
      ],
      "text/plain": [
       "False"
      ]
     },
     "execution_count": 137,
     "metadata": {},
     "output_type": "execute_result"
    }
   ],
   "source": [
    "Eq(2, 5)"
   ]
  },
  {
   "cell_type": "code",
   "execution_count": 142,
   "id": "4a20c00e",
   "metadata": {},
   "outputs": [
    {
     "name": "stdout",
     "output_type": "stream",
     "text": [
      "<class 'sympy.core.relational.Equality'>\n",
      "<class 'sympy.logic.boolalg.BooleanFalse'>\n"
     ]
    }
   ],
   "source": [
    "print(type(Eq(y, x + x ** 2)))\n",
    "print(type(Eq(2, 5)))"
   ]
  },
  {
   "cell_type": "code",
   "execution_count": 148,
   "id": "7fb1b4a2",
   "metadata": {},
   "outputs": [
    {
     "data": {
      "text/latex": [
       "$\\displaystyle y = x \\left(x + 1\\right)$"
      ],
      "text/plain": [
       "Eq(y, x*(x + 1))"
      ]
     },
     "execution_count": 148,
     "metadata": {},
     "output_type": "execute_result"
    }
   ],
   "source": [
    "simplify(Eq(y, x + x ** 2))"
   ]
  },
  {
   "cell_type": "code",
   "execution_count": 143,
   "id": "bc610d5d",
   "metadata": {},
   "outputs": [
    {
     "data": {
      "text/latex": [
       "$\\displaystyle y = x^{2} + x$"
      ],
      "text/plain": [
       "Eq(y, x**2 + x)"
      ]
     },
     "execution_count": 143,
     "metadata": {},
     "output_type": "execute_result"
    }
   ],
   "source": [
    "Eq(y, x + x ** 2).doit()"
   ]
  },
  {
   "cell_type": "code",
   "execution_count": 146,
   "id": "cd6392d9",
   "metadata": {},
   "outputs": [
    {
     "data": {
      "text/latex": [
       "$\\displaystyle \\text{True}$"
      ],
      "text/plain": [
       "True"
      ]
     },
     "execution_count": 146,
     "metadata": {},
     "output_type": "execute_result"
    }
   ],
   "source": [
    "Eq(y, x + x ** 2).subs([(x, 1), (y, 2)])"
   ]
  },
  {
   "cell_type": "code",
   "execution_count": 150,
   "id": "15057630",
   "metadata": {},
   "outputs": [
    {
     "data": {
      "text/latex": [
       "$\\displaystyle \\left(x + 1\\right)^{2} = x^{2} + 2 x + 1$"
      ],
      "text/plain": [
       "Eq((x + 1)**2, x**2 + 2*x + 1)"
      ]
     },
     "execution_count": 150,
     "metadata": {},
     "output_type": "execute_result"
    }
   ],
   "source": [
    "Eq((x + 1)**2, x**2 + 2*x + 1)"
   ]
  },
  {
   "cell_type": "code",
   "execution_count": 153,
   "id": "0ea1f711",
   "metadata": {},
   "outputs": [
    {
     "data": {
      "text/latex": [
       "$\\displaystyle \\left(x + 1\\right)^{2} = x^{2} + 2 x + 1$"
      ],
      "text/plain": [
       "Eq((x + 1)**2, x**2 + 2*x + 1)"
      ]
     },
     "execution_count": 153,
     "metadata": {},
     "output_type": "execute_result"
    }
   ],
   "source": [
    "Eq((x + 1)**2, x**2 + 2*x + 1).doit()"
   ]
  },
  {
   "cell_type": "code",
   "execution_count": 154,
   "id": "88c313e8",
   "metadata": {},
   "outputs": [
    {
     "data": {
      "text/latex": [
       "$\\displaystyle \\text{True}$"
      ],
      "text/plain": [
       "True"
      ]
     },
     "execution_count": 154,
     "metadata": {},
     "output_type": "execute_result"
    }
   ],
   "source": [
    "simplify(Eq((x + 1)**2, x**2 + 2*x + 1))"
   ]
  },
  {
   "cell_type": "markdown",
   "id": "17358ae0",
   "metadata": {},
   "source": [
    "# Sympy简化操作"
   ]
  },
  {
   "cell_type": "markdown",
   "id": "584aa76d",
   "metadata": {},
   "source": [
    "`simplify(expr)`函数：\n",
    "- 自动选择一个最佳方式简化表达式\n",
    "- 有时不充分或不明确\n",
    "- 对于复杂表达式速度可能会比较慢\n",
    "> 因为可能需要尝试多个化简方法\n",
    "\n",
    "`expand(expr)`函数：\n",
    "- 将表达式转化为简单的单项式和的形式。\n",
    "- 输入的表达式不一定只是多项式，可以是任何类型的表达式。\n",
    "\n",
    "`factor(expr)`函数：\n",
    "- 将多项式转化为若干个不能继续分解的表达式的乘积。\n",
    "- 如果只是对分解后的各个因式感兴趣，可以使用`factor_list(expr)`获得一个结构化输出。\n",
    "> 比较关注的是`factor_list(expr)[1]`的情况\n",
    "- 输入的表达式不一定只是多项式，可以是任何类型的表达式。\n",
    "\n",
    "`collect(expr, x)`函数：\n",
    "- 合并表达式中具有相同幂数的某个符号变量\n",
    "- collect()与coeff()方法搭配使用，能够输出表达式中x^n的系数：`collect(expr,x).coeff(x,n)`\n",
    "\n",
    "`cancel(expr)`函数：\n",
    "- 将有理分式转化为标准规范形式：p/q，其中p、q是无公因式的展开多项式，且p、q的系数全部为整数\n",
    "\n",
    "`apart(expr)`函数：\n",
    "- 将表达式分解成若干个次数较低的有理函分式和的形式，来降低分子或分母多项式的次数。\n",
    "    - 分式的分母需为不可约多项式。\n",
    "    - 分子多项式次数需比分母多项式次数要低。\n",
    "    \n",
    "反三角函数：\n",
    "- `acos()`、`asin()`、`atan()`、`acot()`\n",
    "\n",
    "`trigsimp(expr)`函数：\n",
    "- 利用所有的三角恒等式化简表达式\n",
    "\n",
    "`expand_trig(expr)`函数：\n",
    "- 利用所有的三角恒等式展开表达式\n",
    "\n",
    "`powsimp(expr, force=False)`函数：\n",
    "- 根据等式$x^ax^b=x^{a+b}$从左向右化简\n",
    "- 根据等式$x^ay^a=(xy)^a~~x,y\\ge0$从左向右化简\n",
    "    - 需要指明定义域，否则函数无效，具体指定方式见下面的例子\n",
    "    - 如果没指明定义域，也可以用`force`参数强制执行函数，见下例\n",
    "\n",
    "`expand_power_exp(expr, force=False)`函数：\n",
    "- 根据等式$x^ax^b=x^{a+b}$从右向左化简\n",
    "- 根据等式$x^ay^a=(xy)^a~~x,y\\ge0$从左向右化简\n",
    "    - 需要指明定义域，否则函数无效，具体指定方式见下面的例子\n",
    "    - 如果没指明定义域，也可以用`force`参数强制执行函数，见下例\n",
    "    \n",
    "`powdenest(expr, force=True)`函数\n",
    "- 根据等式$(x^a)^b=x^{ab}$从右向左化简\n",
    "    - 要求$b\\in Z$\n",
    "    \n",
    "> 以上这些函数中，有的也是表达式对象自身的方法（或者说都是，我目前也没试过）"
   ]
  },
  {
   "cell_type": "markdown",
   "id": "00a3a67e",
   "metadata": {},
   "source": [
    "## simplify"
   ]
  },
  {
   "cell_type": "code",
   "execution_count": 131,
   "id": "629c90e9",
   "metadata": {},
   "outputs": [
    {
     "data": {
      "text/latex": [
       "$\\displaystyle 1$"
      ],
      "text/plain": [
       "1"
      ]
     },
     "execution_count": 131,
     "metadata": {},
     "output_type": "execute_result"
    }
   ],
   "source": [
    "x, y, z = symbols('x y z')\n",
    "expr = cos(x) ** 2 + sin(x) ** 2\n",
    "simplify(expr)"
   ]
  },
  {
   "cell_type": "code",
   "execution_count": 133,
   "id": "bb20b712",
   "metadata": {},
   "outputs": [
    {
     "data": {
      "text/latex": [
       "$\\displaystyle \\frac{x^{3} + x^{2} - x - 1}{x^{2} + 2 x + 1}$"
      ],
      "text/plain": [
       "(x**3 + x**2 - x - 1)/(x**2 + 2*x + 1)"
      ]
     },
     "execution_count": 133,
     "metadata": {},
     "output_type": "execute_result"
    }
   ],
   "source": [
    "expr = (x ** 3 + x ** 2 - x - 1) / (x ** 2 + 2 * x + 1)\n",
    "expr"
   ]
  },
  {
   "cell_type": "code",
   "execution_count": 135,
   "id": "c3bee439",
   "metadata": {},
   "outputs": [
    {
     "data": {
      "text/latex": [
       "$\\displaystyle x - 1$"
      ],
      "text/plain": [
       "x - 1"
      ]
     },
     "execution_count": 135,
     "metadata": {},
     "output_type": "execute_result"
    }
   ],
   "source": [
    "simplify(expr)"
   ]
  },
  {
   "cell_type": "code",
   "execution_count": 137,
   "id": "78a13d3a",
   "metadata": {},
   "outputs": [
    {
     "data": {
      "text/latex": [
       "$\\displaystyle x^{2} + 2 x + 1$"
      ],
      "text/plain": [
       "x**2 + 2*x + 1"
      ]
     },
     "execution_count": 137,
     "metadata": {},
     "output_type": "execute_result"
    }
   ],
   "source": [
    "expr = x ** 2 + 2 * x + 1\n",
    "simplify(expr)"
   ]
  },
  {
   "cell_type": "markdown",
   "id": "79d2c556",
   "metadata": {},
   "source": [
    "## expand"
   ]
  },
  {
   "cell_type": "code",
   "execution_count": 139,
   "id": "10198448",
   "metadata": {},
   "outputs": [
    {
     "data": {
      "text/latex": [
       "$\\displaystyle x^{2} + 2 x + 1$"
      ],
      "text/plain": [
       "x**2 + 2*x + 1"
      ]
     },
     "execution_count": 139,
     "metadata": {},
     "output_type": "execute_result"
    }
   ],
   "source": [
    "expand((x + 1) ** 2)"
   ]
  },
  {
   "cell_type": "markdown",
   "id": "e6c1bc85",
   "metadata": {},
   "source": [
    "## factor"
   ]
  },
  {
   "cell_type": "code",
   "execution_count": 141,
   "id": "c8ad1efe",
   "metadata": {},
   "outputs": [
    {
     "data": {
      "text/latex": [
       "$\\displaystyle \\left(x + 1\\right)^{2}$"
      ],
      "text/plain": [
       "(x + 1)**2"
      ]
     },
     "execution_count": 141,
     "metadata": {},
     "output_type": "execute_result"
    }
   ],
   "source": [
    "expr = x ** 2 + 2 * x + 1\n",
    "factor(expr)"
   ]
  },
  {
   "cell_type": "code",
   "execution_count": 145,
   "id": "7135c7bd",
   "metadata": {},
   "outputs": [
    {
     "data": {
      "text/latex": [
       "$\\displaystyle \\left(x - y\\right) \\left(x^{2} + x y + y^{2}\\right)$"
      ],
      "text/plain": [
       "(x - y)*(x**2 + x*y + y**2)"
      ]
     },
     "execution_count": 145,
     "metadata": {},
     "output_type": "execute_result"
    }
   ],
   "source": [
    "factor(x**3 - y**3)"
   ]
  },
  {
   "cell_type": "code",
   "execution_count": 147,
   "id": "42ba114e",
   "metadata": {},
   "outputs": [
    {
     "data": {
      "text/latex": [
       "$\\displaystyle z \\left(x + 2 y\\right)^{2}$"
      ],
      "text/plain": [
       "z*(x + 2*y)**2"
      ]
     },
     "execution_count": 147,
     "metadata": {},
     "output_type": "execute_result"
    }
   ],
   "source": [
    "factor(x**2*z+4*x*y*z+4*y**2*z)"
   ]
  },
  {
   "cell_type": "code",
   "execution_count": 149,
   "id": "eddc7c31",
   "metadata": {},
   "outputs": [
    {
     "data": {
      "text/plain": [
       "(1, [(z, 1), (x + 2*y, 2)])"
      ]
     },
     "execution_count": 149,
     "metadata": {},
     "output_type": "execute_result"
    }
   ],
   "source": [
    "factor_list(x**2*z+4*x*y*z+4*y**2*z)"
   ]
  },
  {
   "cell_type": "code",
   "execution_count": 152,
   "id": "997ff2de",
   "metadata": {},
   "outputs": [
    {
     "data": {
      "text/latex": [
       "$\\displaystyle x + 2 y$"
      ],
      "text/plain": [
       "x + 2*y"
      ]
     },
     "execution_count": 152,
     "metadata": {},
     "output_type": "execute_result"
    }
   ],
   "source": [
    "factor_list(x**2*z+4*x*y*z+4*y**2*z)[1][1][0]"
   ]
  },
  {
   "cell_type": "code",
   "execution_count": 154,
   "id": "ee7bdd79",
   "metadata": {},
   "outputs": [
    {
     "data": {
      "text/latex": [
       "$\\displaystyle \\left(\\sin{\\left(x \\right)} + \\cos{\\left(x \\right)}\\right)^{2}$"
      ],
      "text/plain": [
       "(sin(x) + cos(x))**2"
      ]
     },
     "execution_count": 154,
     "metadata": {},
     "output_type": "execute_result"
    }
   ],
   "source": [
    "factor(sin(x)**2 + 2 * sin(x) * cos(x) + cos(x)**2)"
   ]
  },
  {
   "cell_type": "markdown",
   "id": "73350793",
   "metadata": {},
   "source": [
    "## collect"
   ]
  },
  {
   "cell_type": "code",
   "execution_count": 155,
   "id": "1318a7b3",
   "metadata": {},
   "outputs": [],
   "source": [
    "expr = x * y + x - 3 + 2 * x ** 2 - z * x ** 2 + x ** 3"
   ]
  },
  {
   "cell_type": "code",
   "execution_count": 158,
   "id": "8900a977",
   "metadata": {},
   "outputs": [
    {
     "data": {
      "text/latex": [
       "$\\displaystyle x^{3} + x^{2} \\cdot \\left(2 - z\\right) + x \\left(y + 1\\right) - 3$"
      ],
      "text/plain": [
       "x**3 + x**2*(2 - z) + x*(y + 1) - 3"
      ]
     },
     "execution_count": 158,
     "metadata": {},
     "output_type": "execute_result"
    }
   ],
   "source": [
    "collect(expr, x)"
   ]
  },
  {
   "cell_type": "code",
   "execution_count": 160,
   "id": "f9282670",
   "metadata": {},
   "outputs": [
    {
     "data": {
      "text/latex": [
       "$\\displaystyle y + 1$"
      ],
      "text/plain": [
       "y + 1"
      ]
     },
     "execution_count": 160,
     "metadata": {},
     "output_type": "execute_result"
    }
   ],
   "source": [
    "collect(expr, x).coeff(x, 1)"
   ]
  },
  {
   "cell_type": "markdown",
   "id": "3cbc9c07",
   "metadata": {},
   "source": [
    "## 有理分式化简"
   ]
  },
  {
   "cell_type": "code",
   "execution_count": 162,
   "id": "441e10ee",
   "metadata": {},
   "outputs": [
    {
     "data": {
      "text/latex": [
       "$\\displaystyle \\frac{\\frac{3 x}{2} - 2}{x - 4} + \\frac{1}{x}$"
      ],
      "text/plain": [
       "(3*x/2 - 2)/(x - 4) + 1/x"
      ]
     },
     "execution_count": 162,
     "metadata": {},
     "output_type": "execute_result"
    }
   ],
   "source": [
    "expr = 1 / x + (3 * x / 2 - 2)/(x - 4)\n",
    "expr"
   ]
  },
  {
   "cell_type": "code",
   "execution_count": 164,
   "id": "29d47c98",
   "metadata": {},
   "outputs": [
    {
     "data": {
      "text/latex": [
       "$\\displaystyle \\frac{3 x^{2} - 2 x - 8}{2 x^{2} - 8 x}$"
      ],
      "text/plain": [
       "(3*x**2 - 2*x - 8)/(2*x**2 - 8*x)"
      ]
     },
     "execution_count": 164,
     "metadata": {},
     "output_type": "execute_result"
    }
   ],
   "source": [
    "cancel(expr)"
   ]
  },
  {
   "cell_type": "code",
   "execution_count": 166,
   "id": "21a7caca",
   "metadata": {},
   "outputs": [
    {
     "data": {
      "text/latex": [
       "$\\displaystyle \\frac{3}{2} + \\frac{4}{x - 4} + \\frac{1}{x}$"
      ],
      "text/plain": [
       "3/2 + 4/(x - 4) + 1/x"
      ]
     },
     "execution_count": 166,
     "metadata": {},
     "output_type": "execute_result"
    }
   ],
   "source": [
    "apart(cancel(expr))"
   ]
  },
  {
   "cell_type": "code",
   "execution_count": 168,
   "id": "acbb6b95",
   "metadata": {},
   "outputs": [
    {
     "data": {
      "text/latex": [
       "$\\displaystyle \\frac{4 x^{3} + 21 x^{2} + 10 x + 12}{x^{4} + 5 x^{3} + 5 x^{2} + 4 x}$"
      ],
      "text/plain": [
       "(4*x**3 + 21*x**2 + 10*x + 12)/(x**4 + 5*x**3 + 5*x**2 + 4*x)"
      ]
     },
     "execution_count": 168,
     "metadata": {},
     "output_type": "execute_result"
    }
   ],
   "source": [
    "expr = (4*x**3+21*x**2+10*x+12)/(x**4+5*x**3+5*x**2+4*x)\n",
    "expr"
   ]
  },
  {
   "cell_type": "code",
   "execution_count": 170,
   "id": "430d404c",
   "metadata": {},
   "outputs": [
    {
     "data": {
      "text/latex": [
       "$\\displaystyle \\frac{2 x - 1}{x^{2} + x + 1} - \\frac{1}{x + 4} + \\frac{3}{x}$"
      ],
      "text/plain": [
       "(2*x - 1)/(x**2 + x + 1) - 1/(x + 4) + 3/x"
      ]
     },
     "execution_count": 170,
     "metadata": {},
     "output_type": "execute_result"
    }
   ],
   "source": [
    "apart(expr)"
   ]
  },
  {
   "cell_type": "markdown",
   "id": "c0bdf48d",
   "metadata": {},
   "source": [
    "## 三角函数化简"
   ]
  },
  {
   "cell_type": "code",
   "execution_count": 176,
   "id": "27bec3f0",
   "metadata": {},
   "outputs": [
    {
     "data": {
      "text/latex": [
       "$\\displaystyle \\frac{1}{\\cos^{2}{\\left(x \\right)}}$"
      ],
      "text/plain": [
       "cos(x)**(-2)"
      ]
     },
     "execution_count": 176,
     "metadata": {},
     "output_type": "execute_result"
    }
   ],
   "source": [
    "trigsimp(1+tan(x)**2)"
   ]
  },
  {
   "cell_type": "code",
   "execution_count": 177,
   "id": "d2988e6c",
   "metadata": {},
   "outputs": [
    {
     "data": {
      "text/latex": [
       "$\\displaystyle 128 \\cos^{8}{\\left(x \\right)} - 256 \\cos^{6}{\\left(x \\right)} + 160 \\cos^{4}{\\left(x \\right)} - 32 \\cos^{2}{\\left(x \\right)} + 1$"
      ],
      "text/plain": [
       "128*cos(x)**8 - 256*cos(x)**6 + 160*cos(x)**4 - 32*cos(x)**2 + 1"
      ]
     },
     "execution_count": 177,
     "metadata": {},
     "output_type": "execute_result"
    }
   ],
   "source": [
    "expand_trig(cos(8*x))"
   ]
  },
  {
   "cell_type": "markdown",
   "id": "98941c17",
   "metadata": {},
   "source": [
    "## 幂运算化简"
   ]
  },
  {
   "cell_type": "code",
   "execution_count": 4,
   "id": "ec73a84f",
   "metadata": {},
   "outputs": [
    {
     "data": {
      "text/latex": [
       "$\\displaystyle x^{a} x^{b}$"
      ],
      "text/plain": [
       "x**a*x**b"
      ]
     },
     "execution_count": 4,
     "metadata": {},
     "output_type": "execute_result"
    }
   ],
   "source": [
    "x, y = symbols('x y')\n",
    "a, b = symbols('a b')\n",
    "expr = x ** a * x ** b\n",
    "expr"
   ]
  },
  {
   "cell_type": "code",
   "execution_count": 6,
   "id": "8071087d",
   "metadata": {},
   "outputs": [
    {
     "data": {
      "text/latex": [
       "$\\displaystyle x^{a + b}$"
      ],
      "text/plain": [
       "x**(a + b)"
      ]
     },
     "execution_count": 6,
     "metadata": {},
     "output_type": "execute_result"
    }
   ],
   "source": [
    "powsimp(expr)"
   ]
  },
  {
   "cell_type": "code",
   "execution_count": 8,
   "id": "2cdcda80",
   "metadata": {},
   "outputs": [
    {
     "data": {
      "text/latex": [
       "$\\displaystyle x^{a} x^{b}$"
      ],
      "text/plain": [
       "x**a*x**b"
      ]
     },
     "execution_count": 8,
     "metadata": {},
     "output_type": "execute_result"
    }
   ],
   "source": [
    "expand_power_exp(powsimp(expr))"
   ]
  },
  {
   "cell_type": "code",
   "execution_count": 14,
   "id": "d9896313",
   "metadata": {},
   "outputs": [
    {
     "data": {
      "text/latex": [
       "$\\displaystyle \\left(x y\\right)^{a}$"
      ],
      "text/plain": [
       "(x*y)**a"
      ]
     },
     "execution_count": 14,
     "metadata": {},
     "output_type": "execute_result"
    }
   ],
   "source": [
    "x, y = symbols('x y', positive=True)\n",
    "a = symbols('a', real=True)\n",
    "expr = x ** a * y ** a\n",
    "powsimp(expr)"
   ]
  },
  {
   "cell_type": "code",
   "execution_count": 17,
   "id": "d8bdd90b",
   "metadata": {},
   "outputs": [
    {
     "data": {
      "text/latex": [
       "$\\displaystyle \\left(x y\\right)^{a}$"
      ],
      "text/plain": [
       "(x*y)**a"
      ]
     },
     "execution_count": 17,
     "metadata": {},
     "output_type": "execute_result"
    }
   ],
   "source": [
    "x, y = symbols('x y')\n",
    "a = symbols('a')\n",
    "expr = x ** a * y ** a\n",
    "powsimp(expr, force=True)"
   ]
  },
  {
   "cell_type": "code",
   "execution_count": 19,
   "id": "e985a6df",
   "metadata": {},
   "outputs": [
    {
     "data": {
      "text/latex": [
       "$\\displaystyle x^{a} y^{a}$"
      ],
      "text/plain": [
       "x**a*y**a"
      ]
     },
     "execution_count": 19,
     "metadata": {},
     "output_type": "execute_result"
    }
   ],
   "source": [
    "expand_power_base((x*y)**a, force=True)"
   ]
  },
  {
   "cell_type": "code",
   "execution_count": 21,
   "id": "33270502",
   "metadata": {},
   "outputs": [
    {
     "data": {
      "text/latex": [
       "$\\displaystyle x^{a b}$"
      ],
      "text/plain": [
       "x**(a*b)"
      ]
     },
     "execution_count": 21,
     "metadata": {},
     "output_type": "execute_result"
    }
   ],
   "source": [
    "powdenest((x**a)**b, force=True)"
   ]
  },
  {
   "cell_type": "markdown",
   "id": "a06660f7",
   "metadata": {},
   "source": [
    "# Sympy微积分"
   ]
  },
  {
   "cell_type": "markdown",
   "id": "e1af8c81",
   "metadata": {},
   "source": [
    "`limit(f(x), x, x0)`函数\n",
    "- 通过多个元组计算一个多重积分\n",
    "- 如果想要无穷的话，`x0`写成`oo`即可\n",
    "- 还可以有第4个参数，`+`或`-`，右极限或左极限，默认应该是右极限\n",
    "\n",
    "`Limit(f(x), x, x0`函数\n",
    "- 生成一个极限表达式\n",
    "- 通过表达式的`expr.doit()`方法可以计算值\n",
    "\n",
    "`diff(expr, x)`函数\n",
    "- 求导\n",
    "- 连续求导：`diff(expr, x, x, x)`，`diff(expr, x, 3)`\n",
    "- 连续偏导：`diff(expr, x, 2, y, 5, z, 3)`\n",
    "> 如果次数为1，参数可以省略不传，\n",
    ">\n",
    ">上面的式子也可以写成`diff(expr, x, x, y, y, y, y, y, y, z, z, z)`\n",
    "- 表达式类型的对象自身也有`diff`方法，用法类似\n",
    "- 可以使用元组创建未指定阶数（n阶）的导数：`expr.diff((x, n))`\n",
    "> 应该是只能用n这个字母\n",
    "\n",
    "`Derivative(expr, x)`函数\n",
    "- 生成导数表达式\n",
    "- 多元函数的话就是偏导表达式\n",
    "- 调用表达式的`expr.doit()`方法可以进行求值\n",
    "\n",
    "`integrate(expr, variable)`函数\n",
    "- 计算不定积分：`integrate(expr, variable)`\n",
    "> 后面没有加常数`C`\n",
    "- 计算定积分：`integrate(expr, (integration_variable, lower_limit, upper_limit))`\n",
    "- 也可以用于计算多重积分，具体看下面的例子\n",
    "- 这个函数算法内部有一定缺陷，有些能积分出来的函数无法正常积分求值。积不出来就会原样返回一个**积分表达式**\n",
    "\n",
    "> Sympy中$\\infty$用两个小写字母o表示，即`oo`\n",
    "\n",
    "`Integral(expr, variable)`函数\n",
    "- 生成一个**积分表达式**\n",
    "- 调用表达式的`expr.doit()`方法可以进行求值\n",
    "\n",
    "`dsolve(eq, f(x))`\n",
    "- 用于解微分方程\n",
    "- 参数`eq`一般是`Eq`类型对象，如果是一个普通表达式的话，那就认为其是等于0。可以为`list`\n",
    "- 参数`f(x)`一般是`cls=Function`类型符号变量。可以为`list`，数量要与`eq`对应\n",
    "> 有时第二个参数可以自动推断，但最好写上\n",
    "\n",
    "`solve(eq, symbols)`\n",
    "- 参数与`dsolve`类似，只不过第二个参数一般为**普通符号变量**"
   ]
  },
  {
   "cell_type": "markdown",
   "id": "5f3ca3bc",
   "metadata": {},
   "source": [
    "泰勒中值定理：\n",
    "- 提出背景/核心思想/根本目的：将复杂函数转换为**多项式**表示的函数\n",
    "- 什么叫两个函数相近？\n",
    "    - 函数值相同，若干阶导数相同，可以理解为相近\n",
    "\n",
    "![](pics/2022-7-18103359.png)"
   ]
  },
  {
   "cell_type": "markdown",
   "id": "98d9f2d7",
   "metadata": {},
   "source": [
    "\n",
    "`expr.series(x, x0, steps)`方法\n",
    "- steps代表的是余项中的除数\n",
    "- 如果想让得到的表达式不带余项，可以再接着调用`removeO()`方法"
   ]
  },
  {
   "cell_type": "markdown",
   "id": "00b64869",
   "metadata": {},
   "source": [
    "## 求极限"
   ]
  },
  {
   "cell_type": "code",
   "execution_count": 33,
   "id": "eaa37589",
   "metadata": {},
   "outputs": [
    {
     "data": {
      "text/latex": [
       "$\\displaystyle 1$"
      ],
      "text/plain": [
       "1"
      ]
     },
     "execution_count": 33,
     "metadata": {},
     "output_type": "execute_result"
    }
   ],
   "source": [
    "x, y, z = symbols('x y z')\n",
    "limit(sin(x) / x, x, 0)"
   ]
  },
  {
   "cell_type": "code",
   "execution_count": 30,
   "id": "ea10efe3",
   "metadata": {},
   "outputs": [
    {
     "data": {
      "text/latex": [
       "$\\displaystyle \\lim_{x \\to 0^+}\\left(\\frac{\\cos{\\left(x \\right)} - 1}{x}\\right)$"
      ],
      "text/plain": [
       "Limit((cos(x) - 1)/x, x, 0)"
      ]
     },
     "execution_count": 30,
     "metadata": {},
     "output_type": "execute_result"
    }
   ],
   "source": [
    "expr = Limit((cos(x) - 1) / x, x, 0)\n",
    "expr"
   ]
  },
  {
   "cell_type": "code",
   "execution_count": 34,
   "id": "88c53100",
   "metadata": {},
   "outputs": [
    {
     "data": {
      "text/latex": [
       "$\\displaystyle 0$"
      ],
      "text/plain": [
       "0"
      ]
     },
     "execution_count": 34,
     "metadata": {},
     "output_type": "execute_result"
    }
   ],
   "source": [
    "expr.doit()"
   ]
  },
  {
   "cell_type": "code",
   "execution_count": 36,
   "id": "c732eb15",
   "metadata": {},
   "outputs": [
    {
     "data": {
      "text/latex": [
       "$\\displaystyle \\infty$"
      ],
      "text/plain": [
       "oo"
      ]
     },
     "execution_count": 36,
     "metadata": {},
     "output_type": "execute_result"
    }
   ],
   "source": [
    "limit(1 / x, x, 0, '+')"
   ]
  },
  {
   "cell_type": "code",
   "execution_count": 37,
   "id": "8ddfa949",
   "metadata": {},
   "outputs": [
    {
     "data": {
      "text/latex": [
       "$\\displaystyle -\\infty$"
      ],
      "text/plain": [
       "-oo"
      ]
     },
     "execution_count": 37,
     "metadata": {},
     "output_type": "execute_result"
    }
   ],
   "source": [
    "limit(1 / x, x, 0, '-')"
   ]
  },
  {
   "cell_type": "markdown",
   "id": "494b239c",
   "metadata": {},
   "source": [
    "## 微分学"
   ]
  },
  {
   "cell_type": "code",
   "execution_count": 39,
   "id": "2a70fe67",
   "metadata": {},
   "outputs": [
    {
     "data": {
      "text/latex": [
       "$\\displaystyle - \\sin{\\left(x \\right)}$"
      ],
      "text/plain": [
       "-sin(x)"
      ]
     },
     "execution_count": 39,
     "metadata": {},
     "output_type": "execute_result"
    }
   ],
   "source": [
    "x, y, z = symbols('x y z')\n",
    "expr = cos(x)\n",
    "diff(expr, x)"
   ]
  },
  {
   "cell_type": "code",
   "execution_count": 41,
   "id": "cb3af9d0",
   "metadata": {},
   "outputs": [
    {
     "data": {
      "text/latex": [
       "$\\displaystyle \\sin{\\left(x \\right)}$"
      ],
      "text/plain": [
       "sin(x)"
      ]
     },
     "execution_count": 41,
     "metadata": {},
     "output_type": "execute_result"
    }
   ],
   "source": [
    "diff(expr, x, 3)"
   ]
  },
  {
   "cell_type": "code",
   "execution_count": 44,
   "id": "4cca95fa",
   "metadata": {},
   "outputs": [
    {
     "data": {
      "text/latex": [
       "$\\displaystyle 32 \\cdot \\left(32 x^{10} + 720 x^{8} + 5040 x^{6} + 12600 x^{4} + 9450 x^{2} + 945\\right) e^{x^{2}}$"
      ],
      "text/plain": [
       "32*(32*x**10 + 720*x**8 + 5040*x**6 + 12600*x**4 + 9450*x**2 + 945)*exp(x**2)"
      ]
     },
     "execution_count": 44,
     "metadata": {},
     "output_type": "execute_result"
    }
   ],
   "source": [
    "diff(exp(x**2), x, 10)"
   ]
  },
  {
   "cell_type": "code",
   "execution_count": 46,
   "id": "592d603c",
   "metadata": {},
   "outputs": [
    {
     "data": {
      "text/latex": [
       "$\\displaystyle e^{x y z}$"
      ],
      "text/plain": [
       "exp(x*y*z)"
      ]
     },
     "execution_count": 46,
     "metadata": {},
     "output_type": "execute_result"
    }
   ],
   "source": [
    "expr = exp(x * y * z)\n",
    "expr"
   ]
  },
  {
   "cell_type": "code",
   "execution_count": 51,
   "id": "1c2ba9db",
   "metadata": {},
   "outputs": [
    {
     "data": {
      "text/latex": [
       "$\\displaystyle x^{3} y^{2} \\left(x^{3} y^{3} z^{3} + 14 x^{2} y^{2} z^{2} + 52 x y z + 48\\right) e^{x y z}$"
      ],
      "text/plain": [
       "x**3*y**2*(x**3*y**3*z**3 + 14*x**2*y**2*z**2 + 52*x*y*z + 48)*exp(x*y*z)"
      ]
     },
     "execution_count": 51,
     "metadata": {},
     "output_type": "execute_result"
    }
   ],
   "source": [
    "diff(expr, x, y, 2, z, 4)"
   ]
  },
  {
   "cell_type": "code",
   "execution_count": 53,
   "id": "15f67cc9",
   "metadata": {},
   "outputs": [
    {
     "data": {
      "text/latex": [
       "$\\displaystyle x^{3} y^{2} \\left(x^{3} y^{3} z^{3} + 14 x^{2} y^{2} z^{2} + 52 x y z + 48\\right) e^{x y z}$"
      ],
      "text/plain": [
       "x**3*y**2*(x**3*y**3*z**3 + 14*x**2*y**2*z**2 + 52*x*y*z + 48)*exp(x*y*z)"
      ]
     },
     "execution_count": 53,
     "metadata": {},
     "output_type": "execute_result"
    }
   ],
   "source": [
    "expr.diff(x, y, 2, z, 4)"
   ]
  },
  {
   "cell_type": "code",
   "execution_count": 55,
   "id": "c4fd5b29",
   "metadata": {},
   "outputs": [
    {
     "data": {
      "text/latex": [
       "$\\displaystyle x^{6} y^{5} z^{3} e^{x y z} + 14 x^{5} y^{4} z^{2} e^{x y z} + 52 x^{4} y^{3} z e^{x y z} + 48 x^{3} y^{2} e^{x y z}$"
      ],
      "text/plain": [
       "x**6*y**5*z**3*exp(x*y*z) + 14*x**5*y**4*z**2*exp(x*y*z) + 52*x**4*y**3*z*exp(x*y*z) + 48*x**3*y**2*exp(x*y*z)"
      ]
     },
     "execution_count": 55,
     "metadata": {},
     "output_type": "execute_result"
    }
   ],
   "source": [
    "expr.diff(x, y, 2, z, 4).expand()"
   ]
  },
  {
   "cell_type": "code",
   "execution_count": 57,
   "id": "29449db0",
   "metadata": {},
   "outputs": [
    {
     "data": {
      "text/latex": [
       "$\\displaystyle x^{3} y^{2} \\left(x y z + 4\\right) \\left(x^{2} y^{2} z^{2} + 10 x y z + 12\\right) e^{x y z}$"
      ],
      "text/plain": [
       "x**3*y**2*(x*y*z + 4)*(x**2*y**2*z**2 + 10*x*y*z + 12)*exp(x*y*z)"
      ]
     },
     "execution_count": 57,
     "metadata": {},
     "output_type": "execute_result"
    }
   ],
   "source": [
    "factor(expr.diff(x, y, 2, z, 4))"
   ]
  },
  {
   "cell_type": "code",
   "execution_count": 61,
   "id": "c9c662e1",
   "metadata": {},
   "outputs": [
    {
     "data": {
      "text/latex": [
       "$\\displaystyle x^{3} y^{2} \\left(x y z + 4\\right) \\left(x^{2} y^{2} z^{2} + 10 x y z + 12\\right) e^{x y z}$"
      ],
      "text/plain": [
       "x**3*y**2*(x*y*z + 4)*(x**2*y**2*z**2 + 10*x*y*z + 12)*exp(x*y*z)"
      ]
     },
     "execution_count": 61,
     "metadata": {},
     "output_type": "execute_result"
    }
   ],
   "source": [
    "expr.diff(x, y, 2, z, 4).factor()"
   ]
  },
  {
   "cell_type": "code",
   "execution_count": 64,
   "id": "b97ea8e8",
   "metadata": {},
   "outputs": [
    {
     "data": {
      "text/latex": [
       "$\\displaystyle \\frac{\\partial^{7}}{\\partial z^{4}\\partial y^{2}\\partial x} e^{x y z}$"
      ],
      "text/plain": [
       "Derivative(exp(x*y*z), x, (y, 2), (z, 4))"
      ]
     },
     "execution_count": 64,
     "metadata": {},
     "output_type": "execute_result"
    }
   ],
   "source": [
    "deri = Derivative(expr, x, y, 2, z, 4)\n",
    "deri"
   ]
  },
  {
   "cell_type": "code",
   "execution_count": 67,
   "id": "c276f24f",
   "metadata": {},
   "outputs": [
    {
     "data": {
      "text/latex": [
       "$\\displaystyle x^{3} y^{2} \\left(x^{3} y^{3} z^{3} + 14 x^{2} y^{2} z^{2} + 52 x y z + 48\\right) e^{x y z}$"
      ],
      "text/plain": [
       "x**3*y**2*(x**3*y**3*z**3 + 14*x**2*y**2*z**2 + 52*x*y*z + 48)*exp(x*y*z)"
      ]
     },
     "execution_count": 67,
     "metadata": {},
     "output_type": "execute_result"
    }
   ],
   "source": [
    "deri.doit()"
   ]
  },
  {
   "cell_type": "code",
   "execution_count": 77,
   "id": "64a3a7f4",
   "metadata": {},
   "outputs": [
    {
     "data": {
      "text/latex": [
       "$\\displaystyle \\frac{\\partial^{2 n}}{\\partial y^{n}\\partial x^{n}} \\left(a x + b + y\\right)^{m}$"
      ],
      "text/plain": [
       "Derivative((a*x + b + y)**m, (x, n), (y, n))"
      ]
     },
     "execution_count": 77,
     "metadata": {},
     "output_type": "execute_result"
    }
   ],
   "source": [
    "m, n, a, b = symbols('m n a b')\n",
    "expr = (a * x + b + y)**m\n",
    "expr.diff((x, n), (y, n))"
   ]
  },
  {
   "cell_type": "code",
   "execution_count": 79,
   "id": "0a8413f8",
   "metadata": {},
   "outputs": [
    {
     "data": {
      "text/latex": [
       "$\\displaystyle \\frac{\\partial^{n}}{\\partial x^{n}} \\left(a x + b + y\\right)^{m}$"
      ],
      "text/plain": [
       "Derivative((a*x + b + y)**m, (x, n))"
      ]
     },
     "execution_count": 79,
     "metadata": {},
     "output_type": "execute_result"
    }
   ],
   "source": [
    "diff(expr, (x, n))"
   ]
  },
  {
   "cell_type": "markdown",
   "id": "b01c5f52",
   "metadata": {},
   "source": [
    "## 积分学"
   ]
  },
  {
   "cell_type": "code",
   "execution_count": 81,
   "id": "921eb9da",
   "metadata": {},
   "outputs": [],
   "source": [
    "x, y, z = symbols('x y z')"
   ]
  },
  {
   "cell_type": "code",
   "execution_count": 83,
   "id": "f07455f2",
   "metadata": {},
   "outputs": [
    {
     "data": {
      "text/latex": [
       "$\\displaystyle - \\cos{\\left(x \\right)}$"
      ],
      "text/plain": [
       "-cos(x)"
      ]
     },
     "execution_count": 83,
     "metadata": {},
     "output_type": "execute_result"
    }
   ],
   "source": [
    "integrate(sin(x), x)"
   ]
  },
  {
   "cell_type": "code",
   "execution_count": 86,
   "id": "e1484626",
   "metadata": {},
   "outputs": [
    {
     "data": {
      "text/latex": [
       "$\\displaystyle 1$"
      ],
      "text/plain": [
       "1"
      ]
     },
     "execution_count": 86,
     "metadata": {},
     "output_type": "execute_result"
    }
   ],
   "source": [
    "integrate(exp(-x), (x, 0, oo))"
   ]
  },
  {
   "cell_type": "code",
   "execution_count": 88,
   "id": "3623a2c6",
   "metadata": {},
   "outputs": [
    {
     "data": {
      "text/latex": [
       "$\\displaystyle \\pi$"
      ],
      "text/plain": [
       "pi"
      ]
     },
     "execution_count": 88,
     "metadata": {},
     "output_type": "execute_result"
    }
   ],
   "source": [
    "integrate(exp(-x**2-y**2), (x, -oo, +oo), (y, -oo, +oo))"
   ]
  },
  {
   "cell_type": "code",
   "execution_count": 90,
   "id": "24620258",
   "metadata": {},
   "outputs": [
    {
     "data": {
      "text/latex": [
       "$\\displaystyle \\int x^{x}\\, dx$"
      ],
      "text/plain": [
       "Integral(x**x, x)"
      ]
     },
     "execution_count": 90,
     "metadata": {},
     "output_type": "execute_result"
    }
   ],
   "source": [
    "integrate(x**x, x)"
   ]
  },
  {
   "cell_type": "code",
   "execution_count": 92,
   "id": "7c234bc9",
   "metadata": {},
   "outputs": [
    {
     "data": {
      "text/plain": [
       "sympy.integrals.risch.NonElementaryIntegral"
      ]
     },
     "execution_count": 92,
     "metadata": {},
     "output_type": "execute_result"
    }
   ],
   "source": [
    "type(integrate(x**x, x))"
   ]
  },
  {
   "cell_type": "code",
   "execution_count": 94,
   "id": "2a90c093",
   "metadata": {},
   "outputs": [
    {
     "data": {
      "text/plain": [
       "sympy.core.mul.Mul"
      ]
     },
     "execution_count": 94,
     "metadata": {},
     "output_type": "execute_result"
    }
   ],
   "source": [
    "type(integrate(sin(x), x))"
   ]
  },
  {
   "cell_type": "code",
   "execution_count": 101,
   "id": "8ae60e75",
   "metadata": {},
   "outputs": [
    {
     "data": {
      "text/latex": [
       "$\\displaystyle \\int \\log{\\left(x \\right)}^{2}\\, dx$"
      ],
      "text/plain": [
       "Integral(log(x)**2, x)"
      ]
     },
     "execution_count": 101,
     "metadata": {},
     "output_type": "execute_result"
    }
   ],
   "source": [
    "inte = Integral(log(x)**2, x)\n",
    "inte"
   ]
  },
  {
   "cell_type": "code",
   "execution_count": 115,
   "id": "ab612d1c",
   "metadata": {},
   "outputs": [
    {
     "data": {
      "text/latex": [
       "$\\displaystyle x \\log{\\left(x \\right)}^{2} - 2 x \\log{\\left(x \\right)} + 2 x$"
      ],
      "text/plain": [
       "x*log(x)**2 - 2*x*log(x) + 2*x"
      ]
     },
     "execution_count": 115,
     "metadata": {},
     "output_type": "execute_result"
    }
   ],
   "source": [
    "inte.doit()"
   ]
  },
  {
   "cell_type": "markdown",
   "id": "17a31a36",
   "metadata": {},
   "source": [
    "## 泰勒公式"
   ]
  },
  {
   "cell_type": "code",
   "execution_count": 118,
   "id": "deaeae66",
   "metadata": {},
   "outputs": [
    {
     "data": {
      "text/latex": [
       "$\\displaystyle e^{\\sin{\\left(x \\right)}}$"
      ],
      "text/plain": [
       "exp(sin(x))"
      ]
     },
     "execution_count": 118,
     "metadata": {},
     "output_type": "execute_result"
    }
   ],
   "source": [
    "x, y, z = symbols('x y z')\n",
    "expr = exp(sin(x))\n",
    "expr"
   ]
  },
  {
   "cell_type": "code",
   "execution_count": 132,
   "id": "82e88df4",
   "metadata": {},
   "outputs": [
    {
     "data": {
      "text/latex": [
       "$\\displaystyle 1 + x + \\frac{x^{2}}{2} + O\\left(x^{3}\\right)$"
      ],
      "text/plain": [
       "1 + x + x**2/2 + O(x**3)"
      ]
     },
     "execution_count": 132,
     "metadata": {},
     "output_type": "execute_result"
    }
   ],
   "source": [
    "expr.series(x, 0, 3)"
   ]
  },
  {
   "cell_type": "code",
   "execution_count": 123,
   "id": "f6bc3470",
   "metadata": {},
   "outputs": [
    {
     "data": {
      "text/latex": [
       "$\\displaystyle 1 + x + \\frac{x^{2}}{2} + O\\left(x^{4}\\right)$"
      ],
      "text/plain": [
       "1 + x + x**2/2 + O(x**4)"
      ]
     },
     "execution_count": 123,
     "metadata": {},
     "output_type": "execute_result"
    }
   ],
   "source": [
    "expr.series(x, 0, 4)"
   ]
  },
  {
   "cell_type": "code",
   "execution_count": 126,
   "id": "8c394e56",
   "metadata": {},
   "outputs": [
    {
     "data": {
      "text/latex": [
       "$\\displaystyle \\frac{x^{2}}{2} + x + 1$"
      ],
      "text/plain": [
       "x**2/2 + x + 1"
      ]
     },
     "execution_count": 126,
     "metadata": {},
     "output_type": "execute_result"
    }
   ],
   "source": [
    "expr.series(x, 0, 4).removeO()"
   ]
  },
  {
   "cell_type": "markdown",
   "id": "fd0e1fdb",
   "metadata": {},
   "source": [
    "## 求微分方程"
   ]
  },
  {
   "cell_type": "code",
   "execution_count": 190,
   "id": "b46d05c0",
   "metadata": {},
   "outputs": [
    {
     "name": "stdout",
     "output_type": "stream",
     "text": [
      "Eq(y(x), (C1*sin(5*x) + C2*cos(5*x))*exp(-2*x))\n"
     ]
    },
    {
     "data": {
      "text/latex": [
       "$\\displaystyle y{\\left(x \\right)} = \\left(C_{1} \\sin{\\left(5 x \\right)} + C_{2} \\cos{\\left(5 x \\right)}\\right) e^{- 2 x}$"
      ],
      "text/plain": [
       "Eq(y(x), (C1*sin(5*x) + C2*cos(5*x))*exp(-2*x))"
      ]
     },
     "execution_count": 190,
     "metadata": {},
     "output_type": "execute_result"
    }
   ],
   "source": [
    "from sympy import symbols, Eq, diff, dsolve\n",
    "\n",
    "y = symbols('y', cls=Function)\n",
    "x = symbols('x')\n",
    "eq = Eq(y(x).diff(x, 2) + 4 * y(x).diff(x, 1) + 29 * y(x), 0)\n",
    "print(dsolve(eq, y(x)))\n",
    "dsolve(eq, y(x))"
   ]
  },
  {
   "cell_type": "code",
   "execution_count": 201,
   "id": "b7ebf3c1",
   "metadata": {},
   "outputs": [
    {
     "data": {
      "text/plain": [
       "{C1: 3, C2: 0}"
      ]
     },
     "execution_count": 201,
     "metadata": {},
     "output_type": "execute_result"
    }
   ],
   "source": [
    "C1, C2 = symbols('C1 C2')\n",
    "f = (C1*sin(5*x) + C2*cos(5*x))*exp(-2*x)\n",
    "eqs = [\n",
    "    f.subs(x, 0),\n",
    "    f.diff(x).subs(x, 0) - 15\n",
    "]\n",
    "# solve(eqs, [C1, C2])\n",
    "solve(eqs)"
   ]
  }
 ],
 "metadata": {
  "kernelspec": {
   "display_name": "Python 3 (ipykernel)",
   "language": "python",
   "name": "python3"
  },
  "language_info": {
   "codemirror_mode": {
    "name": "ipython",
    "version": 3
   },
   "file_extension": ".py",
   "mimetype": "text/x-python",
   "name": "python",
   "nbconvert_exporter": "python",
   "pygments_lexer": "ipython3",
   "version": "3.9.12"
  },
  "toc": {
   "base_numbering": 1,
   "nav_menu": {},
   "number_sections": true,
   "sideBar": true,
   "skip_h1_title": false,
   "title_cell": "Table of Contents",
   "title_sidebar": "Contents",
   "toc_cell": false,
   "toc_position": {
    "height": "calc(100% - 180px)",
    "left": "10px",
    "top": "150px",
    "width": "349.091px"
   },
   "toc_section_display": true,
   "toc_window_display": true
  }
 },
 "nbformat": 4,
 "nbformat_minor": 5
}
