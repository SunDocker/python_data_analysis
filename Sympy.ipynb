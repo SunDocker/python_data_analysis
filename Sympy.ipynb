{
 "cells": [
  {
   "cell_type": "markdown",
   "id": "a3c9f002",
   "metadata": {},
   "source": [
    "# Sympy概述"
   ]
  },
  {
   "cell_type": "markdown",
   "id": "6cd20d2e",
   "metadata": {},
   "source": [
    "理解符号解与数值解"
   ]
  },
  {
   "cell_type": "code",
   "execution_count": 96,
   "id": "630106f2",
   "metadata": {},
   "outputs": [],
   "source": [
    "import sympy\n",
    "import math"
   ]
  },
  {
   "cell_type": "code",
   "execution_count": 97,
   "id": "c3eca7b8",
   "metadata": {},
   "outputs": [],
   "source": [
    "from sympy import *"
   ]
  },
  {
   "cell_type": "code",
   "execution_count": 2,
   "id": "0d4a66cc",
   "metadata": {},
   "outputs": [
    {
     "data": {
      "text/latex": [
       "$\\displaystyle 0$"
      ],
      "text/plain": [
       "0"
      ]
     },
     "execution_count": 2,
     "metadata": {},
     "output_type": "execute_result"
    }
   ],
   "source": [
    "sympy.sin(sympy.pi)"
   ]
  },
  {
   "cell_type": "code",
   "execution_count": 3,
   "id": "853e2598",
   "metadata": {},
   "outputs": [
    {
     "data": {
      "text/plain": [
       "1.2246467991473532e-16"
      ]
     },
     "execution_count": 3,
     "metadata": {},
     "output_type": "execute_result"
    }
   ],
   "source": [
    "math.sin(math.pi)"
   ]
  },
  {
   "cell_type": "code",
   "execution_count": 4,
   "id": "b8d26647",
   "metadata": {},
   "outputs": [
    {
     "data": {
      "text/latex": [
       "$\\displaystyle \\pi$"
      ],
      "text/plain": [
       "pi"
      ]
     },
     "execution_count": 4,
     "metadata": {},
     "output_type": "execute_result"
    }
   ],
   "source": [
    "sympy.pi"
   ]
  },
  {
   "cell_type": "code",
   "execution_count": 6,
   "id": "d6c5c283",
   "metadata": {},
   "outputs": [
    {
     "data": {
      "text/plain": [
       "3.141592653589793"
      ]
     },
     "execution_count": 6,
     "metadata": {},
     "output_type": "execute_result"
    }
   ],
   "source": [
    "math.pi"
   ]
  },
  {
   "cell_type": "markdown",
   "id": "aeec9d03",
   "metadata": {},
   "source": [
    "# Sympy基本操作"
   ]
  },
  {
   "cell_type": "markdown",
   "id": "3d5e3717",
   "metadata": {},
   "source": [
    "## 定义符号变量"
   ]
  },
  {
   "cell_type": "markdown",
   "id": "1bc416d1",
   "metadata": {},
   "source": [
    "分别定义：`x = sympy.Symbol('x')`\n",
    "- `x = sympy.Symbol('x_1')`，相当于`x = sympy.Symbol('x1')`\n",
    "- `a = sympy.Symbol('alpha')`\n",
    "- `b = sympy.Symbol('beta')`\n",
    "\n",
    "同时定义：\n",
    "- `y, z, k = sympy.symbols('y z k')`\n",
    "- `y, z, k = sympy.symbols('y, z, k')`\n",
    "- `var = sympy.symbols('x_start:end')`\n",
    "> 下标从start到end-1，`_`可以省略\n",
    "\n",
    "\n",
    "指定类型：\n",
    "- `n = sympy.Symbol('n', integer=True)`\n",
    "- `n = sympy.Symbol('n', odd=True)`\n",
    "- `y = sympy.symbols('y', cls=Function)`"
   ]
  },
  {
   "cell_type": "code",
   "execution_count": 8,
   "id": "8bcc189c",
   "metadata": {},
   "outputs": [
    {
     "data": {
      "text/latex": [
       "$\\displaystyle x$"
      ],
      "text/plain": [
       "x"
      ]
     },
     "execution_count": 8,
     "metadata": {},
     "output_type": "execute_result"
    }
   ],
   "source": [
    "x = sympy.Symbol('x')\n",
    "x"
   ]
  },
  {
   "cell_type": "code",
   "execution_count": 105,
   "id": "1a0e5651",
   "metadata": {},
   "outputs": [
    {
     "data": {
      "text/latex": [
       "$\\displaystyle x_{1}$"
      ],
      "text/plain": [
       "x_1"
      ]
     },
     "execution_count": 105,
     "metadata": {},
     "output_type": "execute_result"
    }
   ],
   "source": [
    "x = Symbol('x_1')\n",
    "x"
   ]
  },
  {
   "cell_type": "code",
   "execution_count": 104,
   "id": "585da2f2",
   "metadata": {},
   "outputs": [
    {
     "data": {
      "text/latex": [
       "$\\displaystyle x^{1}$"
      ],
      "text/plain": [
       "x^1"
      ]
     },
     "execution_count": 104,
     "metadata": {},
     "output_type": "execute_result"
    }
   ],
   "source": [
    "x = Symbol('x^1')\n",
    "x"
   ]
  },
  {
   "cell_type": "code",
   "execution_count": 108,
   "id": "4a4fccc5",
   "metadata": {},
   "outputs": [
    {
     "data": {
      "text/latex": [
       "$\\displaystyle x_{1}$"
      ],
      "text/plain": [
       "x1"
      ]
     },
     "execution_count": 108,
     "metadata": {},
     "output_type": "execute_result"
    }
   ],
   "source": [
    "x = Symbol('x1')\n",
    "x"
   ]
  },
  {
   "cell_type": "code",
   "execution_count": 101,
   "id": "4a0ce5e1",
   "metadata": {},
   "outputs": [
    {
     "data": {
      "text/latex": [
       "$\\displaystyle \\alpha$"
      ],
      "text/plain": [
       "alpha"
      ]
     },
     "execution_count": 101,
     "metadata": {},
     "output_type": "execute_result"
    }
   ],
   "source": [
    "a = Symbol('alpha')\n",
    "a"
   ]
  },
  {
   "cell_type": "code",
   "execution_count": 103,
   "id": "04e638cf",
   "metadata": {},
   "outputs": [
    {
     "data": {
      "text/latex": [
       "$\\displaystyle \\epsilon$"
      ],
      "text/plain": [
       "epsilon"
      ]
     },
     "execution_count": 103,
     "metadata": {},
     "output_type": "execute_result"
    }
   ],
   "source": [
    "e = Symbol('epsilon')\n",
    "e"
   ]
  },
  {
   "cell_type": "code",
   "execution_count": 20,
   "id": "2bff1a17",
   "metadata": {},
   "outputs": [],
   "source": [
    "y, z, k = sympy.symbols('y z k')\n",
    "# y, z, k = sympy.symbols('y, z, k')"
   ]
  },
  {
   "cell_type": "code",
   "execution_count": 112,
   "id": "03b28b2f",
   "metadata": {},
   "outputs": [
    {
     "data": {
      "text/plain": [
       "(x1, x2, x3, x4)"
      ]
     },
     "execution_count": 112,
     "metadata": {},
     "output_type": "execute_result"
    }
   ],
   "source": [
    "var = sympy.symbols('x1:5')\n",
    "var"
   ]
  },
  {
   "cell_type": "code",
   "execution_count": 113,
   "id": "a877154b",
   "metadata": {},
   "outputs": [
    {
     "data": {
      "text/latex": [
       "$\\displaystyle x_{4}$"
      ],
      "text/plain": [
       "x4"
      ]
     },
     "execution_count": 113,
     "metadata": {},
     "output_type": "execute_result"
    }
   ],
   "source": [
    "var[-1]"
   ]
  },
  {
   "cell_type": "code",
   "execution_count": 24,
   "id": "c173b64b",
   "metadata": {},
   "outputs": [
    {
     "data": {
      "text/latex": [
       "$\\displaystyle \\sqrt{x}$"
      ],
      "text/plain": [
       "sqrt(x)"
      ]
     },
     "execution_count": 24,
     "metadata": {},
     "output_type": "execute_result"
    }
   ],
   "source": [
    "sympy.sqrt(x)"
   ]
  },
  {
   "cell_type": "code",
   "execution_count": 26,
   "id": "a4474f1e",
   "metadata": {},
   "outputs": [
    {
     "data": {
      "text/latex": [
       "$\\displaystyle \\sqrt{x^{2}}$"
      ],
      "text/plain": [
       "sqrt(x**2)"
      ]
     },
     "execution_count": 26,
     "metadata": {},
     "output_type": "execute_result"
    }
   ],
   "source": [
    "sympy.sqrt(x ** 2)"
   ]
  },
  {
   "cell_type": "code",
   "execution_count": 27,
   "id": "0ba91aa6",
   "metadata": {},
   "outputs": [
    {
     "data": {
      "text/latex": [
       "$\\displaystyle \\sqrt{x^{2} + \\sin{\\left(x \\right)}}$"
      ],
      "text/plain": [
       "sqrt(x**2 + sin(x))"
      ]
     },
     "execution_count": 27,
     "metadata": {},
     "output_type": "execute_result"
    }
   ],
   "source": [
    "sympy.sqrt(x ** 2 + sympy.sin(x))"
   ]
  },
  {
   "cell_type": "code",
   "execution_count": 35,
   "id": "48dad5fe",
   "metadata": {},
   "outputs": [],
   "source": [
    "n1 = sympy.Symbol('n1')\n",
    "n2 = sympy.Symbol('n2', integer = True)\n",
    "n3 = sympy.Symbol('n3', odd = True)"
   ]
  },
  {
   "cell_type": "code",
   "execution_count": 39,
   "id": "ae19bfd0",
   "metadata": {},
   "outputs": [
    {
     "data": {
      "text/latex": [
       "$\\displaystyle \\cos{\\left(\\pi n_{1} \\right)}$"
      ],
      "text/plain": [
       "cos(pi*n1)"
      ]
     },
     "execution_count": 39,
     "metadata": {},
     "output_type": "execute_result"
    }
   ],
   "source": [
    "sympy.cos(n1 * sympy.pi)"
   ]
  },
  {
   "cell_type": "code",
   "execution_count": 38,
   "id": "5557c533",
   "metadata": {},
   "outputs": [
    {
     "data": {
      "text/latex": [
       "$\\displaystyle \\left(-1\\right)^{n_{2}}$"
      ],
      "text/plain": [
       "(-1)**n2"
      ]
     },
     "execution_count": 38,
     "metadata": {},
     "output_type": "execute_result"
    }
   ],
   "source": [
    "sympy.cos(n2 * sympy.pi)"
   ]
  },
  {
   "cell_type": "code",
   "execution_count": 40,
   "id": "6b9e619b",
   "metadata": {},
   "outputs": [
    {
     "data": {
      "text/latex": [
       "$\\displaystyle -1$"
      ],
      "text/plain": [
       "-1"
      ]
     },
     "execution_count": 40,
     "metadata": {},
     "output_type": "execute_result"
    }
   ],
   "source": [
    "sympy.cos(n3 * sympy.pi)"
   ]
  },
  {
   "cell_type": "markdown",
   "id": "5314a05c",
   "metadata": {},
   "source": [
    "## 表达式"
   ]
  },
  {
   "cell_type": "markdown",
   "id": "dcc2737b",
   "metadata": {},
   "source": [
    "定义方式：\n",
    "- 直接使用`=`将带有符号变量和`sympy`函数的表达式赋值即可\n",
    "- 将字符串转换为表达式`sympy.sympify(str_expr)`\n",
    "\n",
    "替换操作：\n",
    "> 可用于函数换元，也可用于函数指定自变量求值\n",
    "- 单个替换：`expr.subs(old, new)`\n",
    "- 多个替换：`expr.subs([(old1, new1), (old2, new2), ...)])`\n",
    "\n",
    "> 注意**类型问题**，就算被替换后结果是数字，也并不是python中普通的数字类型，而是sympy库中定义的类型\n",
    "\n",
    "为数值解指定精度：\n",
    "- `expr.evalf(accuracy)`\n",
    "- 在某点求值(设置了精度)：`expr.evalf(accuracy, subs={x: number}`\n",
    "> 与subs相比，求值时可以设置精度\n",
    "- 忽略较小误差：`expr.evalf(chop=True)`"
   ]
  },
  {
   "cell_type": "code",
   "execution_count": 116,
   "id": "94ebb515",
   "metadata": {},
   "outputs": [
    {
     "data": {
      "text/latex": [
       "$\\displaystyle e^{\\cos{\\left(x \\right)}} + 1$"
      ],
      "text/plain": [
       "exp(cos(x)) + 1"
      ]
     },
     "execution_count": 116,
     "metadata": {},
     "output_type": "execute_result"
    }
   ],
   "source": [
    "x, y, z = symbols('x y z')\n",
    "expr = exp(cos(x)) + 1\n",
    "expr"
   ]
  },
  {
   "cell_type": "code",
   "execution_count": 117,
   "id": "48f3993c",
   "metadata": {},
   "outputs": [
    {
     "data": {
      "text/latex": [
       "$\\displaystyle 1 + e$"
      ],
      "text/plain": [
       "1 + E"
      ]
     },
     "execution_count": 117,
     "metadata": {},
     "output_type": "execute_result"
    }
   ],
   "source": [
    "expr.subs(x, 0)"
   ]
  },
  {
   "cell_type": "code",
   "execution_count": 118,
   "id": "0b5dcd76",
   "metadata": {},
   "outputs": [
    {
     "data": {
      "text/latex": [
       "$\\displaystyle e^{\\cos{\\left(x \\right)}} + 1$"
      ],
      "text/plain": [
       "exp(cos(x)) + 1"
      ]
     },
     "execution_count": 118,
     "metadata": {},
     "output_type": "execute_result"
    }
   ],
   "source": [
    "t = Symbol('t')\n",
    "x = Symbol('x')\n",
    "expr1 = exp(t) + 1\n",
    "expr2 = cos(x)\n",
    "expr_new = expr1.subs(t, expr2)\n",
    "expr_new"
   ]
  },
  {
   "cell_type": "code",
   "execution_count": 122,
   "id": "c19df75f",
   "metadata": {},
   "outputs": [
    {
     "data": {
      "text/latex": [
       "$\\displaystyle 40 - z$"
      ],
      "text/plain": [
       "40 - z"
      ]
     },
     "execution_count": 122,
     "metadata": {},
     "output_type": "execute_result"
    }
   ],
   "source": [
    "expr_mul = x ** 3 + 4 * y * x - z\n",
    "expr_mul.subs([(x, 2), (y, 4)])"
   ]
  },
  {
   "cell_type": "code",
   "execution_count": 125,
   "id": "fc721aca",
   "metadata": {},
   "outputs": [
    {
     "data": {
      "text/latex": [
       "$\\displaystyle 2.82842712474619009760337744842$"
      ],
      "text/plain": [
       "2.82842712474619009760337744842"
      ]
     },
     "execution_count": 125,
     "metadata": {},
     "output_type": "execute_result"
    }
   ],
   "source": [
    "expr = sqrt(8)\n",
    "expr.evalf(30)"
   ]
  },
  {
   "cell_type": "code",
   "execution_count": 127,
   "id": "11f96599",
   "metadata": {},
   "outputs": [
    {
     "data": {
      "text/latex": [
       "$\\displaystyle 3.141592653589793238462643383279502884197169399375105820974944592307816406286208998628034825342117068$"
      ],
      "text/plain": [
       "3.141592653589793238462643383279502884197169399375105820974944592307816406286208998628034825342117068"
      ]
     },
     "execution_count": 127,
     "metadata": {},
     "output_type": "execute_result"
    }
   ],
   "source": [
    "pi.evalf(100)"
   ]
  },
  {
   "cell_type": "code",
   "execution_count": 129,
   "id": "c2892262",
   "metadata": {},
   "outputs": [
    {
     "data": {
      "text/latex": [
       "$\\displaystyle 0.087498983439446392365833650247410931894111629665389$"
      ],
      "text/plain": [
       "0.087498983439446392365833650247410931894111629665389"
      ]
     },
     "execution_count": 129,
     "metadata": {},
     "output_type": "execute_result"
    }
   ],
   "source": [
    "expr = cos(2 * x)\n",
    "expr.evalf(50, subs={x: 2.4})"
   ]
  },
  {
   "cell_type": "code",
   "execution_count": 130,
   "id": "7170656a",
   "metadata": {},
   "outputs": [
    {
     "data": {
      "text/latex": [
       "$\\displaystyle 0.3$"
      ],
      "text/plain": [
       "0.300000000000000"
      ]
     },
     "execution_count": 130,
     "metadata": {},
     "output_type": "execute_result"
    }
   ],
   "source": [
    "expr = sympify('0.1 + 0.2')\n",
    "expr.evalf(chop=True)"
   ]
  },
  {
   "cell_type": "markdown",
   "id": "3d535d16",
   "metadata": {},
   "source": [
    "## 多项式"
   ]
  },
  {
   "cell_type": "markdown",
   "id": "3c8c7659",
   "metadata": {},
   "source": [
    "提取某一项：`exp.args[i]`\n",
    "> 从常数项开始索引\n",
    "\n",
    "> 注意多项式中没有负数次幂\n",
    "\n",
    "提取某一项的系数或变量：`exp.args[i].args[0 or 1]`"
   ]
  },
  {
   "cell_type": "code",
   "execution_count": 94,
   "id": "33dcf9e7",
   "metadata": {},
   "outputs": [
    {
     "data": {
      "text/latex": [
       "$\\displaystyle 3 x^{3} + 9 x^{2} + 4 x + 900$"
      ],
      "text/plain": [
       "3*x**3 + 9*x**2 + 4*x + 900"
      ]
     },
     "execution_count": 94,
     "metadata": {},
     "output_type": "execute_result"
    }
   ],
   "source": [
    "x = sympy.Symbol('x')\n",
    "exp = 3 * x ** 3 + 4 * x + 900 + 9 * x ** 2\n",
    "exp"
   ]
  },
  {
   "cell_type": "code",
   "execution_count": 95,
   "id": "721ac646",
   "metadata": {},
   "outputs": [
    {
     "data": {
      "text/latex": [
       "$\\displaystyle 3 x^{3}$"
      ],
      "text/plain": [
       "3*x**3"
      ]
     },
     "execution_count": 95,
     "metadata": {},
     "output_type": "execute_result"
    }
   ],
   "source": [
    "exp.args[1]"
   ]
  },
  {
   "cell_type": "code",
   "execution_count": 123,
   "id": "1a205d35",
   "metadata": {},
   "outputs": [
    {
     "data": {
      "text/latex": [
       "$\\displaystyle x^{2} + 2 x + 1$"
      ],
      "text/plain": [
       "x**2 + 2*x + 1"
      ]
     },
     "execution_count": 123,
     "metadata": {},
     "output_type": "execute_result"
    }
   ],
   "source": [
    "str_expr = 'x ** 2 + 2 * x + 1'\n",
    "sympify(str_expr)"
   ]
  },
  {
   "cell_type": "markdown",
   "id": "17358ae0",
   "metadata": {},
   "source": [
    "# Sympy简化操作"
   ]
  },
  {
   "cell_type": "markdown",
   "id": "584aa76d",
   "metadata": {},
   "source": [
    "`simplify(expr)`函数：\n",
    "- 自动选择一个最佳方式简化表达式\n",
    "- 有时不充分或不明确\n",
    "- 对于复杂表达式速度可能会比较慢\n",
    "> 因为可能需要尝试多个化简方法\n",
    "\n",
    "`expand(expr)`函数：\n",
    "- 将表达式转化为简单的单项式和的形式。\n",
    "- 输入的表达式不一定只是多项式，可以是任何类型的表达式。\n",
    "\n",
    "`factor(expr)`函数：\n",
    "- 将多项式转化为若干个不能继续分解的表达式的乘积。\n",
    "- 如果只是对分解后的各个因式感兴趣，可以使用`factor_list(expr)`获得一个结构化输出。\n",
    "> 比较关注的是`factor_list(expr)[1]`的情况\n",
    "- 输入的表达式不一定只是多项式，可以是任何类型的表达式。\n",
    "\n",
    "`collect(expr, x)`函数：\n",
    "- 合并表达式中具有相同幂数的某个符号变量\n",
    "- collect()与coeff()方法搭配使用，能够输出表达式中x^n的系数：`collect(expr,x).coeff(x,n)`\n",
    "\n",
    "`cancel(expr)`函数：\n",
    "- 将有理分式转化为标准规范形式：p/q，其中p、q是无公因式的展开多项式，且p、q的系数全部为整数\n",
    "\n",
    "`apart(expr)`函数：\n",
    "- 将表达式分解成若干个次数较低的有理函分式和的形式，来降低分子或分母多项式的次数。\n",
    "    - 分式的分母需为不可约多项式。\n",
    "    - 分子多项式次数需比分母多项式次数要低。\n",
    "    \n",
    "反三角函数：\n",
    "- `acos()`、`asin()`、`atan()`、`acot()`\n",
    "\n",
    "`trigsimp(expr)`函数：\n",
    "- 利用所有的三角恒等式化简表达式\n",
    "\n",
    "`expand_trig(expr)`函数：\n",
    "- 利用所有的三角恒等式展开表达式"
   ]
  },
  {
   "cell_type": "code",
   "execution_count": 131,
   "id": "629c90e9",
   "metadata": {},
   "outputs": [
    {
     "data": {
      "text/latex": [
       "$\\displaystyle 1$"
      ],
      "text/plain": [
       "1"
      ]
     },
     "execution_count": 131,
     "metadata": {},
     "output_type": "execute_result"
    }
   ],
   "source": [
    "x, y, z = symbols('x y z')\n",
    "expr = cos(x) ** 2 + sin(x) ** 2\n",
    "simplify(expr)"
   ]
  },
  {
   "cell_type": "code",
   "execution_count": 133,
   "id": "bb20b712",
   "metadata": {},
   "outputs": [
    {
     "data": {
      "text/latex": [
       "$\\displaystyle \\frac{x^{3} + x^{2} - x - 1}{x^{2} + 2 x + 1}$"
      ],
      "text/plain": [
       "(x**3 + x**2 - x - 1)/(x**2 + 2*x + 1)"
      ]
     },
     "execution_count": 133,
     "metadata": {},
     "output_type": "execute_result"
    }
   ],
   "source": [
    "expr = (x ** 3 + x ** 2 - x - 1) / (x ** 2 + 2 * x + 1)\n",
    "expr"
   ]
  },
  {
   "cell_type": "code",
   "execution_count": 135,
   "id": "c3bee439",
   "metadata": {},
   "outputs": [
    {
     "data": {
      "text/latex": [
       "$\\displaystyle x - 1$"
      ],
      "text/plain": [
       "x - 1"
      ]
     },
     "execution_count": 135,
     "metadata": {},
     "output_type": "execute_result"
    }
   ],
   "source": [
    "simplify(expr)"
   ]
  },
  {
   "cell_type": "code",
   "execution_count": 137,
   "id": "78a13d3a",
   "metadata": {},
   "outputs": [
    {
     "data": {
      "text/latex": [
       "$\\displaystyle x^{2} + 2 x + 1$"
      ],
      "text/plain": [
       "x**2 + 2*x + 1"
      ]
     },
     "execution_count": 137,
     "metadata": {},
     "output_type": "execute_result"
    }
   ],
   "source": [
    "expr = x ** 2 + 2 * x + 1\n",
    "simplify(expr)"
   ]
  },
  {
   "cell_type": "code",
   "execution_count": 139,
   "id": "10198448",
   "metadata": {},
   "outputs": [
    {
     "data": {
      "text/latex": [
       "$\\displaystyle x^{2} + 2 x + 1$"
      ],
      "text/plain": [
       "x**2 + 2*x + 1"
      ]
     },
     "execution_count": 139,
     "metadata": {},
     "output_type": "execute_result"
    }
   ],
   "source": [
    "expand((x + 1) ** 2)"
   ]
  },
  {
   "cell_type": "code",
   "execution_count": 141,
   "id": "c8ad1efe",
   "metadata": {},
   "outputs": [
    {
     "data": {
      "text/latex": [
       "$\\displaystyle \\left(x + 1\\right)^{2}$"
      ],
      "text/plain": [
       "(x + 1)**2"
      ]
     },
     "execution_count": 141,
     "metadata": {},
     "output_type": "execute_result"
    }
   ],
   "source": [
    "expr = x ** 2 + 2 * x + 1\n",
    "factor(expr)"
   ]
  },
  {
   "cell_type": "code",
   "execution_count": 145,
   "id": "7135c7bd",
   "metadata": {},
   "outputs": [
    {
     "data": {
      "text/latex": [
       "$\\displaystyle \\left(x - y\\right) \\left(x^{2} + x y + y^{2}\\right)$"
      ],
      "text/plain": [
       "(x - y)*(x**2 + x*y + y**2)"
      ]
     },
     "execution_count": 145,
     "metadata": {},
     "output_type": "execute_result"
    }
   ],
   "source": [
    "factor(x**3 - y**3)"
   ]
  },
  {
   "cell_type": "code",
   "execution_count": 147,
   "id": "42ba114e",
   "metadata": {},
   "outputs": [
    {
     "data": {
      "text/latex": [
       "$\\displaystyle z \\left(x + 2 y\\right)^{2}$"
      ],
      "text/plain": [
       "z*(x + 2*y)**2"
      ]
     },
     "execution_count": 147,
     "metadata": {},
     "output_type": "execute_result"
    }
   ],
   "source": [
    "factor(x**2*z+4*x*y*z+4*y**2*z)"
   ]
  },
  {
   "cell_type": "code",
   "execution_count": 149,
   "id": "eddc7c31",
   "metadata": {},
   "outputs": [
    {
     "data": {
      "text/plain": [
       "(1, [(z, 1), (x + 2*y, 2)])"
      ]
     },
     "execution_count": 149,
     "metadata": {},
     "output_type": "execute_result"
    }
   ],
   "source": [
    "factor_list(x**2*z+4*x*y*z+4*y**2*z)"
   ]
  },
  {
   "cell_type": "code",
   "execution_count": 152,
   "id": "997ff2de",
   "metadata": {},
   "outputs": [
    {
     "data": {
      "text/latex": [
       "$\\displaystyle x + 2 y$"
      ],
      "text/plain": [
       "x + 2*y"
      ]
     },
     "execution_count": 152,
     "metadata": {},
     "output_type": "execute_result"
    }
   ],
   "source": [
    "factor_list(x**2*z+4*x*y*z+4*y**2*z)[1][1][0]"
   ]
  },
  {
   "cell_type": "code",
   "execution_count": 154,
   "id": "ee7bdd79",
   "metadata": {},
   "outputs": [
    {
     "data": {
      "text/latex": [
       "$\\displaystyle \\left(\\sin{\\left(x \\right)} + \\cos{\\left(x \\right)}\\right)^{2}$"
      ],
      "text/plain": [
       "(sin(x) + cos(x))**2"
      ]
     },
     "execution_count": 154,
     "metadata": {},
     "output_type": "execute_result"
    }
   ],
   "source": [
    "factor(sin(x)**2 + 2 * sin(x) * cos(x) + cos(x)**2)"
   ]
  },
  {
   "cell_type": "code",
   "execution_count": 155,
   "id": "1318a7b3",
   "metadata": {},
   "outputs": [],
   "source": [
    "expr = x * y + x - 3 + 2 * x ** 2 - z * x ** 2 + x ** 3"
   ]
  },
  {
   "cell_type": "code",
   "execution_count": 158,
   "id": "8900a977",
   "metadata": {},
   "outputs": [
    {
     "data": {
      "text/latex": [
       "$\\displaystyle x^{3} + x^{2} \\cdot \\left(2 - z\\right) + x \\left(y + 1\\right) - 3$"
      ],
      "text/plain": [
       "x**3 + x**2*(2 - z) + x*(y + 1) - 3"
      ]
     },
     "execution_count": 158,
     "metadata": {},
     "output_type": "execute_result"
    }
   ],
   "source": [
    "collect(expr, x)"
   ]
  },
  {
   "cell_type": "code",
   "execution_count": 160,
   "id": "f9282670",
   "metadata": {},
   "outputs": [
    {
     "data": {
      "text/latex": [
       "$\\displaystyle y + 1$"
      ],
      "text/plain": [
       "y + 1"
      ]
     },
     "execution_count": 160,
     "metadata": {},
     "output_type": "execute_result"
    }
   ],
   "source": [
    "collect(expr, x).coeff(x, 1)"
   ]
  },
  {
   "cell_type": "code",
   "execution_count": 162,
   "id": "441e10ee",
   "metadata": {},
   "outputs": [
    {
     "data": {
      "text/latex": [
       "$\\displaystyle \\frac{\\frac{3 x}{2} - 2}{x - 4} + \\frac{1}{x}$"
      ],
      "text/plain": [
       "(3*x/2 - 2)/(x - 4) + 1/x"
      ]
     },
     "execution_count": 162,
     "metadata": {},
     "output_type": "execute_result"
    }
   ],
   "source": [
    "expr = 1 / x + (3 * x / 2 - 2)/(x - 4)\n",
    "expr"
   ]
  },
  {
   "cell_type": "code",
   "execution_count": 164,
   "id": "29d47c98",
   "metadata": {},
   "outputs": [
    {
     "data": {
      "text/latex": [
       "$\\displaystyle \\frac{3 x^{2} - 2 x - 8}{2 x^{2} - 8 x}$"
      ],
      "text/plain": [
       "(3*x**2 - 2*x - 8)/(2*x**2 - 8*x)"
      ]
     },
     "execution_count": 164,
     "metadata": {},
     "output_type": "execute_result"
    }
   ],
   "source": [
    "cancel(expr)"
   ]
  },
  {
   "cell_type": "code",
   "execution_count": 166,
   "id": "21a7caca",
   "metadata": {},
   "outputs": [
    {
     "data": {
      "text/latex": [
       "$\\displaystyle \\frac{3}{2} + \\frac{4}{x - 4} + \\frac{1}{x}$"
      ],
      "text/plain": [
       "3/2 + 4/(x - 4) + 1/x"
      ]
     },
     "execution_count": 166,
     "metadata": {},
     "output_type": "execute_result"
    }
   ],
   "source": [
    "apart(cancel(expr))"
   ]
  },
  {
   "cell_type": "code",
   "execution_count": 168,
   "id": "acbb6b95",
   "metadata": {},
   "outputs": [
    {
     "data": {
      "text/latex": [
       "$\\displaystyle \\frac{4 x^{3} + 21 x^{2} + 10 x + 12}{x^{4} + 5 x^{3} + 5 x^{2} + 4 x}$"
      ],
      "text/plain": [
       "(4*x**3 + 21*x**2 + 10*x + 12)/(x**4 + 5*x**3 + 5*x**2 + 4*x)"
      ]
     },
     "execution_count": 168,
     "metadata": {},
     "output_type": "execute_result"
    }
   ],
   "source": [
    "expr = (4*x**3+21*x**2+10*x+12)/(x**4+5*x**3+5*x**2+4*x)\n",
    "expr"
   ]
  },
  {
   "cell_type": "code",
   "execution_count": 170,
   "id": "430d404c",
   "metadata": {},
   "outputs": [
    {
     "data": {
      "text/latex": [
       "$\\displaystyle \\frac{2 x - 1}{x^{2} + x + 1} - \\frac{1}{x + 4} + \\frac{3}{x}$"
      ],
      "text/plain": [
       "(2*x - 1)/(x**2 + x + 1) - 1/(x + 4) + 3/x"
      ]
     },
     "execution_count": 170,
     "metadata": {},
     "output_type": "execute_result"
    }
   ],
   "source": [
    "apart(expr)"
   ]
  },
  {
   "cell_type": "code",
   "execution_count": 176,
   "id": "27bec3f0",
   "metadata": {},
   "outputs": [
    {
     "data": {
      "text/latex": [
       "$\\displaystyle \\frac{1}{\\cos^{2}{\\left(x \\right)}}$"
      ],
      "text/plain": [
       "cos(x)**(-2)"
      ]
     },
     "execution_count": 176,
     "metadata": {},
     "output_type": "execute_result"
    }
   ],
   "source": [
    "trigsimp(1+tan(x)**2)"
   ]
  },
  {
   "cell_type": "code",
   "execution_count": 177,
   "id": "d2988e6c",
   "metadata": {},
   "outputs": [
    {
     "data": {
      "text/latex": [
       "$\\displaystyle 128 \\cos^{8}{\\left(x \\right)} - 256 \\cos^{6}{\\left(x \\right)} + 160 \\cos^{4}{\\left(x \\right)} - 32 \\cos^{2}{\\left(x \\right)} + 1$"
      ],
      "text/plain": [
       "128*cos(x)**8 - 256*cos(x)**6 + 160*cos(x)**4 - 32*cos(x)**2 + 1"
      ]
     },
     "execution_count": 177,
     "metadata": {},
     "output_type": "execute_result"
    }
   ],
   "source": [
    "expand_trig(cos(8*x))"
   ]
  }
 ],
 "metadata": {
  "kernelspec": {
   "display_name": "Python 3 (ipykernel)",
   "language": "python",
   "name": "python3"
  },
  "language_info": {
   "codemirror_mode": {
    "name": "ipython",
    "version": 3
   },
   "file_extension": ".py",
   "mimetype": "text/x-python",
   "name": "python",
   "nbconvert_exporter": "python",
   "pygments_lexer": "ipython3",
   "version": "3.9.12"
  },
  "toc": {
   "base_numbering": 1,
   "nav_menu": {},
   "number_sections": true,
   "sideBar": true,
   "skip_h1_title": false,
   "title_cell": "Table of Contents",
   "title_sidebar": "Contents",
   "toc_cell": false,
   "toc_position": {
    "height": "calc(100% - 180px)",
    "left": "10px",
    "top": "150px",
    "width": "349.091px"
   },
   "toc_section_display": true,
   "toc_window_display": true
  }
 },
 "nbformat": 4,
 "nbformat_minor": 5
}
