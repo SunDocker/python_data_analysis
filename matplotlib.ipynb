{
 "cells": [
  {
   "cell_type": "markdown",
   "id": "cbb455d7",
   "metadata": {},
   "source": [
    "# 概述"
   ]
  },
  {
   "cell_type": "markdown",
   "id": "20b7c805",
   "metadata": {},
   "source": [
    "## 数据可视化"
   ]
  },
  {
   "attachments": {},
   "cell_type": "markdown",
   "id": "5c57d1cd",
   "metadata": {},
   "source": [
    "顾名思义，数据可视化就是将数据转换成图或表等，以一种**更直观的方式展现和呈现数据**。通过“可视化”的方式，我们看不懂的数据通过图形化的手段进行有效地表达，准确高效、简洁全面地传递某种信息，甚至帮助我们发现某种**规律和特征**，挖掘数据背后的**价值**"
   ]
  },
  {
   "cell_type": "markdown",
   "id": "2b78bbdb",
   "metadata": {},
   "source": [
    "## Matplotlib简介"
   ]
  },
  {
   "attachments": {},
   "cell_type": "markdown",
   "id": "f97e59a7",
   "metadata": {},
   "source": [
    "Matplotlib 是一款用于数据可视化的 Python 软件包，支持跨平台运行，它能够根据 NumPy ndarray 数组来绘制 2D(3D) 图像，它使用简单、代码清晰易懂，深受广大技术爱好者喜爱。\n",
    "\n",
    "优点:\n",
    "- Matplotlib 提供了一个套面向**绘图对象**编程的 API 接口\n",
    "> 支持`numpy.ndarry`\n",
    "- 依托于 Python ，借助 Python 的强大的可拓展性， Matplotlib 可以在许多不同的环境中被使用\n",
    "- 基于 Matlab 的和基于面向对象的,但是它完全免费(Matlab 是商业数学软件)\n",
    "- Matplotlib 实现了几乎是完全自主控制的图形定义功能"
   ]
  },
  {
   "cell_type": "code",
   "execution_count": 2,
   "id": "119f5c3c",
   "metadata": {},
   "outputs": [
    {
     "data": {
      "text/plain": [
       "'3.5.1'"
      ]
     },
     "execution_count": 2,
     "metadata": {},
     "output_type": "execute_result"
    }
   ],
   "source": [
    "import matplotlib\n",
    "matplotlib.__version__"
   ]
  },
  {
   "cell_type": "code",
   "execution_count": 8,
   "id": "5e468967",
   "metadata": {},
   "outputs": [],
   "source": [
    "# 导入最常用的pyplot模块\n",
    "from matplotlib import pyplot as plt\n",
    "from jupyterthemes import jtplot\n",
    "jtplot.style()"
   ]
  },
  {
   "cell_type": "code",
   "execution_count": 9,
   "id": "ba4f3fb3",
   "metadata": {},
   "outputs": [
    {
     "data": {
      "text/plain": [
       "[<matplotlib.lines.Line2D at 0x132e483a100>]"
      ]
     },
     "execution_count": 9,
     "metadata": {},
     "output_type": "execute_result"
    },
    {
     "data": {
      "image/png": "[encoded data removed]",
      "text/plain": [
       "<Figure size 460.8x403.2 with 1 Axes>"
      ]
     },
     "metadata": {},
     "output_type": "display_data"
    }
   ],
   "source": [
    "import numpy as np\n",
    "x = np.linspace(-50, 50, 101)\n",
    "y = x**2\n",
    "plt.plot(x, y)"
   ]
  }
 ],
 "metadata": {
  "kernelspec": {
   "display_name": "Python 3 (ipykernel)",
   "language": "python",
   "name": "python3"
  },
  "language_info": {
   "codemirror_mode": {
    "name": "ipython",
    "version": 3
   },
   "file_extension": ".py",
   "mimetype": "text/x-python",
   "name": "python",
   "nbconvert_exporter": "python",
   "pygments_lexer": "ipython3",
   "version": "3.9.12"
  },
  "toc": {
   "base_numbering": 1,
   "nav_menu": {},
   "number_sections": true,
   "sideBar": true,
   "skip_h1_title": false,
   "title_cell": "Table of Contents",
   "title_sidebar": "Contents",
   "toc_cell": false,
   "toc_position": {},
   "toc_section_display": true,
   "toc_window_display": true
  }
 },
 "nbformat": 4,
 "nbformat_minor": 5
}
