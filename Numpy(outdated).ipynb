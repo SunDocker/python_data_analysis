{
 "cells": [
  {
   "cell_type": "markdown",
   "id": "01c0c380",
   "metadata": {},
   "source": [
    "# 概述"
   ]
  },
  {
   "cell_type": "markdown",
   "id": "6bbc606a",
   "metadata": {},
   "source": [
    "## Numpy是什么"
   ]
  },
  {
   "cell_type": "markdown",
   "id": "22310d88",
   "metadata": {},
   "source": [
    "> Numerical Python\n",
    "\n",
    "- 一个开源的python科学计算库\n",
    "- 使用Numpy可以方便的使用**数组、矩阵**进行计算\n",
    "- 包含**线性代数、傅里叶变换、随机数生成**等大量函数"
   ]
  },
  {
   "cell_type": "markdown",
   "id": "e91b4b03",
   "metadata": {},
   "source": [
    "## 为什么使用Numpy"
   ]
  },
  {
   "cell_type": "markdown",
   "id": "457fe8a2",
   "metadata": {},
   "source": [
    "- 对于同样的数值计算任务，使用Numpy比直接Python代码实现，优点：\n",
    "    - 代码更简洁：Numpy直接以**数组、矩阵**为粒度计算并且支撑大量的数学函数，而python需要用for循环从底层实现；\n",
    "    - 性能更高效：Numpy的数组存储效率和输入输出计算性能，比Python使用List或者嵌套List好很多；\n",
    "        - 注：Numpy的数据存储和Python原生的List是不一样的\n",
    "        - 注：Numpy的大部分代码都是**C语言**实现的，这是Numpy比纯Python代码高效的原因\n",
    "- Numpy是Python各种数据科学类库的**基础库**：\n",
    "    - 比如：Scipy，Scikit-Learn、TensorFlow，pandas等"
   ]
  },
  {
   "cell_type": "markdown",
   "id": "3e0357dc",
   "metadata": {},
   "source": [
    "## 入门体验"
   ]
  },
  {
   "cell_type": "code",
   "execution_count": 3,
   "id": "19172d5a",
   "metadata": {},
   "outputs": [],
   "source": [
    "import numpy as np"
   ]
  },
  {
   "cell_type": "code",
   "execution_count": 2,
   "id": "0cd6190a",
   "metadata": {},
   "outputs": [
    {
     "data": {
      "text/plain": [
       "'1.21.5'"
      ]
     },
     "execution_count": 2,
     "metadata": {},
     "output_type": "execute_result"
    }
   ],
   "source": [
    "np.__version__"
   ]
  },
  {
   "cell_type": "markdown",
   "id": "39c05b28",
   "metadata": {},
   "source": [
    "需求：\n",
    "实现两个数组的加法\n",
    "1. 数组A是0到N-1的平方\n",
    "2. 数组B是0到N-1的立方\n",
    "\n",
    "对比使用numpy和原生的python性能"
   ]
  },
  {
   "cell_type": "code",
   "execution_count": 3,
   "id": "c593c25a",
   "metadata": {},
   "outputs": [],
   "source": [
    "# 原生python实现\n",
    "def python_sum(n):\n",
    "    '''\n",
    "    原生python实现2个数组的加法\n",
    "    '''\n",
    "    # 使用列表生成式创建1到N的平方\n",
    "    a = [i**2 for i in range(n)]\n",
    "    # 使用列表生成式创建1到N的立方\n",
    "    b = [i**3 for i in range(n)]\n",
    "    # 新创建新列表\n",
    "    ab_sum = []\n",
    "    # 循环a的索引\n",
    "    for i in range(n):\n",
    "        # 将a中的对应元素与b中对应的元素相加\n",
    "        ab_sum.append(a[i]+b[i])\n",
    "    return ab_sum"
   ]
  },
  {
   "cell_type": "code",
   "execution_count": 4,
   "id": "8890fb73",
   "metadata": {},
   "outputs": [
    {
     "data": {
      "text/plain": [
       "[0, 2, 12, 36, 80, 150, 252, 392, 576, 810]"
      ]
     },
     "execution_count": 4,
     "metadata": {},
     "output_type": "execute_result"
    }
   ],
   "source": [
    "python_sum(10)"
   ]
  },
  {
   "cell_type": "code",
   "execution_count": 5,
   "id": "01770ddd",
   "metadata": {},
   "outputs": [],
   "source": [
    "def numpy_sum(n):\n",
    "    '''\n",
    "    numpy实现2个数组的加法\n",
    "    '''\n",
    "    a = np.arange(n) ** 2\n",
    "    b = np.arange(n) ** 3\n",
    "    return a + b"
   ]
  },
  {
   "cell_type": "code",
   "execution_count": 6,
   "id": "5240440f",
   "metadata": {},
   "outputs": [
    {
     "data": {
      "text/plain": [
       "array([  0,   2,  12,  36,  80, 150, 252, 392, 576, 810], dtype=int32)"
      ]
     },
     "execution_count": 6,
     "metadata": {},
     "output_type": "execute_result"
    }
   ],
   "source": [
    "numpy_sum(10)"
   ]
  },
  {
   "cell_type": "markdown",
   "id": "85ecf33c",
   "metadata": {},
   "source": [
    "对比实现1000次"
   ]
  },
  {
   "cell_type": "code",
   "execution_count": 8,
   "id": "58da85ca",
   "metadata": {},
   "outputs": [
    {
     "name": "stdout",
     "output_type": "stream",
     "text": [
      "1.51 ms ± 57.9 µs per loop (mean ± std. dev. of 7 runs, 1,000 loops each)\n"
     ]
    }
   ],
   "source": [
    "%timeit python_sum(1000)"
   ]
  },
  {
   "cell_type": "code",
   "execution_count": 9,
   "id": "ecfe8f10",
   "metadata": {},
   "outputs": [
    {
     "name": "stdout",
     "output_type": "stream",
     "text": [
      "22.9 µs ± 2.13 µs per loop (mean ± std. dev. of 7 runs, 10,000 loops each)\n"
     ]
    }
   ],
   "source": [
    "%timeit numpy_sum(1000)"
   ]
  },
  {
   "cell_type": "markdown",
   "id": "5266bb16",
   "metadata": {},
   "source": [
    "对比实现10w次"
   ]
  },
  {
   "cell_type": "code",
   "execution_count": 10,
   "id": "28e047cc",
   "metadata": {},
   "outputs": [
    {
     "name": "stdout",
     "output_type": "stream",
     "text": [
      "162 ms ± 5.7 ms per loop (mean ± std. dev. of 7 runs, 10 loops each)\n"
     ]
    }
   ],
   "source": [
    "%timeit python_sum(100000)"
   ]
  },
  {
   "cell_type": "code",
   "execution_count": 11,
   "id": "2cbfff05",
   "metadata": {},
   "outputs": [
    {
     "name": "stdout",
     "output_type": "stream",
     "text": [
      "992 µs ± 35.3 µs per loop (mean ± std. dev. of 7 runs, 1,000 loops each)\n"
     ]
    }
   ],
   "source": [
    "%timeit numpy_sum(100000)"
   ]
  },
  {
   "cell_type": "markdown",
   "id": "c581763f",
   "metadata": {},
   "source": [
    "对比实现100w次"
   ]
  },
  {
   "cell_type": "code",
   "execution_count": 12,
   "id": "73d05666",
   "metadata": {},
   "outputs": [
    {
     "name": "stdout",
     "output_type": "stream",
     "text": [
      "1.69 s ± 67.4 ms per loop (mean ± std. dev. of 7 runs, 1 loop each)\n"
     ]
    }
   ],
   "source": [
    "%timeit python_sum(1000000)"
   ]
  },
  {
   "cell_type": "code",
   "execution_count": 13,
   "id": "ac8ef9b9",
   "metadata": {},
   "outputs": [
    {
     "name": "stdout",
     "output_type": "stream",
     "text": [
      "16.3 ms ± 288 µs per loop (mean ± std. dev. of 7 runs, 100 loops each)\n"
     ]
    }
   ],
   "source": [
    "%timeit numpy_sum(1000000)"
   ]
  },
  {
   "cell_type": "markdown",
   "id": "73dad8ef",
   "metadata": {},
   "source": [
    "绘图对比"
   ]
  },
  {
   "cell_type": "code",
   "execution_count": 14,
   "id": "9a88f5fd",
   "metadata": {},
   "outputs": [],
   "source": [
    "import pandas as pd\n",
    "# 创建数据\n",
    "python_times = [1.55*1000,143*1000,1.64*1000*1000]\n",
    "numpy_times = [15,1.32*1000,14.9*1000]"
   ]
  },
  {
   "cell_type": "code",
   "execution_count": 15,
   "id": "feef81b3",
   "metadata": {},
   "outputs": [],
   "source": [
    "# 创建pandas的DataFrame类型数据\n",
    "charts_data = pd.DataFrame({\n",
    "    'python_times':python_times,\n",
    "    'numpy_times':numpy_times,\n",
    "})"
   ]
  },
  {
   "cell_type": "code",
   "execution_count": 16,
   "id": "667976d6",
   "metadata": {},
   "outputs": [
    {
     "data": {
      "text/html": [
       "<div>\n",
       "<style scoped>\n",
       "    .dataframe tbody tr th:only-of-type {\n",
       "        vertical-align: middle;\n",
       "    }\n",
       "\n",
       "    .dataframe tbody tr th {\n",
       "        vertical-align: top;\n",
       "    }\n",
       "\n",
       "    .dataframe thead th {\n",
       "        text-align: right;\n",
       "    }\n",
       "</style>\n",
       "<table border=\"1\" class=\"dataframe\">\n",
       "  <thead>\n",
       "    <tr style=\"text-align: right;\">\n",
       "      <th></th>\n",
       "      <th>python_times</th>\n",
       "      <th>numpy_times</th>\n",
       "    </tr>\n",
       "  </thead>\n",
       "  <tbody>\n",
       "    <tr>\n",
       "      <th>0</th>\n",
       "      <td>1550.0</td>\n",
       "      <td>15.0</td>\n",
       "    </tr>\n",
       "    <tr>\n",
       "      <th>1</th>\n",
       "      <td>143000.0</td>\n",
       "      <td>1320.0</td>\n",
       "    </tr>\n",
       "    <tr>\n",
       "      <th>2</th>\n",
       "      <td>1640000.0</td>\n",
       "      <td>14900.0</td>\n",
       "    </tr>\n",
       "  </tbody>\n",
       "</table>\n",
       "</div>"
      ],
      "text/plain": [
       "   python_times  numpy_times\n",
       "0        1550.0         15.0\n",
       "1      143000.0       1320.0\n",
       "2     1640000.0      14900.0"
      ]
     },
     "execution_count": 16,
     "metadata": {},
     "output_type": "execute_result"
    }
   ],
   "source": [
    "charts_data"
   ]
  },
  {
   "cell_type": "code",
   "execution_count": 19,
   "id": "5e6d9776",
   "metadata": {},
   "outputs": [],
   "source": [
    "from jupyterthemes import jtplot\n",
    "jtplot.style()"
   ]
  },
  {
   "cell_type": "code",
   "execution_count": 20,
   "id": "e8248c54",
   "metadata": {},
   "outputs": [
    {
     "data": {
      "text/plain": [
       "<AxesSubplot:>"
      ]
     },
     "execution_count": 20,
     "metadata": {},
     "output_type": "execute_result"
    },
    {
     "data": {
      "image/png": "[encoded data removed]",
      "text/plain": [
       "<Figure size 460.8x403.2 with 1 Axes>"
      ]
     },
     "metadata": {},
     "output_type": "display_data"
    }
   ],
   "source": [
    "# 线性图\n",
    "charts_data.plot()"
   ]
  },
  {
   "cell_type": "code",
   "execution_count": 21,
   "id": "6ef482bb",
   "metadata": {},
   "outputs": [
    {
     "data": {
      "text/plain": [
       "<AxesSubplot:>"
      ]
     },
     "execution_count": 21,
     "metadata": {},
     "output_type": "execute_result"
    },
    {
     "data": {
      "image/png": "[encoded data removed]",
      "text/plain": [
       "<Figure size 460.8x403.2 with 1 Axes>"
      ]
     },
     "metadata": {},
     "output_type": "display_data"
    }
   ],
   "source": [
    "# 柱状图\n",
    "charts_data.plot.bar()"
   ]
  },
  {
   "cell_type": "markdown",
   "id": "e06747c7",
   "metadata": {},
   "source": [
    "# ndarray对象"
   ]
  },
  {
   "cell_type": "markdown",
   "id": "3e8e7a18",
   "metadata": {},
   "source": [
    "## 概述"
   ]
  },
  {
   "cell_type": "markdown",
   "id": "92dfefab",
   "metadata": {},
   "source": [
    "- NumPy是一个高效的运算工具"
   ]
  },
  {
   "cell_type": "markdown",
   "id": "92fb85cb",
   "metadata": {},
   "source": [
    "- NumPy 定义了一个 n 维数组对象，简称 ndarray 对象，它是一个一系列相同类型元素组成的数组集合。数组中的每个元素都占有大小相同的内存块 \n",
    "- ndarray 对象采用了数组的**索引机制**，将数组中的每个元素**映射**到内存块上，并且按照一定的布局对内存块进行排列(行或列)。\n",
    "- 对 ndarray 对象直接使用运算符时，通常会对数组内的元素直接进行运算，不需要遍历操作"
   ]
  },
  {
   "cell_type": "markdown",
   "id": "7c28de2a",
   "metadata": {},
   "source": [
    "## 创建数组"
   ]
  },
  {
   "cell_type": "markdown",
   "id": "307bad99",
   "metadata": {},
   "source": [
    "`numpy.array(object, dtype = None, copy = True, order = None,subok=False,ndmin = 0)`"
   ]
  },
  {
   "cell_type": "markdown",
   "id": "dcc39df8",
   "metadata": {},
   "source": [
    "![](pics/[{1V1\\)6@~%KF0A5O}0~`~SN.png)\n",
    "> copy和subok之后会详解，order先不用了解"
   ]
  },
  {
   "cell_type": "markdown",
   "id": "1e447aae",
   "metadata": {},
   "source": [
    "- `array()`函数：括号内可以是**列表、元组、数组、迭代对象、生成器**等\n",
    "- 列表中**元素类型**不相同时，会按照所占**存储空间最大的类型**转换\n",
    "- 嵌套序列元素数量不同时，会出错"
   ]
  },
  {
   "cell_type": "code",
   "execution_count": 33,
   "id": "6a6047ca",
   "metadata": {},
   "outputs": [
    {
     "data": {
      "text/plain": [
       "array([1, 2, 3, 4, 5])"
      ]
     },
     "execution_count": 33,
     "metadata": {},
     "output_type": "execute_result"
    }
   ],
   "source": [
    "#array()函数，括号内可以是列表、元祖、数组、迭代对象,生成器等\n",
    "np.array([1,2,3,4,5])"
   ]
  },
  {
   "cell_type": "code",
   "execution_count": 25,
   "id": "6c8a42f3",
   "metadata": {},
   "outputs": [
    {
     "data": {
      "text/plain": [
       "array([1, 2, 3, 4, 5])"
      ]
     },
     "execution_count": 25,
     "metadata": {},
     "output_type": "execute_result"
    }
   ],
   "source": [
    "# 元组\n",
    "np.array((1,2,3,4,5))"
   ]
  },
  {
   "cell_type": "code",
   "execution_count": 36,
   "id": "8e6ef91e",
   "metadata": {},
   "outputs": [
    {
     "data": {
      "text/plain": [
       "array([1, 2, 3, 4, 5])"
      ]
     },
     "execution_count": 36,
     "metadata": {},
     "output_type": "execute_result"
    }
   ],
   "source": [
    "a = np.array([1,2,3,4,5])\n",
    "# 数组\n",
    "b = np.array(a)\n",
    "b"
   ]
  },
  {
   "cell_type": "markdown",
   "id": "43a59fe4",
   "metadata": {},
   "source": [
    "> 注意这里copy数组的方法，之后会详解"
   ]
  },
  {
   "cell_type": "code",
   "execution_count": 31,
   "id": "3ea9e08d",
   "metadata": {},
   "outputs": [
    {
     "data": {
      "text/plain": [
       "array([0, 1, 2, 3, 4, 5, 6, 7, 8, 9])"
      ]
     },
     "execution_count": 31,
     "metadata": {},
     "output_type": "execute_result"
    }
   ],
   "source": [
    "# 迭代对象\n",
    "np.array(range(10))"
   ]
  },
  {
   "cell_type": "code",
   "execution_count": 34,
   "id": "ebf02bb7",
   "metadata": {},
   "outputs": [
    {
     "data": {
      "text/plain": [
       "array([ 0,  1,  4,  9, 16, 25, 36, 49, 64, 81])"
      ]
     },
     "execution_count": 34,
     "metadata": {},
     "output_type": "execute_result"
    }
   ],
   "source": [
    "# 生成器\n",
    "np.array([i**2 for i in range(10)])"
   ]
  },
  {
   "cell_type": "code",
   "execution_count": 37,
   "id": "a370113d",
   "metadata": {},
   "outputs": [
    {
     "data": {
      "text/plain": [
       "array(['1', '1.5', '3', '4.5', '5'], dtype='<U32')"
      ]
     },
     "execution_count": 37,
     "metadata": {},
     "output_type": "execute_result"
    }
   ],
   "source": [
    "# 列表中元素类型不相同\n",
    "# 按照所占存储空间最大的类型转换\n",
    "np.array([1,1.5,3,4.5,'5'])"
   ]
  },
  {
   "cell_type": "code",
   "execution_count": 39,
   "id": "1f07e667",
   "metadata": {},
   "outputs": [
    {
     "data": {
      "text/plain": [
       "array([['1', '2', '3'],\n",
       "       ['a', 'b', 'c']], dtype='<U11')"
      ]
     },
     "execution_count": 39,
     "metadata": {},
     "output_type": "execute_result"
    }
   ],
   "source": [
    "ar3 = np.array([\n",
    "                [1,2,3],\n",
    "                ('a','b','c')\n",
    "               ])   # 二维数组：嵌套序列（列表，元组均可）\n",
    "ar3"
   ]
  },
  {
   "cell_type": "code",
   "execution_count": 42,
   "id": "a6ad4c29",
   "metadata": {},
   "outputs": [
    {
     "name": "stderr",
     "output_type": "stream",
     "text": [
      "C:\\Users\\不怕晒的铃铛\\AppData\\Local\\Temp\\ipykernel_868\\3827356794.py:2: VisibleDeprecationWarning: Creating an ndarray from ragged nested sequences (which is a list-or-tuple of lists-or-tuples-or ndarrays with different lengths or shapes) is deprecated. If you meant to do this, you must specify 'dtype=object' when creating the ndarray.\n",
      "  ar4 = np.array([[1,2,3],('a','b','c','d')])\n"
     ]
    },
    {
     "data": {
      "text/plain": [
       "array([list([1, 2, 3]), ('a', 'b', 'c', 'd')], dtype=object)"
      ]
     },
     "execution_count": 42,
     "metadata": {},
     "output_type": "execute_result"
    }
   ],
   "source": [
    "# 注意嵌套序列元素数量不一致会怎么样\n",
    "ar4 = np.array([[1,2,3],('a','b','c','d')])   \n",
    "ar4"
   ]
  },
  {
   "cell_type": "code",
   "execution_count": 44,
   "id": "8d2531da",
   "metadata": {},
   "outputs": [
    {
     "name": "stderr",
     "output_type": "stream",
     "text": [
      "C:\\Users\\不怕晒的铃铛\\AppData\\Local\\Temp\\ipykernel_868\\1210354137.py:2: VisibleDeprecationWarning: Creating an ndarray from ragged nested sequences (which is a list-or-tuple of lists-or-tuples-or ndarrays with different lengths or shapes) is deprecated. If you meant to do this, you must specify 'dtype=object' when creating the ndarray.\n",
      "  ar4 = np.array([[1,2,3],[1,2,3,4]])\n"
     ]
    },
    {
     "data": {
      "text/plain": [
       "array([list([1, 2, 3]), list([1, 2, 3, 4])], dtype=object)"
      ]
     },
     "execution_count": 44,
     "metadata": {},
     "output_type": "execute_result"
    }
   ],
   "source": [
    "# 注意嵌套序列数量不一会怎么样\n",
    "ar4 = np.array([[1,2,3],[1,2,3,4]]) \n",
    "ar4"
   ]
  },
  {
   "cell_type": "markdown",
   "id": "359b09e7",
   "metadata": {},
   "source": [
    "1. 设置dtype参数，默认自动识别"
   ]
  },
  {
   "cell_type": "code",
   "execution_count": 48,
   "id": "86bc4298",
   "metadata": {},
   "outputs": [
    {
     "name": "stdout",
     "output_type": "stream",
     "text": [
      "[1 2 3 4 5]\n"
     ]
    },
    {
     "data": {
      "text/plain": [
       "array([1., 2., 3., 4., 5.])"
      ]
     },
     "execution_count": 48,
     "metadata": {},
     "output_type": "execute_result"
    }
   ],
   "source": [
    "a = np.array([1,2,3,4,5])\n",
    "print(a)\n",
    "# 设置数组元素类型\n",
    "has_dtype_a = np.array([1,2,3,4,5],dtype='float')\n",
    "has_dtype_a\n",
    "# [1.,2.,3.,4.,5.]"
   ]
  },
  {
   "cell_type": "markdown",
   "id": "967e9e01",
   "metadata": {},
   "source": [
    "> 思考如果将浮点型的数据设置为整形，会是什么情况？"
   ]
  },
  {
   "cell_type": "code",
   "execution_count": 49,
   "id": "b03d4989",
   "metadata": {},
   "outputs": [
    {
     "data": {
      "text/plain": [
       "array([1, 2, 3, 4, 5])"
      ]
     },
     "execution_count": 49,
     "metadata": {},
     "output_type": "execute_result"
    }
   ],
   "source": [
    "np.array([1.1,2.5,3.8,4,5],dtype='int')\n",
    "# 默认没有四舍五入。如果想四舍五入，可以使用round()函数"
   ]
  },
  {
   "cell_type": "markdown",
   "id": "a52ed627",
   "metadata": {},
   "source": [
    "2. 设置copy参数，是否允许深拷贝，默认为`True`\n",
    "> 这也是**复制数组**的一种方式"
   ]
  },
  {
   "cell_type": "code",
   "execution_count": 58,
   "id": "0d01d865",
   "metadata": {},
   "outputs": [
    {
     "name": "stdout",
     "output_type": "stream",
     "text": [
      "a: 1331723216432   b: 1331722608432\n",
      "以上看出a和b的内存地址\n",
      "[1 2 3 4 5]\n"
     ]
    }
   ],
   "source": [
    "a = np.array([1,2,3,4,5])\n",
    "# 定义b，复制a\n",
    "b = np.array(a)\n",
    "# 输出a和b的id\n",
    "print('a:', id(a), '  b:', id(b))\n",
    "print('以上看出a和b的内存地址')\n",
    "b[0] = 10\n",
    "print(a)"
   ]
  },
  {
   "cell_type": "code",
   "execution_count": 59,
   "id": "6f6330a6",
   "metadata": {},
   "outputs": [
    {
     "name": "stdout",
     "output_type": "stream",
     "text": [
      "a: [1 2 3 4 5]   b: [10  2  3  4  5]\n",
      "==========\n"
     ]
    }
   ],
   "source": [
    "# 当修改b的元素时，a不会发生变化\n",
    "b[0] = 10\n",
    "print('a:', a,'  b:', b)\n",
    "print('=' * 10)"
   ]
  },
  {
   "cell_type": "code",
   "execution_count": 67,
   "id": "83d65008",
   "metadata": {},
   "outputs": [
    {
     "name": "stdout",
     "output_type": "stream",
     "text": [
      "a: 1331722627472   b: 1331722627472\n",
      "以上看出a和b的内存地址\n",
      "a: [10  2  3  4  5]   b: [10  2  3  4  5]\n"
     ]
    }
   ],
   "source": [
    "a = np.array([1,2,3,4,5])\n",
    "# 定义b，当设置copy参数为Fasle时，不会创建副本，\n",
    "# 两个变量会指向相同的内容地址，没有创建新的对象\n",
    "b = np.array(a, copy=False)\n",
    "# 输出a和b的id\n",
    "print('a:', id(a), '  b:', id(b))\n",
    "print('以上看出a和b的内存地址')\n",
    "# 由于a和b指向的是相同的内存地址，因此当修改b的元素时，a会发生变化\n",
    "b[0] = 10\n",
    "print('a:',a,'  b:',b)"
   ]
  },
  {
   "cell_type": "code",
   "execution_count": 68,
   "id": "be39e562",
   "metadata": {},
   "outputs": [
    {
     "name": "stdout",
     "output_type": "stream",
     "text": [
      "b = np.array(a)： 1331723286448 1331723286160\n",
      "c = a.copy()： 1331722627472 1331723286160\n",
      "d = a： 1331723286160 1331723286160\n"
     ]
    }
   ],
   "source": [
    "#定义个数组\n",
    "a = np.array([2,4,3,1])\n",
    "# 在定义b时，如果想复制a的几种方案：\n",
    "\n",
    "# 1.使用np.array()\n",
    "b = np.array(a)\n",
    "print('b = np.array(a)：',id(b),id(a))\n",
    "\n",
    "# 2.使用数组的copy()方法\n",
    "c = a.copy()\n",
    "print('c = a.copy()：',id(c),id(a))\n",
    "\n",
    "# 注意不能直接使用=号复制，直接使用=号，会使2个变量指向相同的内存地址\n",
    "d = a\n",
    "# 修改d也会相应的修改a\n",
    "print('d = a：',id(d),id(a))"
   ]
  },
  {
   "cell_type": "markdown",
   "id": "4f3414fe",
   "metadata": {},
   "source": [
    "3. `ndmin`用于指定数组的维度"
   ]
  },
  {
   "cell_type": "code",
   "execution_count": 64,
   "id": "6cc1dc82",
   "metadata": {},
   "outputs": [
    {
     "name": "stdout",
     "output_type": "stream",
     "text": [
      "[1 2 3]\n",
      "2\n"
     ]
    },
    {
     "data": {
      "text/plain": [
       "array([[1, 2, 3]])"
      ]
     },
     "execution_count": 64,
     "metadata": {},
     "output_type": "execute_result"
    }
   ],
   "source": [
    "a = np.array([1,2,3])\n",
    "print(a)\n",
    "a = np.array([1,2,3], ndmin=2)\n",
    "print(a.ndim)\n",
    "a"
   ]
  },
  {
   "cell_type": "markdown",
   "id": "ce31a65f",
   "metadata": {},
   "source": [
    "4. `subok`参数，类型为bool值，默认False。\n",
    "- True: 使用object的内部数据类型\n",
    "- False：使用数组数据类型。"
   ]
  },
  {
   "cell_type": "code",
   "execution_count": 66,
   "id": "7d188054",
   "metadata": {},
   "outputs": [
    {
     "name": "stdout",
     "output_type": "stream",
     "text": [
      "<class 'numpy.matrix'>\n",
      "at,subok为True: <class 'numpy.matrix'>\n",
      "[[1 2 3 4]]\n",
      "af,subok为False: <class 'numpy.ndarray'>\n",
      "[[1 2 3 4]]\n",
      "1331723282016 1331723281904\n"
     ]
    }
   ],
   "source": [
    "# 创建一个矩阵\n",
    "a = np.mat([1,2,3,4])\n",
    "# 输出为矩阵类型\n",
    "print(type(a))\n",
    "\n",
    "#既要复制一份副本，又要保持原类型\n",
    "at = np.array(a,subok=True)\n",
    "af = np.array(a)  # 默认为False\n",
    "print('at,subok为True:',type(at))\n",
    "print(at)\n",
    "print('af,subok为False:',type(af))\n",
    "print(af)\n",
    "print(id(at),id(a))"
   ]
  },
  {
   "cell_type": "markdown",
   "id": "ac73767a",
   "metadata": {},
   "source": [
    "## 生成序列数组"
   ]
  },
  {
   "cell_type": "markdown",
   "id": "88f84adf",
   "metadata": {},
   "source": [
    "根据 start 与 stop 指定的范围以及 step 设定的步长，生成一个 ndarray\n",
    "\n",
    "<b>numpy.arange(start, stop, step, dtype)</b>\n",
    "\n",
    "参数说明   \n",
    "\n",
    "| 序号 | 参数 | 描述说明 |\n",
    "| :--- | :--- | :--- |\n",
    "| 1      | start| 起始值，默认为0   |\n",
    "| 2   | stop | 终止值（不包含）        |\n",
    "| 3      | step | 步长，默认为1        |\n",
    "| 4      | dtype |  返回ndarray的数据类型，如果没有提供，则会使用输入数据的类型。     |"
   ]
  },
  {
   "cell_type": "code",
   "execution_count": 71,
   "id": "91f50662",
   "metadata": {},
   "outputs": [
    {
     "data": {
      "text/plain": [
       "array([0, 1, 2, 3, 4, 5, 6, 7, 8, 9])"
      ]
     },
     "execution_count": 71,
     "metadata": {},
     "output_type": "execute_result"
    }
   ],
   "source": [
    "np.arange(10)\n",
    "# np.array(range(10))"
   ]
  },
  {
   "cell_type": "code",
   "execution_count": 72,
   "id": "1555757c",
   "metadata": {},
   "outputs": [
    {
     "data": {
      "text/plain": [
       "array([0., 1., 2., 3.])"
      ]
     },
     "execution_count": 72,
     "metadata": {},
     "output_type": "execute_result"
    }
   ],
   "source": [
    "# 可以使用浮点型数值\n",
    "np.arange(3.1)"
   ]
  },
  {
   "cell_type": "code",
   "execution_count": 73,
   "id": "d96fee8a",
   "metadata": {},
   "outputs": [
    {
     "ename": "TypeError",
     "evalue": "'float' object cannot be interpreted as an integer",
     "output_type": "error",
     "traceback": [
      "\u001b[1;31m---------------------------------------------------------------------------\u001b[0m",
      "\u001b[1;31mTypeError\u001b[0m                                 Traceback (most recent call last)",
      "Input \u001b[1;32mIn [73]\u001b[0m, in \u001b[0;36m<cell line: 2>\u001b[1;34m()\u001b[0m\n\u001b[0;32m      1\u001b[0m \u001b[38;5;66;03m# 这个的结果？\u001b[39;00m\n\u001b[1;32m----> 2\u001b[0m \u001b[38;5;28;43mrange\u001b[39;49m\u001b[43m(\u001b[49m\u001b[38;5;241;43m3.1\u001b[39;49m\u001b[43m)\u001b[49m\n",
      "\u001b[1;31mTypeError\u001b[0m: 'float' object cannot be interpreted as an integer"
     ]
    }
   ],
   "source": [
    "# 这个的结果？\n",
    "range(3.1)\n",
    "# a --- [0., 1., 2., 3.]\n",
    "# b --- [0, 1, 2, 3]\n",
    "# c --- 错误 √"
   ]
  },
  {
   "cell_type": "code",
   "execution_count": 74,
   "id": "9cad2524",
   "metadata": {},
   "outputs": [
    {
     "data": {
      "text/plain": [
       "array([0., 1., 2., 3., 4.])"
      ]
     },
     "execution_count": 74,
     "metadata": {},
     "output_type": "execute_result"
    }
   ],
   "source": [
    "# 想返回浮点型的，也可以指定类型\n",
    "x = np.arange(5, dtype =  float)  \n",
    "x"
   ]
  },
  {
   "cell_type": "code",
   "execution_count": 75,
   "id": "a67b0c75",
   "metadata": {},
   "outputs": [
    {
     "data": {
      "text/plain": [
       "array([10, 12, 14, 16, 18])"
      ]
     },
     "execution_count": 75,
     "metadata": {},
     "output_type": "execute_result"
    }
   ],
   "source": [
    "# 起始10 ，终止值20 步长2\n",
    "np.arange(10,20,2)"
   ]
  },
  {
   "cell_type": "code",
   "execution_count": 77,
   "id": "1d8d673e",
   "metadata": {},
   "outputs": [
    {
     "name": "stdout",
     "output_type": "stream",
     "text": [
      "[]\n"
     ]
    }
   ],
   "source": [
    "# 起始0，终止值20，步长3\n",
    "ar2 = np.arange(20,3) # 这个书写是否正确?\n",
    "print(ar2)\n",
    "# A - 正确\n",
    "# B - 错误 √"
   ]
  },
  {
   "cell_type": "code",
   "execution_count": 80,
   "id": "1a012a2e",
   "metadata": {},
   "outputs": [
    {
     "name": "stdout",
     "output_type": "stream",
     "text": [
      "[ 0  3  6  9 12 15 18]\n"
     ]
    },
    {
     "data": {
      "text/plain": [
       "array([ 0,  3,  6,  9, 12, 15, 18])"
      ]
     },
     "execution_count": 80,
     "metadata": {},
     "output_type": "execute_result"
    }
   ],
   "source": [
    "#正确的书写格式是什么\n",
    "# 起始0，终止值20，步长3\n",
    "ar2 = np.arange(0, 20, 3) # 这个书写是否正确? √\n",
    "print(ar2)\n",
    "ar3 = np.arange(20, step = 3)\n",
    "ar3"
   ]
  },
  {
   "cell_type": "code",
   "execution_count": 82,
   "id": "758bbad9",
   "metadata": {},
   "outputs": [
    {
     "data": {
      "text/plain": [
       "array([   0,    1,    2, ..., 9997, 9998, 9999])"
      ]
     },
     "execution_count": 82,
     "metadata": {},
     "output_type": "execute_result"
    }
   ],
   "source": [
    "# 如果数组太大而无法打印，NumPy会自动跳过数组的中心部分，并只打印边角：\n",
    "np.arange(10000)"
   ]
  },
  {
   "cell_type": "markdown",
   "id": "df669b82",
   "metadata": {},
   "source": [
    "> 在庆祝教师节活动中，学校为了烘托节日气氛，在200米长的校园主干道一侧，\n",
    ">\n",
    "> 从起点开始，每间隔3米插一面彩旗，由近到远排成一排，\n",
    ">\n",
    "> 问：\n",
    "> \n",
    "> 1.最后一面彩旗会插到终点处吗？\n",
    ">\n",
    "> 2.一共应插多少面彩旗？"
   ]
  },
  {
   "cell_type": "code",
   "execution_count": 84,
   "id": "12402fae",
   "metadata": {},
   "outputs": [
    {
     "data": {
      "text/plain": [
       "array([  0,   3,   6,   9,  12,  15,  18,  21,  24,  27,  30,  33,  36,\n",
       "        39,  42,  45,  48,  51,  54,  57,  60,  63,  66,  69,  72,  75,\n",
       "        78,  81,  84,  87,  90,  93,  96,  99, 102, 105, 108, 111, 114,\n",
       "       117, 120, 123, 126, 129, 132, 135, 138, 141, 144, 147, 150, 153,\n",
       "       156, 159, 162, 165, 168, 171, 174, 177, 180, 183, 186, 189, 192,\n",
       "       195, 198])"
      ]
     },
     "execution_count": 84,
     "metadata": {},
     "output_type": "execute_result"
    }
   ],
   "source": [
    "np.arange(0, 200 + 1, 3)"
   ]
  },
  {
   "cell_type": "code",
   "execution_count": 85,
   "id": "d3383d63",
   "metadata": {},
   "outputs": [
    {
     "data": {
      "text/plain": [
       "67"
      ]
     },
     "execution_count": 85,
     "metadata": {},
     "output_type": "execute_result"
    }
   ],
   "source": [
    "len(np.arange(0, 200 + 1, 3))"
   ]
  },
  {
   "cell_type": "markdown",
   "id": "29e4d3a6",
   "metadata": {},
   "source": [
    "> 如何防止 float 的不精确问题影响numpy.arange？接下来就会讲到\n",
    ">\n",
    "> > <font color=red>注意：ceil((stop - start)/step)确定项目数，小数点不精确(stop = .400000001)可以向列表中添加意外值。</font>"
   ]
  },
  {
   "cell_type": "code",
   "execution_count": 86,
   "id": "133a90e0",
   "metadata": {},
   "outputs": [
    {
     "data": {
      "text/plain": [
       "array([0.1, 0.2, 0.3, 0.4])"
      ]
     },
     "execution_count": 86,
     "metadata": {},
     "output_type": "execute_result"
    }
   ],
   "source": [
    "np.arange(0.1,0.4,0.1)"
   ]
  },
  {
   "cell_type": "markdown",
   "id": "1348b1e5",
   "metadata": {},
   "source": [
    "## 常见数列"
   ]
  },
  {
   "cell_type": "markdown",
   "id": "b95aec56",
   "metadata": {},
   "source": [
    "### 等差数列"
   ]
  },
  {
   "cell_type": "markdown",
   "id": "27152860",
   "metadata": {},
   "source": [
    "<b>np.linspace(start, stop, num=50, endpoint=True, retstep=False, dtype=None)</b>\n",
    "\n",
    "参数说明   \n",
    "\n",
    "| 序号 | 参数 | 描述说明 |\n",
    "| :--- | :--- | :--- |\n",
    "| 1      | start| 必填项，序列的起始值，  |\n",
    "| 2   | stop | 必填项，序列的终止值，如果endpoint为true，该值包含于数列中      |\n",
    "| 3      | num | 要生成的等步长的样本数量，默认为50      |\n",
    "| 4      | endpoint |  该值为 true 时，数列中包含stop值，反之不包含，默认是True。  | \n",
    "| 5      | retstep |  如果为 True 时，生成的数组中会显示间距，反之不显示。   | \n",
    "| 6      | dtype |  ndarray 的数据类型 | "
   ]
  },
  {
   "cell_type": "code",
   "execution_count": 88,
   "id": "4e7d00d0",
   "metadata": {},
   "outputs": [
    {
     "data": {
      "text/plain": [
       "array([ 1.,  2.,  3.,  4.,  5.,  6.,  7.,  8.,  9., 10.])"
      ]
     },
     "execution_count": 88,
     "metadata": {},
     "output_type": "execute_result"
    }
   ],
   "source": [
    "a = np.linspace(1, 10, 10)\n",
    "a"
   ]
  },
  {
   "cell_type": "code",
   "execution_count": 90,
   "id": "2884ef56",
   "metadata": {},
   "outputs": [
    {
     "data": {
      "text/plain": [
       "array([1.  , 1.18, 1.36, 1.54, 1.72, 1.9 , 2.08, 2.26, 2.44, 2.62, 2.8 ,\n",
       "       2.98, 3.16, 3.34, 3.52, 3.7 , 3.88, 4.06, 4.24, 4.42, 4.6 , 4.78,\n",
       "       4.96, 5.14, 5.32, 5.5 , 5.68, 5.86, 6.04, 6.22, 6.4 , 6.58, 6.76,\n",
       "       6.94, 7.12, 7.3 , 7.48, 7.66, 7.84, 8.02, 8.2 , 8.38, 8.56, 8.74,\n",
       "       8.92, 9.1 , 9.28, 9.46, 9.64, 9.82])"
      ]
     },
     "execution_count": 90,
     "metadata": {},
     "output_type": "execute_result"
    }
   ],
   "source": [
    "a = np.linspace(1,10,endpoint=False)\n",
    "a"
   ]
  },
  {
   "cell_type": "code",
   "execution_count": 92,
   "id": "d4d64918",
   "metadata": {},
   "outputs": [
    {
     "name": "stdout",
     "output_type": "stream",
     "text": [
      "[0.  0.5 1.  1.5 2.  2.5 3.  3.5 4. ]\n",
      "[0.     0.5125 1.025  1.5375 2.05   2.5625 3.075  3.5875 4.1   ]\n"
     ]
    }
   ],
   "source": [
    "# 使用等差数列 实现输出0 0.5 1 1.5 2 2.5 3 3.5 4\n",
    "# 选择题： A 还是 B \n",
    "A = np.linspace(0, 4, 9)\n",
    "print(A)\n",
    "B = np.linspace(0, 4.1, 9)\n",
    "print(B)"
   ]
  },
  {
   "cell_type": "code",
   "execution_count": 94,
   "id": "96de9733",
   "metadata": {},
   "outputs": [
    {
     "data": {
      "text/plain": [
       "array([2.  , 2.25, 2.5 , 2.75, 3.  ])"
      ]
     },
     "execution_count": 94,
     "metadata": {},
     "output_type": "execute_result"
    }
   ],
   "source": [
    "# 一下实例用到三个参数，设置起始位置为2.0，终点为3,0 数列个数为5\n",
    "ar1 = np.linspace(2.0, 3.0, num=5)\n",
    "ar1"
   ]
  },
  {
   "cell_type": "code",
   "execution_count": 98,
   "id": "d613b492",
   "metadata": {},
   "outputs": [
    {
     "data": {
      "text/plain": [
       "array([2. , 2.2, 2.4, 2.6, 2.8])"
      ]
     },
     "execution_count": 98,
     "metadata": {},
     "output_type": "execute_result"
    }
   ],
   "source": [
    "ar1 = np.linspace(2.0, 3.0, num = 5, endpoint = False)\n",
    "ar1"
   ]
  },
  {
   "cell_type": "code",
   "execution_count": 102,
   "id": "bdc65563",
   "metadata": {},
   "outputs": [
    {
     "name": "stdout",
     "output_type": "stream",
     "text": [
      "(array([2.  , 2.25, 2.5 , 2.75, 3.  ]), 0.25)\n",
      "<class 'tuple'>\n"
     ]
    }
   ],
   "source": [
    "ar1 = np.linspace(2.0, 3.0, num = 5, retstep = True)\n",
    "print(ar1)\n",
    "print(type(ar1))"
   ]
  },
  {
   "cell_type": "code",
   "execution_count": 104,
   "id": "14a85748",
   "metadata": {},
   "outputs": [
    {
     "data": {
      "text/plain": [
       "(array([2. , 2.2, 2.4, 2.6, 2.8]), 0.2)"
      ]
     },
     "execution_count": 104,
     "metadata": {},
     "output_type": "execute_result"
    }
   ],
   "source": [
    "#设置retstep显示计算后的步长\n",
    "ar1 = np.linspace(2.0,3.0,num=5,endpoint=False,retstep=True)\n",
    "ar1"
   ]
  },
  {
   "cell_type": "code",
   "execution_count": 108,
   "id": "ad293904",
   "metadata": {},
   "outputs": [
    {
     "data": {
      "text/plain": [
       "array([0.1, 0.2, 0.3, 0.4])"
      ]
     },
     "execution_count": 108,
     "metadata": {},
     "output_type": "execute_result"
    }
   ],
   "source": [
    "np.arange(0.1,0.4,0.1) #  这样包括了0.4，是错误的"
   ]
  },
  {
   "cell_type": "code",
   "execution_count": 110,
   "id": "7d34dada",
   "metadata": {},
   "outputs": [
    {
     "data": {
      "text/plain": [
       "array([0.1, 0.2, 0.3])"
      ]
     },
     "execution_count": 110,
     "metadata": {},
     "output_type": "execute_result"
    }
   ],
   "source": [
    "np.linspace(0.1, 0.3, 3)  # 这样就可以解决"
   ]
  },
  {
   "cell_type": "markdown",
   "id": "bace2a80",
   "metadata": {},
   "source": [
    "> 等差数列的应用\n",
    "> \n",
    "> 在线性回归经常作为样本集\n",
    "> 如：生成x_data，值为[0, 100]之间500个等差数列数据集合作为样本特征，根据目标线性方程y=3*x+2，生成相应的标签集合y_data"
   ]
  },
  {
   "cell_type": "code",
   "execution_count": 111,
   "id": "e90e77e5",
   "metadata": {},
   "outputs": [
    {
     "data": {
      "text/plain": [
       "array([  0.        ,   0.2004008 ,   0.4008016 ,   0.6012024 ,\n",
       "         0.80160321,   1.00200401,   1.20240481,   1.40280561,\n",
       "         1.60320641,   1.80360721,   2.00400802,   2.20440882,\n",
       "         2.40480962,   2.60521042,   2.80561122,   3.00601202,\n",
       "         3.20641283,   3.40681363,   3.60721443,   3.80761523,\n",
       "         4.00801603,   4.20841683,   4.40881764,   4.60921844,\n",
       "         4.80961924,   5.01002004,   5.21042084,   5.41082164,\n",
       "         5.61122244,   5.81162325,   6.01202405,   6.21242485,\n",
       "         6.41282565,   6.61322645,   6.81362725,   7.01402806,\n",
       "         7.21442886,   7.41482966,   7.61523046,   7.81563126,\n",
       "         8.01603206,   8.21643287,   8.41683367,   8.61723447,\n",
       "         8.81763527,   9.01803607,   9.21843687,   9.41883768,\n",
       "         9.61923848,   9.81963928,  10.02004008,  10.22044088,\n",
       "        10.42084168,  10.62124248,  10.82164329,  11.02204409,\n",
       "        11.22244489,  11.42284569,  11.62324649,  11.82364729,\n",
       "        12.0240481 ,  12.2244489 ,  12.4248497 ,  12.6252505 ,\n",
       "        12.8256513 ,  13.0260521 ,  13.22645291,  13.42685371,\n",
       "        13.62725451,  13.82765531,  14.02805611,  14.22845691,\n",
       "        14.42885772,  14.62925852,  14.82965932,  15.03006012,\n",
       "        15.23046092,  15.43086172,  15.63126253,  15.83166333,\n",
       "        16.03206413,  16.23246493,  16.43286573,  16.63326653,\n",
       "        16.83366733,  17.03406814,  17.23446894,  17.43486974,\n",
       "        17.63527054,  17.83567134,  18.03607214,  18.23647295,\n",
       "        18.43687375,  18.63727455,  18.83767535,  19.03807615,\n",
       "        19.23847695,  19.43887776,  19.63927856,  19.83967936,\n",
       "        20.04008016,  20.24048096,  20.44088176,  20.64128257,\n",
       "        20.84168337,  21.04208417,  21.24248497,  21.44288577,\n",
       "        21.64328657,  21.84368737,  22.04408818,  22.24448898,\n",
       "        22.44488978,  22.64529058,  22.84569138,  23.04609218,\n",
       "        23.24649299,  23.44689379,  23.64729459,  23.84769539,\n",
       "        24.04809619,  24.24849699,  24.4488978 ,  24.6492986 ,\n",
       "        24.8496994 ,  25.0501002 ,  25.250501  ,  25.4509018 ,\n",
       "        25.65130261,  25.85170341,  26.05210421,  26.25250501,\n",
       "        26.45290581,  26.65330661,  26.85370741,  27.05410822,\n",
       "        27.25450902,  27.45490982,  27.65531062,  27.85571142,\n",
       "        28.05611222,  28.25651303,  28.45691383,  28.65731463,\n",
       "        28.85771543,  29.05811623,  29.25851703,  29.45891784,\n",
       "        29.65931864,  29.85971944,  30.06012024,  30.26052104,\n",
       "        30.46092184,  30.66132265,  30.86172345,  31.06212425,\n",
       "        31.26252505,  31.46292585,  31.66332665,  31.86372745,\n",
       "        32.06412826,  32.26452906,  32.46492986,  32.66533066,\n",
       "        32.86573146,  33.06613226,  33.26653307,  33.46693387,\n",
       "        33.66733467,  33.86773547,  34.06813627,  34.26853707,\n",
       "        34.46893788,  34.66933868,  34.86973948,  35.07014028,\n",
       "        35.27054108,  35.47094188,  35.67134269,  35.87174349,\n",
       "        36.07214429,  36.27254509,  36.47294589,  36.67334669,\n",
       "        36.87374749,  37.0741483 ,  37.2745491 ,  37.4749499 ,\n",
       "        37.6753507 ,  37.8757515 ,  38.0761523 ,  38.27655311,\n",
       "        38.47695391,  38.67735471,  38.87775551,  39.07815631,\n",
       "        39.27855711,  39.47895792,  39.67935872,  39.87975952,\n",
       "        40.08016032,  40.28056112,  40.48096192,  40.68136273,\n",
       "        40.88176353,  41.08216433,  41.28256513,  41.48296593,\n",
       "        41.68336673,  41.88376754,  42.08416834,  42.28456914,\n",
       "        42.48496994,  42.68537074,  42.88577154,  43.08617234,\n",
       "        43.28657315,  43.48697395,  43.68737475,  43.88777555,\n",
       "        44.08817635,  44.28857715,  44.48897796,  44.68937876,\n",
       "        44.88977956,  45.09018036,  45.29058116,  45.49098196,\n",
       "        45.69138277,  45.89178357,  46.09218437,  46.29258517,\n",
       "        46.49298597,  46.69338677,  46.89378758,  47.09418838,\n",
       "        47.29458918,  47.49498998,  47.69539078,  47.89579158,\n",
       "        48.09619238,  48.29659319,  48.49699399,  48.69739479,\n",
       "        48.89779559,  49.09819639,  49.29859719,  49.498998  ,\n",
       "        49.6993988 ,  49.8997996 ,  50.1002004 ,  50.3006012 ,\n",
       "        50.501002  ,  50.70140281,  50.90180361,  51.10220441,\n",
       "        51.30260521,  51.50300601,  51.70340681,  51.90380762,\n",
       "        52.10420842,  52.30460922,  52.50501002,  52.70541082,\n",
       "        52.90581162,  53.10621242,  53.30661323,  53.50701403,\n",
       "        53.70741483,  53.90781563,  54.10821643,  54.30861723,\n",
       "        54.50901804,  54.70941884,  54.90981964,  55.11022044,\n",
       "        55.31062124,  55.51102204,  55.71142285,  55.91182365,\n",
       "        56.11222445,  56.31262525,  56.51302605,  56.71342685,\n",
       "        56.91382766,  57.11422846,  57.31462926,  57.51503006,\n",
       "        57.71543086,  57.91583166,  58.11623246,  58.31663327,\n",
       "        58.51703407,  58.71743487,  58.91783567,  59.11823647,\n",
       "        59.31863727,  59.51903808,  59.71943888,  59.91983968,\n",
       "        60.12024048,  60.32064128,  60.52104208,  60.72144289,\n",
       "        60.92184369,  61.12224449,  61.32264529,  61.52304609,\n",
       "        61.72344689,  61.9238477 ,  62.1242485 ,  62.3246493 ,\n",
       "        62.5250501 ,  62.7254509 ,  62.9258517 ,  63.12625251,\n",
       "        63.32665331,  63.52705411,  63.72745491,  63.92785571,\n",
       "        64.12825651,  64.32865731,  64.52905812,  64.72945892,\n",
       "        64.92985972,  65.13026052,  65.33066132,  65.53106212,\n",
       "        65.73146293,  65.93186373,  66.13226453,  66.33266533,\n",
       "        66.53306613,  66.73346693,  66.93386774,  67.13426854,\n",
       "        67.33466934,  67.53507014,  67.73547094,  67.93587174,\n",
       "        68.13627255,  68.33667335,  68.53707415,  68.73747495,\n",
       "        68.93787575,  69.13827655,  69.33867735,  69.53907816,\n",
       "        69.73947896,  69.93987976,  70.14028056,  70.34068136,\n",
       "        70.54108216,  70.74148297,  70.94188377,  71.14228457,\n",
       "        71.34268537,  71.54308617,  71.74348697,  71.94388778,\n",
       "        72.14428858,  72.34468938,  72.54509018,  72.74549098,\n",
       "        72.94589178,  73.14629259,  73.34669339,  73.54709419,\n",
       "        73.74749499,  73.94789579,  74.14829659,  74.34869739,\n",
       "        74.5490982 ,  74.749499  ,  74.9498998 ,  75.1503006 ,\n",
       "        75.3507014 ,  75.5511022 ,  75.75150301,  75.95190381,\n",
       "        76.15230461,  76.35270541,  76.55310621,  76.75350701,\n",
       "        76.95390782,  77.15430862,  77.35470942,  77.55511022,\n",
       "        77.75551102,  77.95591182,  78.15631263,  78.35671343,\n",
       "        78.55711423,  78.75751503,  78.95791583,  79.15831663,\n",
       "        79.35871743,  79.55911824,  79.75951904,  79.95991984,\n",
       "        80.16032064,  80.36072144,  80.56112224,  80.76152305,\n",
       "        80.96192385,  81.16232465,  81.36272545,  81.56312625,\n",
       "        81.76352705,  81.96392786,  82.16432866,  82.36472946,\n",
       "        82.56513026,  82.76553106,  82.96593186,  83.16633267,\n",
       "        83.36673347,  83.56713427,  83.76753507,  83.96793587,\n",
       "        84.16833667,  84.36873747,  84.56913828,  84.76953908,\n",
       "        84.96993988,  85.17034068,  85.37074148,  85.57114228,\n",
       "        85.77154309,  85.97194389,  86.17234469,  86.37274549,\n",
       "        86.57314629,  86.77354709,  86.9739479 ,  87.1743487 ,\n",
       "        87.3747495 ,  87.5751503 ,  87.7755511 ,  87.9759519 ,\n",
       "        88.17635271,  88.37675351,  88.57715431,  88.77755511,\n",
       "        88.97795591,  89.17835671,  89.37875752,  89.57915832,\n",
       "        89.77955912,  89.97995992,  90.18036072,  90.38076152,\n",
       "        90.58116232,  90.78156313,  90.98196393,  91.18236473,\n",
       "        91.38276553,  91.58316633,  91.78356713,  91.98396794,\n",
       "        92.18436874,  92.38476954,  92.58517034,  92.78557114,\n",
       "        92.98597194,  93.18637275,  93.38677355,  93.58717435,\n",
       "        93.78757515,  93.98797595,  94.18837675,  94.38877756,\n",
       "        94.58917836,  94.78957916,  94.98997996,  95.19038076,\n",
       "        95.39078156,  95.59118236,  95.79158317,  95.99198397,\n",
       "        96.19238477,  96.39278557,  96.59318637,  96.79358717,\n",
       "        96.99398798,  97.19438878,  97.39478958,  97.59519038,\n",
       "        97.79559118,  97.99599198,  98.19639279,  98.39679359,\n",
       "        98.59719439,  98.79759519,  98.99799599,  99.19839679,\n",
       "        99.3987976 ,  99.5991984 ,  99.7995992 , 100.        ])"
      ]
     },
     "execution_count": 111,
     "metadata": {},
     "output_type": "execute_result"
    }
   ],
   "source": [
    "x_data = np.linspace(0,100,500)\n",
    "x_data"
   ]
  },
  {
   "cell_type": "markdown",
   "id": "555b3a3d",
   "metadata": {},
   "source": [
    "### 等比数列"
   ]
  },
  {
   "cell_type": "markdown",
   "id": "6df534bf",
   "metadata": {},
   "source": [
    "<b>np.logspace(start, stop, num=50, endpoint=True, base=10.0, dtype=None)</b>\n",
    "\n",
    "参数说明   \n",
    "\n",
    "| 序号 | 参数 | 描述说明 |\n",
    "| :--- | :--- | :--- |\n",
    "| 1      | start| 必填项，序列的起始值，  |\n",
    "| 2   | stop | 必填项，序列的终止值，如果endpoint为true，该值包含于数列中      |\n",
    "| 3      | num | 要生成的等步长的样本数量，默认为50      |\n",
    "| 4      | endpoint |  该值为 true 时，数列中包含stop值，反之不包含，默认是True。  | \n",
    "| 5      | base |  对数 log 的底数，默认为10   | \n",
    "| 6      | dtype |  ndarray 的数据类型 | \n",
    "\n",
    "> 看下面的例子来理解"
   ]
  },
  {
   "cell_type": "code",
   "execution_count": 4,
   "id": "1dd1f281",
   "metadata": {},
   "outputs": [
    {
     "data": {
      "text/plain": [
       "array([  1.,   2.,   4.,   8.,  16.,  32.,  64., 128., 256., 512.])"
      ]
     },
     "execution_count": 4,
     "metadata": {},
     "output_type": "execute_result"
    }
   ],
   "source": [
    "a = np.logspace(0, 9, 10, base = 2)\n",
    "a"
   ]
  },
  {
   "cell_type": "markdown",
   "id": "9ee1a41a",
   "metadata": {},
   "source": [
    "np.logspace(A,B,C,base=D)\n",
    "- A: 生成数组的起始值为D的A次方\n",
    "- B: 生成数组的结束值为D的B次方\n",
    "- C: 总共生成C个数\n",
    "- D: 指数型数组的底数为D，当省略base=D时，默认底数为10"
   ]
  },
  {
   "cell_type": "code",
   "execution_count": 121,
   "id": "a7ea75a9",
   "metadata": {},
   "outputs": [
    {
     "data": {
      "text/plain": [
       "array([ 2.,  8., 32.])"
      ]
     },
     "execution_count": 121,
     "metadata": {},
     "output_type": "execute_result"
    }
   ],
   "source": [
    "# 我们先使用前3个参数，将[1,5]均匀分成3个数，得到{1,3,5}，\n",
    "# 然后利用第4个参数base=2(默认是10）使用指数函数可以得到最终输出结果 {2^1,2^3,2^5}\n",
    "np.logspace(1, 5, 3, base = 2)"
   ]
  },
  {
   "cell_type": "code",
   "execution_count": 124,
   "id": "7ef9b24a",
   "metadata": {},
   "outputs": [
    {
     "data": {
      "text/plain": [
       "array([ 10.        ,  12.91549665,  16.68100537,  21.5443469 ,\n",
       "        27.82559402,  35.93813664,  46.41588834,  59.94842503,\n",
       "        77.42636827, 100.        ])"
      ]
     },
     "execution_count": 124,
     "metadata": {},
     "output_type": "execute_result"
    }
   ],
   "source": [
    "np.logspace(1.0, 2.0, num = 10)"
   ]
  },
  {
   "cell_type": "code",
   "execution_count": 125,
   "id": "380e01c7",
   "metadata": {},
   "outputs": [
    {
     "name": "stdout",
     "output_type": "stream",
     "text": [
      "[1.         1.11111111 1.22222222 1.33333333 1.44444444 1.55555556\n",
      " 1.66666667 1.77777778 1.88888889 2.        ]\n"
     ]
    },
    {
     "data": {
      "text/plain": [
       "array([ 10.        ,  12.91549665,  16.68100537,  21.5443469 ,\n",
       "        27.82559402,  35.93813664,  46.41588834,  59.94842503,\n",
       "        77.42636827, 100.        ])"
      ]
     },
     "execution_count": 125,
     "metadata": {},
     "output_type": "execute_result"
    }
   ],
   "source": [
    "a =  np.linspace(1.0,2.0,num=10)\n",
    "print(a)\n",
    "10 ** a"
   ]
  },
  {
   "cell_type": "markdown",
   "id": "b701f2bd",
   "metadata": {},
   "source": [
    "### 全0全1数列"
   ]
  },
  {
   "cell_type": "markdown",
   "id": "2018729c",
   "metadata": {},
   "source": [
    "创建指定大小的数组，数组元素以 0 来填充\n",
    "\n",
    "<b>numpy.zeros(shape, dtype = float, order = 'C')</b>\n",
    "\n",
    "参数说明   \n",
    "\n",
    "| 序号 | 参数 | 描述说明 |\n",
    "| :--- | :--- | :--- |\n",
    "| 1      | shape| 数组形状  |\n",
    "| 2   | dtype | 数据类型，可选     |"
   ]
  },
  {
   "cell_type": "code",
   "execution_count": 127,
   "id": "3c25e3c8",
   "metadata": {},
   "outputs": [
    {
     "data": {
      "text/plain": [
       "array([0., 0., 0., 0., 0.])"
      ]
     },
     "execution_count": 127,
     "metadata": {},
     "output_type": "execute_result"
    }
   ],
   "source": [
    "# 默认为浮点数\n",
    "np.zeros(5)"
   ]
  },
  {
   "cell_type": "code",
   "execution_count": 134,
   "id": "e0011dfb",
   "metadata": {},
   "outputs": [
    {
     "data": {
      "text/plain": [
       "array([0, 0, 0, 0, 0])"
      ]
     },
     "execution_count": 134,
     "metadata": {},
     "output_type": "execute_result"
    }
   ],
   "source": [
    "# 设置为整形\n",
    "np.zeros((5, ), dtype = 'int') \n",
    "# 注意，(5, )这样写才是只有一个元素的元素，(5)这样写就代表整数5"
   ]
  },
  {
   "cell_type": "code",
   "execution_count": 135,
   "id": "397a3911",
   "metadata": {},
   "outputs": [
    {
     "data": {
      "text/plain": [
       "array([[0., 0.],\n",
       "       [0., 0.]])"
      ]
     },
     "execution_count": 135,
     "metadata": {},
     "output_type": "execute_result"
    }
   ],
   "source": [
    "# 2行2列的全0数组\n",
    "np.zeros((2,2))"
   ]
  },
  {
   "cell_type": "code",
   "execution_count": 137,
   "id": "7be0c6e8",
   "metadata": {},
   "outputs": [
    {
     "data": {
      "text/plain": [
       "array([[[0., 0., 0., 0.],\n",
       "        [0., 0., 0., 0.],\n",
       "        [0., 0., 0., 0.]],\n",
       "\n",
       "       [[0., 0., 0., 0.],\n",
       "        [0., 0., 0., 0.],\n",
       "        [0., 0., 0., 0.]]])"
      ]
     },
     "execution_count": 137,
     "metadata": {},
     "output_type": "execute_result"
    }
   ],
   "source": [
    "np.zeros((2, 3, 4))\n",
    "# 2块，3行，4列"
   ]
  },
  {
   "cell_type": "code",
   "execution_count": 138,
   "id": "e3b6304d",
   "metadata": {},
   "outputs": [
    {
     "data": {
      "text/plain": [
       "array([[0, 0, 0],\n",
       "       [0, 0, 0]])"
      ]
     },
     "execution_count": 138,
     "metadata": {},
     "output_type": "execute_result"
    }
   ],
   "source": [
    "#zeros_like返回具有与给定数组相同的形状和类型的零数组\n",
    "ar1 = np.array([[1,2,3],[4,5,6]])\n",
    "np.zeros_like(ar1)"
   ]
  },
  {
   "cell_type": "code",
   "execution_count": 139,
   "id": "fc6fd602",
   "metadata": {},
   "outputs": [
    {
     "name": "stdout",
     "output_type": "stream",
     "text": [
      "ar5: [1. 1. 1. 1. 1. 1. 1. 1. 1.]\n",
      "ar6: [[[1. 1. 1. 1.]\n",
      "  [1. 1. 1. 1.]\n",
      "  [1. 1. 1. 1.]]\n",
      "\n",
      " [[1. 1. 1. 1.]\n",
      "  [1. 1. 1. 1.]\n",
      "  [1. 1. 1. 1.]]]\n",
      "ar7: [1 1 1 1 1 1 1]\n"
     ]
    }
   ],
   "source": [
    "# 全为1的数列\n",
    "ar5 = np.ones(9)\n",
    "ar6 = np.ones((2,3,4))\n",
    "ar7 = np.ones_like(ar3)\n",
    "print('ar5:',ar5)\n",
    "print('ar6:',ar6)\n",
    "print('ar7:',ar7)"
   ]
  },
  {
   "cell_type": "markdown",
   "id": "248eb5f8",
   "metadata": {},
   "source": [
    "## ndarray属性"
   ]
  },
  {
   "cell_type": "markdown",
   "id": "39600cab",
   "metadata": {},
   "source": [
    "NumPy 的数组中比较重要 ndarray 对象属性有：\n",
    "\n",
    "| 属性 \t| 说明 |\n",
    "| ------  \t|:------ |\n",
    "| ndarray.ndim\t| 秩，即轴的数量或维度的数量 |\n",
    "| ndarray.shape\t | 数组的维度，对于矩阵，n 行 m 列 |\n",
    "| ndarray.size \t | 数组元素的总个数，相当于 .shape 中 n*m 的值 |\n",
    "| ndarray.dtype \t | ndarray 对象的元素类型 |\n",
    "| ndarray.itemsize  | \tndarray 对象中每个元素的大小，以字节为单位 |"
   ]
  },
  {
   "cell_type": "markdown",
   "id": "453ed23f",
   "metadata": {},
   "source": [
    "### ndarray.shape"
   ]
  },
  {
   "cell_type": "markdown",
   "id": "33f5c54e",
   "metadata": {},
   "source": [
    "返回一个包含数组维度的元组，对于矩阵，n 行 m 列，它也可以用于调整数组维度"
   ]
  },
  {
   "cell_type": "code",
   "execution_count": 3,
   "id": "694e32a6",
   "metadata": {},
   "outputs": [
    {
     "name": "stdout",
     "output_type": "stream",
     "text": [
      "一维数组： (6,)\n",
      "二维数组： (2, 3)\n",
      "三维数组： (2, 2, 3)\n"
     ]
    }
   ],
   "source": [
    "a = np.array([1, 2, 3, 4, 5, 6])\n",
    "print('一维数组：',a.shape)\n",
    "\n",
    "b = np.array([[1, 2, 3], [4, 5, 6]])\n",
    "print('二维数组：', b.shape)\n",
    "\n",
    "c = np.array([\n",
    "    [\n",
    "        [1, 2, 3],\n",
    "        [4, 5, 6]\n",
    "    ],\n",
    "    [\n",
    "        [11, 22, 33],\n",
    "        [44, 55, 66]\n",
    "        ]\n",
    "    ])\n",
    "print('三维数组：', c.shape)"
   ]
  },
  {
   "cell_type": "markdown",
   "id": "99bcda49",
   "metadata": {},
   "source": [
    "- 调整维度`reshape`：返回调整维度后的副本，而不改变原ndarray"
   ]
  },
  {
   "cell_type": "code",
   "execution_count": 30,
   "id": "efc342bb",
   "metadata": {},
   "outputs": [
    {
     "name": "stdout",
     "output_type": "stream",
     "text": [
      "一维数组a： (6,)\n",
      "b的形状： (2, 3)\n",
      "b： [[1 2 3]\n",
      " [4 5 6]]\n",
      "a的形状： (6,)\n",
      "a： [1 2 3 4 5 6]\n"
     ]
    }
   ],
   "source": [
    "a = np.array([1, 2, 3, 4, 5, 6])\n",
    "print('一维数组a：',a.shape)\n",
    "# 使用a数组，创建一个新的数组b，并向形状修改为2行3列\n",
    "b = a.reshape(2,3)\n",
    "print('b的形状：',b.shape)\n",
    "print('b：', b)\n",
    "\n",
    "print('a的形状：',a.shape)\n",
    "print('a：', a)\n",
    "# c = a.reshape((2,4))  # 不可以修改\n",
    "# c"
   ]
  },
  {
   "cell_type": "markdown",
   "id": "ff39f584",
   "metadata": {},
   "source": [
    "- 调整维度`resize`：\n",
    "    - `numpy.resize(a, new_shape)`\n",
    "    - 如果新数组大于原始数组，则新数组将继续填充a从头开始的副本。\n",
    "\n",
    "> 请注意，此行为与`a.resize(new_shape)`不同，后者用零而不是重复的a填充。"
   ]
  },
  {
   "cell_type": "code",
   "execution_count": 11,
   "id": "324c5877",
   "metadata": {},
   "outputs": [
    {
     "data": {
      "text/plain": [
       "array([[0, 1, 2, 3, 0],\n",
       "       [1, 2, 3, 0, 1]])"
      ]
     },
     "execution_count": 11,
     "metadata": {},
     "output_type": "execute_result"
    }
   ],
   "source": [
    "# a 为2行2列\n",
    "a=np.array([\n",
    "        [0,1],\n",
    "        [2,3]\n",
    "    ])\n",
    "# 一a为原数组创建2行5列的新数组\n",
    "b_2_3 = np.resize(a,(2,5))\n",
    "b_2_3"
   ]
  },
  {
   "cell_type": "code",
   "execution_count": 13,
   "id": "92e32443",
   "metadata": {},
   "outputs": [
    {
     "data": {
      "text/plain": [
       "array([[0, 1, 2, 3, 0],\n",
       "       [0, 0, 0, 0, 0]])"
      ]
     },
     "execution_count": 13,
     "metadata": {},
     "output_type": "execute_result"
    }
   ],
   "source": [
    "a.resize((2, 5))\n",
    "a"
   ]
  },
  {
   "cell_type": "markdown",
   "id": "38352ff1",
   "metadata": {},
   "source": [
    "### ndarray.ndim"
   ]
  },
  {
   "cell_type": "markdown",
   "id": "548ffea0",
   "metadata": {},
   "source": [
    "返回数组的维度（秩）：轴的数量，或者维度的数量，是一个标量\n",
    "> 一维数组的秩为 1，二维数组的秩为 2"
   ]
  },
  {
   "cell_type": "code",
   "execution_count": 24,
   "id": "489b164f",
   "metadata": {},
   "outputs": [
    {
     "name": "stdout",
     "output_type": "stream",
     "text": [
      "a的ndim： 1\n",
      "b的ndim： 2\n",
      "c的ndim： 3\n"
     ]
    }
   ],
   "source": [
    "a = np.array([1,2,3,4,5, 6])\n",
    "b = a.reshape((2,3))\n",
    "c = np.array([\n",
    "    [\n",
    "        [1, 2, 3],\n",
    "        [4, 5, 6]\n",
    "    ],\n",
    "    [\n",
    "        [11, 22, 33],\n",
    "        [44, 55, 66]\n",
    "        ]\n",
    "    ])\n",
    "print('a的ndim：',a.ndim)\n",
    "print('b的ndim：', b.ndim)\n",
    "print('c的ndim：', c.ndim)"
   ]
  },
  {
   "cell_type": "markdown",
   "id": "9a1d40f9",
   "metadata": {},
   "source": [
    "### ndarray.size"
   ]
  },
  {
   "cell_type": "markdown",
   "id": "e0269294",
   "metadata": {},
   "source": [
    "数组中元素的总个数\n",
    "> 注意，`ndarray.size`和`len(ndarray)`的结果有所不同"
   ]
  },
  {
   "cell_type": "code",
   "execution_count": 16,
   "id": "00365e62",
   "metadata": {},
   "outputs": [
    {
     "name": "stdout",
     "output_type": "stream",
     "text": [
      "[1,2,3,4,5,6]的size: 6\n",
      "[1,2,3,4,5,6]的len: 6\n",
      "[[1,2,3],[4,5,6]]的size: 6\n",
      "[[1,2,3],[4,5,6]]的len: 2\n"
     ]
    }
   ],
   "source": [
    "a = np.array([1,2,3,4,5,6])\n",
    "print('[1,2,3,4,5,6]的size:', a.size)\n",
    "print('[1,2,3,4,5,6]的len:', len(a))\n",
    "\n",
    "a = np.array([[1,2,3],[4,5,6]])\n",
    "print('[[1,2,3],[4,5,6]]的size:', a.size)\n",
    "print('[[1,2,3],[4,5,6]]的len:', len(a))"
   ]
  },
  {
   "cell_type": "markdown",
   "id": "d22c030b",
   "metadata": {},
   "source": [
    "### ndarray.dtype"
   ]
  },
  {
   "cell_type": "markdown",
   "id": "8327a2fa",
   "metadata": {},
   "source": [
    "`ndarray`对象的元素类型"
   ]
  },
  {
   "cell_type": "code",
   "execution_count": 17,
   "id": "af4246b8",
   "metadata": {},
   "outputs": [
    {
     "name": "stdout",
     "output_type": "stream",
     "text": [
      "int32\n",
      "float64\n"
     ]
    }
   ],
   "source": [
    "a = np.array([1,2,3,4,5,6])\n",
    "print(a.dtype)\n",
    "\n",
    "b = np.array([1.1,2,3,4,5,6])\n",
    "print(b.dtype)"
   ]
  },
  {
   "cell_type": "markdown",
   "id": "0ad80a32",
   "metadata": {},
   "source": [
    "- `ndarray.astype()`方法：numpy数据类型转换，调用astype返回数据类型修改后的数据，但是源数据的类型不会变"
   ]
  },
  {
   "cell_type": "code",
   "execution_count": 22,
   "id": "0f1287d4",
   "metadata": {},
   "outputs": [
    {
     "name": "stdout",
     "output_type": "stream",
     "text": [
      "a数据类型： float64\n",
      "astype修改数据类型: float32\n",
      "原数据类型未改变 float64\n",
      "修改类型后再次操作，类型改变: float32\n"
     ]
    }
   ],
   "source": [
    "a=np.array([1.1, 1.2])\n",
    "print('a数据类型：',a.dtype)  # \n",
    "print('astype修改数据类型:',a.astype('float32').dtype)\n",
    "print('原数据类型未改变',a.dtype)\n",
    "# 想改变原类型的正确操作\n",
    "a = a.astype('float32')\n",
    "print('修改类型后再次操作，类型改变:',a.dtype)"
   ]
  },
  {
   "cell_type": "markdown",
   "id": "928a480a",
   "metadata": {},
   "source": [
    "### ndarray.itemsize"
   ]
  },
  {
   "cell_type": "markdown",
   "id": "c31d555f",
   "metadata": {},
   "source": [
    "以**字节**的形式返回数组中每一个元素的大小。\n",
    "\n",
    "> 例如，一个元素类型为 float64 的数组 itemsize 属性值为 8\n",
    "> > float64 占用 64 个 bits，每个字节长度为 8，所以 64/8，占用 8 个字节"
   ]
  },
  {
   "cell_type": "code",
   "execution_count": 26,
   "id": "cc9a13d4",
   "metadata": {},
   "outputs": [
    {
     "name": "stdout",
     "output_type": "stream",
     "text": [
      "dtype: float64  itemsize: 8\n",
      "dtype: int32  itemsize: 4\n"
     ]
    }
   ],
   "source": [
    "a = np.array([1.1,2.2,3.3])\n",
    "print('dtype:',a.dtype,' itemsize:',a.itemsize)\n",
    "b = np.array([1,2,3,4,5])\n",
    "print('dtype:',b.dtype,' itemsize:',b.itemsize)"
   ]
  },
  {
   "cell_type": "markdown",
   "id": "c8a9525e",
   "metadata": {},
   "source": [
    "## 切片和索引"
   ]
  },
  {
   "cell_type": "markdown",
   "id": "a0317ad8",
   "metadata": {},
   "source": [
    "### 概述"
   ]
  },
  {
   "cell_type": "markdown",
   "id": "17e2d094",
   "metadata": {},
   "source": [
    "ndarray对象的内容可以通过**索引或切片**来**访问和修改**，与 Python 中 list 的切片操作一样。 \n",
    "\n",
    "ndarray数组可以基于 0 - n 的下标进行索引\n",
    "> 也允许负数\n",
    "\n",
    "> 注意：与list切片的区别在于，数组切片是原始数组视图（这就意味着，如果做任何修改，原始都会**跟着更改**）。\n",
    "> \n",
    "> 这也意味着，如果不想更改原始数组，我们需要进行显式的复制，从而得到它的**副本**（.copy())。\n",
    "\n",
    "语法：用冒号分隔切片参数`ndarray[start: stop: step]`"
   ]
  },
  {
   "cell_type": "code",
   "execution_count": 5,
   "id": "769ee3fa",
   "metadata": {},
   "outputs": [],
   "source": [
    "import numpy as np"
   ]
  },
  {
   "cell_type": "markdown",
   "id": "356408f2",
   "metadata": {},
   "source": [
    "### 一维数组"
   ]
  },
  {
   "cell_type": "markdown",
   "id": "d2e77437",
   "metadata": {},
   "source": [
    "冒号的解释：\n",
    "- 如果为`[2]`，将返回与该索引相对应的单个元素。\n",
    "- 如果为`[2:]`，表示从该索引开始以后的所有项都将被提取。\n",
    "- 如果为`[:7]` ，表示从索引0开始到该索引之前的所有项被提取。\n",
    "- 如果使用了两个参数，如`[2:7]`，那么则提取两个索引(不包括停止索引)之间的项。\n",
    "\n",
    "步长：\n",
    "- 步长也可以为负，就是从后向前取，要求两个索引也是从后向前的"
   ]
  },
  {
   "cell_type": "markdown",
   "id": "79524bc1",
   "metadata": {},
   "source": [
    "为什么切片和区间会忽略最后一个元素？\n",
    "\n",
    "计算机科学家edsger w.dijkstra(艾兹格·W·迪科斯彻)，delattr这一风格的解释应该是比较好的：\n",
    "- 当只有最后一个位置信息时，我们可以快速看出切片和区间里**有几个元素**：range(3)和my_list[:3]\n",
    "- 当起始位置信息都可见时，我们可以快速计算出切片和区间的**长度**，用直接相减`(stop-start)`即可\n",
    "- 这样做也让我们可以利用任意一个下标把序列**分割成不重叠的两部分**，只要写成`my_list[:x]`和`my_list[x:]`就可以了。"
   ]
  },
  {
   "cell_type": "code",
   "execution_count": 7,
   "id": "a3b60587",
   "metadata": {},
   "outputs": [
    {
     "data": {
      "text/plain": [
       "array([0, 1, 2, 3, 4, 5, 6, 7, 8, 9])"
      ]
     },
     "execution_count": 7,
     "metadata": {},
     "output_type": "execute_result"
    }
   ],
   "source": [
    "ar1 = np.arange(10)\n",
    "ar1"
   ]
  },
  {
   "cell_type": "code",
   "execution_count": 14,
   "id": "d2787687",
   "metadata": {},
   "outputs": [
    {
     "data": {
      "text/plain": [
       "array([2, 4, 6])"
      ]
     },
     "execution_count": 14,
     "metadata": {},
     "output_type": "execute_result"
    }
   ],
   "source": [
    "ar2 = ar1[2: 7: 2]\n",
    "ar2"
   ]
  },
  {
   "cell_type": "code",
   "execution_count": 15,
   "id": "52e74e1b",
   "metadata": {},
   "outputs": [
    {
     "data": {
      "text/plain": [
       "array([2, 3, 4, 5, 6, 7, 8])"
      ]
     },
     "execution_count": 15,
     "metadata": {},
     "output_type": "execute_result"
    }
   ],
   "source": [
    "ar1[2: -1]"
   ]
  },
  {
   "cell_type": "code",
   "execution_count": 16,
   "id": "ce1a0b5e",
   "metadata": {},
   "outputs": [
    {
     "data": {
      "text/plain": [
       "array([ 1,  3,  5,  7,  9, 11, 13, 15, 17, 19])"
      ]
     },
     "execution_count": 16,
     "metadata": {},
     "output_type": "execute_result"
    }
   ],
   "source": [
    "ar3 = np.arange(1,20,2)\n",
    "ar3\n",
    "#如何取出元素9？\\\n",
    "# 需要考虑如何取, 索引取\n",
    "# 索引是从几开始  --- 0\n",
    "# A------ar3[9]\n",
    "# B------ar3[5]\n",
    "# C------ar3[4] √"
   ]
  },
  {
   "cell_type": "code",
   "execution_count": 18,
   "id": "8da114f3",
   "metadata": {},
   "outputs": [
    {
     "data": {
      "text/plain": [
       "array([19, 17, 15, 13, 11,  9,  7,  5,  3,  1])"
      ]
     },
     "execution_count": 18,
     "metadata": {},
     "output_type": "execute_result"
    }
   ],
   "source": [
    "ar3[:: -1]"
   ]
  },
  {
   "cell_type": "code",
   "execution_count": 20,
   "id": "3af70122",
   "metadata": {},
   "outputs": [
    {
     "data": {
      "text/plain": [
       "array([], dtype=int32)"
      ]
     },
     "execution_count": 20,
     "metadata": {},
     "output_type": "execute_result"
    }
   ],
   "source": [
    "ar3[1: 4: -1]"
   ]
  },
  {
   "cell_type": "code",
   "execution_count": 22,
   "id": "1f9a1651",
   "metadata": {},
   "outputs": [
    {
     "data": {
      "text/plain": [
       "array([19, 17, 15, 13, 11])"
      ]
     },
     "execution_count": 22,
     "metadata": {},
     "output_type": "execute_result"
    }
   ],
   "source": [
    "ar3[-1: 4: -1]"
   ]
  },
  {
   "cell_type": "markdown",
   "id": "83bad624",
   "metadata": {},
   "source": [
    "### 二维数组"
   ]
  },
  {
   "cell_type": "markdown",
   "id": "5876becc",
   "metadata": {},
   "source": [
    "与一维数组类似，有以下值得注意的地方：\n",
    "- 切片中可以使用省略号`...`，代表对所有的行/列都依次执行一遍`[]`中的内容，从而形成一个数组\n",
    "> 一个`[]`中只能出现一个`...`\n",
    "- `arm_n[m][n]`与`arm_n[m, n]`有所不同\n",
    "    - `arm_n[m][n]`要分两步看待，先通过`arm_n[m]`取出数组，再通过`[n]`去进一步访问数组\n",
    "    > 当使用省略号时，类似`arm_n[m, ...][n]`的，`,`和两个`[]`同时使用的情况也是有的\n",
    "    - `arm_n[m, n]`是m和n先同时作用，相当于两条正交的线相交，然后再通过`[]`，取交点的数据\n",
    "- 当`[]`、`,`、`:`和`...`同时出现，该怎么理清顺序？\n",
    "    1. `[]`最后起作用，代表**真正把数据取出来**，而其他的符号都是在说明**怎样取数据/要取哪些数据**\n",
    "    2. `:`的优先级高于`,`，会先于`,`运算，可以理解为对**被选中的所有元素下标**都要依次执行一遍`[]`中的内容，从而形成一个**数组**\n",
    "    > `...`代表对**该维度中所有元素下标**都要依次执行一遍`[]`中的内容，从而形成一个**数组**\n",
    "    >\n",
    "    > 大部分情况下，`...`相当于只写一个`:`，有一些情况下，例如`,`个数过多时，会有差别，不过那些情况应该是比较难的了，因为我现在根本弄不明白\n",
    "    3. `,`代表意味着提高维度，可以理解为用**正交系相交**的方式去寻找元素，而`:`和`...`正可以用来画出多条相交线\n",
    "    \n",
    "    "
   ]
  },
  {
   "cell_type": "code",
   "execution_count": 33,
   "id": "73a92a27",
   "metadata": {},
   "outputs": [
    {
     "data": {
      "text/plain": [
       "array([[ 0,  1,  2,  3,  4],\n",
       "       [ 5,  6,  7,  8,  9],\n",
       "       [10, 11, 12, 13, 14],\n",
       "       [15, 16, 17, 18, 19]])"
      ]
     },
     "execution_count": 33,
     "metadata": {},
     "output_type": "execute_result"
    }
   ],
   "source": [
    "ar4_5 = np.arange(20).reshape(4, 5)\n",
    "ar4_5"
   ]
  },
  {
   "cell_type": "code",
   "execution_count": 35,
   "id": "321ef7fd",
   "metadata": {},
   "outputs": [
    {
     "data": {
      "text/plain": [
       "2"
      ]
     },
     "execution_count": 35,
     "metadata": {},
     "output_type": "execute_result"
    }
   ],
   "source": [
    "ar4_5.ndim"
   ]
  },
  {
   "cell_type": "code",
   "execution_count": 37,
   "id": "4b97752b",
   "metadata": {},
   "outputs": [
    {
     "data": {
      "text/plain": [
       "array([5, 6, 7, 8, 9])"
      ]
     },
     "execution_count": 37,
     "metadata": {},
     "output_type": "execute_result"
    }
   ],
   "source": [
    "ar4_5[1]"
   ]
  },
  {
   "cell_type": "code",
   "execution_count": 42,
   "id": "e4d4954d",
   "metadata": {},
   "outputs": [
    {
     "data": {
      "text/plain": [
       "12"
      ]
     },
     "execution_count": 42,
     "metadata": {},
     "output_type": "execute_result"
    }
   ],
   "source": [
    "ar4_5[2][2]"
   ]
  },
  {
   "cell_type": "code",
   "execution_count": 44,
   "id": "035a6cda",
   "metadata": {},
   "outputs": [
    {
     "data": {
      "text/plain": [
       "array([[10, 11, 12, 13, 14],\n",
       "       [15, 16, 17, 18, 19]])"
      ]
     },
     "execution_count": 44,
     "metadata": {},
     "output_type": "execute_result"
    }
   ],
   "source": [
    "ar4_5[2:]"
   ]
  },
  {
   "cell_type": "code",
   "execution_count": 54,
   "id": "86e1d77a",
   "metadata": {},
   "outputs": [
    {
     "data": {
      "text/plain": [
       "12"
      ]
     },
     "execution_count": 54,
     "metadata": {},
     "output_type": "execute_result"
    }
   ],
   "source": [
    "ar4_5[2, 2]"
   ]
  },
  {
   "cell_type": "code",
   "execution_count": 49,
   "id": "7a75d9b7",
   "metadata": {},
   "outputs": [
    {
     "data": {
      "text/plain": [
       "array([[ 0,  1,  2,  3,  4],\n",
       "       [ 5,  6,  7,  8,  9],\n",
       "       [10, 11, 12, 13, 14],\n",
       "       [15, 16, 17, 18, 19]])"
      ]
     },
     "execution_count": 49,
     "metadata": {},
     "output_type": "execute_result"
    }
   ],
   "source": [
    "ar4_5[...]\n",
    "# ar4_5[...,...]  # an index can only have a single ellipsis ('...')"
   ]
  },
  {
   "cell_type": "code",
   "execution_count": 87,
   "id": "2d39b080",
   "metadata": {},
   "outputs": [
    {
     "data": {
      "text/plain": [
       "array([ 1,  6, 11, 16])"
      ]
     },
     "execution_count": 87,
     "metadata": {},
     "output_type": "execute_result"
    }
   ],
   "source": [
    "# 需要取得第二列数据\n",
    "ar4_5[..., 1]"
   ]
  },
  {
   "cell_type": "code",
   "execution_count": 57,
   "id": "7826c371",
   "metadata": {},
   "outputs": [
    {
     "name": "stdout",
     "output_type": "stream",
     "text": [
      "[5 6 7 8 9]\n",
      "[[ 0  1  2  3  4]\n",
      " [ 5  6  7  8  9]\n",
      " [10 11 12 13 14]\n",
      " [15 16 17 18 19]]\n",
      "[5 6 7 8 9]\n"
     ]
    }
   ],
   "source": [
    "print(ar4_5[...][1])\n",
    "print(ar4_5[...])\n",
    "print(ar4_5[...][1])"
   ]
  },
  {
   "cell_type": "code",
   "execution_count": 88,
   "id": "2b453d12",
   "metadata": {},
   "outputs": [
    {
     "data": {
      "text/plain": [
       "array([[ 1,  2,  3,  4],\n",
       "       [ 6,  7,  8,  9],\n",
       "       [11, 12, 13, 14],\n",
       "       [16, 17, 18, 19]])"
      ]
     },
     "execution_count": 88,
     "metadata": {},
     "output_type": "execute_result"
    }
   ],
   "source": [
    "# 需要取得第二列数据\n",
    "# ar4_5[..., 1]\n",
    "# 返回第二列后的所有项\n",
    "ar4_5[..., 1:]\n",
    "# 相当于把之前的1变成[1, 2, 3, 4]，6变成[6, 7, 8, 9]，11变成[11, 12, 13, 14]，16变成[16, 17, 18, 19]"
   ]
  },
  {
   "cell_type": "code",
   "execution_count": 172,
   "id": "9ba9a420",
   "metadata": {},
   "outputs": [
    {
     "data": {
      "text/plain": [
       "array(7)"
      ]
     },
     "execution_count": 172,
     "metadata": {},
     "output_type": "execute_result"
    }
   ],
   "source": [
    "# 我没弄懂\n",
    "ar4_5[1, ..., 2]"
   ]
  },
  {
   "cell_type": "code",
   "execution_count": 173,
   "id": "7d67a9f1",
   "metadata": {},
   "outputs": [
    {
     "data": {
      "text/plain": [
       "array(7)"
      ]
     },
     "execution_count": 173,
     "metadata": {},
     "output_type": "execute_result"
    }
   ],
   "source": [
    "# 我没弄懂\n",
    "ar4_5[1, 2, ...]"
   ]
  },
  {
   "cell_type": "code",
   "execution_count": 159,
   "id": "dcba3f62",
   "metadata": {},
   "outputs": [
    {
     "ename": "IndexError",
     "evalue": "too many indices for array: array is 2-dimensional, but 3 were indexed",
     "output_type": "error",
     "traceback": [
      "\u001b[1;31m---------------------------------------------------------------------------\u001b[0m",
      "\u001b[1;31mIndexError\u001b[0m                                Traceback (most recent call last)",
      "Input \u001b[1;32mIn [159]\u001b[0m, in \u001b[0;36m<cell line: 1>\u001b[1;34m()\u001b[0m\n\u001b[1;32m----> 1\u001b[0m \u001b[43mar4_5\u001b[49m\u001b[43m[\u001b[49m\u001b[43m:\u001b[49m\u001b[43m,\u001b[49m\u001b[43m \u001b[49m\u001b[38;5;241;43m1\u001b[39;49m\u001b[43m,\u001b[49m\u001b[43m \u001b[49m\u001b[38;5;241;43m2\u001b[39;49m\u001b[43m]\u001b[49m\n",
      "\u001b[1;31mIndexError\u001b[0m: too many indices for array: array is 2-dimensional, but 3 were indexed"
     ]
    }
   ],
   "source": [
    "# 我没弄懂\n",
    "ar4_5[:, 1, 2]"
   ]
  },
  {
   "cell_type": "markdown",
   "id": "2e86ee9a",
   "metadata": {},
   "source": [
    "### 整数数组作为索引"
   ]
  },
  {
   "cell_type": "markdown",
   "id": "a0b4941f",
   "metadata": {},
   "source": [
    "目前对于二维的理解是：\n",
    "- 从两个长度相同的数组中以相同下标各取一个，从而形成一个坐标，再确定元素，而不是笛卡尔积\n",
    "> 允许一个索引是**整数**(或者长度为1的整数数组)，另一个索引是**整数数组**，相当于将整数的扩展为元素相同长度相同的整数数组，但**不允许两个数组长度不同**的情况\n",
    "- 在`,`之前，每次会从所有长度相同的数组索引中，取**下标相同的元素**作为索引进行运算，直到取遍数组索引，从而生成一个数组\n",
    "> 当`:`和数组索引同时出现时，**从左到右**的顺序，选择由谁来确定更外层的元素，比如`[:,[]]`这类情况，就是先由`:`生成序列，**拿出序列一个元素**，再让数组索引再依次生效，如果是`[[],:]`这类情况，就是先从`[]`中**确定一个元素**，再让`:`生成序列形成数组"
   ]
  },
  {
   "cell_type": "code",
   "execution_count": 171,
   "id": "2075c514",
   "metadata": {},
   "outputs": [
    {
     "data": {
      "text/plain": [
       "array([1, 4, 5])"
      ]
     },
     "execution_count": 171,
     "metadata": {},
     "output_type": "execute_result"
    }
   ],
   "source": [
    "#创建二维数组\n",
    "x = np.array([\n",
    "        [1,  2],\n",
    "        [3,  4],\n",
    "        [5,  6]\n",
    "    ])\n",
    "x[[0, 1, 2], [0, 1, 0]]"
   ]
  },
  {
   "cell_type": "code",
   "execution_count": 141,
   "id": "66da4eb8",
   "metadata": {},
   "outputs": [
    {
     "data": {
      "text/plain": [
       "array([ 0,  2,  9, 11])"
      ]
     },
     "execution_count": 141,
     "metadata": {},
     "output_type": "execute_result"
    }
   ],
   "source": [
    "# 没看懂这个例子是为了什么，之后再研究吧\n",
    "# 获取了 4*3 数组中的四个角上元素，它们对应的行索引是 [0,0] 和 [3,3]，列索引是 [0,2] 和 [0,2]。\n",
    "b = np.array([[ 0, 1, 2],\n",
    "              [ 3, 4, 5],\n",
    "              [ 6, 7, 8],\n",
    "              [ 9,10,11]])\n",
    "b[[0, 0, 3, 3], [0, 2, 0, 2]]"
   ]
  },
  {
   "cell_type": "code",
   "execution_count": 142,
   "id": "e63b57be",
   "metadata": {},
   "outputs": [
    {
     "data": {
      "text/plain": [
       "array([[ 0,  2],\n",
       "       [ 9, 11]])"
      ]
     },
     "execution_count": 142,
     "metadata": {},
     "output_type": "execute_result"
    }
   ],
   "source": [
    "# 没看懂这个例子是为了什么，之后再研究吧\n",
    "a = b[[0,0,3,3],[0,2,0,2]]  # (0,0)(0,2) (3,0) (3,2)\n",
    "\n",
    "r = np.array([[0,0] ,[3,3]]).reshape(4)\n",
    "l = np.array([[0,2] ,[0,2]]).reshape(4)\n",
    "s = b[r,l].reshape((2,2))\n",
    "s"
   ]
  },
  {
   "cell_type": "code",
   "execution_count": 113,
   "id": "7ec978ff",
   "metadata": {},
   "outputs": [
    {
     "data": {
      "text/plain": [
       "array([[5, 6],\n",
       "       [8, 9]])"
      ]
     },
     "execution_count": 113,
     "metadata": {},
     "output_type": "execute_result"
    }
   ],
   "source": [
    "a = np.array([\n",
    "        [1,2,3], \n",
    "        [4,5,6],\n",
    "        [7,8,9]\n",
    "    ])\n",
    "# 行取得2行和3行，列取得2列和3列\n",
    "b = a[1:3, 1:3]\n",
    "b"
   ]
  },
  {
   "cell_type": "code",
   "execution_count": 125,
   "id": "98f5fb5a",
   "metadata": {},
   "outputs": [
    {
     "name": "stdout",
     "output_type": "stream",
     "text": [
      "[5 9]\n",
      "[[5 6]\n",
      " [8 9]]\n",
      "[[2 3]\n",
      " [5 6]\n",
      " [8 9]]\n"
     ]
    }
   ],
   "source": [
    "b = a[[1, 2], [1, 2]]\n",
    "c = a[1:3, [1, 2]]\n",
    "d = a[0:3, [1, 2]]\n",
    "\n",
    "print(b)\n",
    "print(c)\n",
    "print(d)"
   ]
  },
  {
   "cell_type": "markdown",
   "id": "d3d6a5d7",
   "metadata": {},
   "source": [
    "创建一个8x8的国际象棋棋盘矩阵（黑块为0，白块为1）\n",
    "1.  [0 1 0 1 0 1 0 1]\n",
    "2.  [1 0 1 0 1 0 1 0]\n",
    "3.  [0 1 0 1 0 1 0 1]\n",
    "4.  [1 0 1 0 1 0 1 0]\n",
    "5.  [0 1 0 1 0 1 0 1]\n",
    "6.  [1 0 1 0 1 0 1 0]\n",
    "7.  [0 1 0 1 0 1 0 1]\n",
    "8.  [1 0 1 0 1 0 1 0]]"
   ]
  },
  {
   "cell_type": "code",
   "execution_count": 140,
   "id": "d00b77de",
   "metadata": {},
   "outputs": [
    {
     "name": "stdout",
     "output_type": "stream",
     "text": [
      "[[0 0 0 0 0 0 0 0]\n",
      " [0 0 0 0 0 0 0 0]\n",
      " [0 0 0 0 0 0 0 0]\n",
      " [0 0 0 0 0 0 0 0]\n",
      " [0 0 0 0 0 0 0 0]\n",
      " [0 0 0 0 0 0 0 0]\n",
      " [0 0 0 0 0 0 0 0]\n",
      " [0 0 0 0 0 0 0 0]]\n",
      "[[0 0 0 0 0 0 0 0]\n",
      " [1 0 1 0 1 0 1 0]\n",
      " [0 0 0 0 0 0 0 0]\n",
      " [1 0 1 0 1 0 1 0]\n",
      " [0 0 0 0 0 0 0 0]\n",
      " [1 0 1 0 1 0 1 0]\n",
      " [0 0 0 0 0 0 0 0]\n",
      " [1 0 1 0 1 0 1 0]]\n",
      "[[0 1 0 1 0 1 0 1]\n",
      " [1 0 1 0 1 0 1 0]\n",
      " [0 1 0 1 0 1 0 1]\n",
      " [1 0 1 0 1 0 1 0]\n",
      " [0 1 0 1 0 1 0 1]\n",
      " [1 0 1 0 1 0 1 0]\n",
      " [0 1 0 1 0 1 0 1]\n",
      " [1 0 1 0 1 0 1 0]]\n"
     ]
    }
   ],
   "source": [
    "Z = np.zeros((8, 8), int)\n",
    "print(Z)\n",
    "Z[1::2, ::2] = 1\n",
    "print(Z)\n",
    "Z[::2, 1::2] = 1\n",
    "print(Z)"
   ]
  },
  {
   "cell_type": "markdown",
   "id": "1de79824",
   "metadata": {},
   "source": [
    "### 布尔数组作为索引"
   ]
  },
  {
   "cell_type": "markdown",
   "id": "bd3028ab",
   "metadata": {},
   "source": [
    "当输出的结果需要经过布尔运算（如比较运算）时，此时会使用到另一种高级索引方式，即布尔数组索引。"
   ]
  },
  {
   "cell_type": "code",
   "execution_count": 146,
   "id": "b01b5773",
   "metadata": {},
   "outputs": [
    {
     "name": "stdout",
     "output_type": "stream",
     "text": [
      "(4, 3)\n"
     ]
    },
    {
     "data": {
      "text/plain": [
       "array([ 7,  8,  9, 10, 11])"
      ]
     },
     "execution_count": 146,
     "metadata": {},
     "output_type": "execute_result"
    }
   ],
   "source": [
    "# #返回所有大于6的数字组成的数组\n",
    "x = np.array([[ 0,  1,  2],[ 3,  4,  5],[ 6,  7,  8],[ 9, 10, 11]])\n",
    "print(x.shape)\n",
    "x[x > 6]"
   ]
  },
  {
   "cell_type": "code",
   "execution_count": 148,
   "id": "b3d99442",
   "metadata": {},
   "outputs": [
    {
     "data": {
      "text/plain": [
       "array([5, 6, 7, 8])"
      ]
     },
     "execution_count": 148,
     "metadata": {},
     "output_type": "execute_result"
    }
   ],
   "source": [
    "x = np.array([[ 0,  1,  2],[ 3,  4,  5],[ 6,  7,  8],[ 9, 10, 11]])\n",
    "# 以上x中大于4并且小于9的数据\n",
    "x[(x>4) & (x<9)]"
   ]
  },
  {
   "cell_type": "code",
   "execution_count": 150,
   "id": "4730549c",
   "metadata": {},
   "outputs": [
    {
     "data": {
      "text/plain": [
       "array([ 0,  1,  2,  3, 10, 11])"
      ]
     },
     "execution_count": 150,
     "metadata": {},
     "output_type": "execute_result"
    }
   ],
   "source": [
    "x = np.array([[ 0,  1,  2],[ 3,  4,  5],[ 6,  7,  8],[ 9, 10, 11]])\n",
    "# 以上x中小于4或者大于9的数据\n",
    "x[(x<4) | (x>9)]"
   ]
  },
  {
   "cell_type": "markdown",
   "id": "67b7e511",
   "metadata": {},
   "source": [
    "还可以根据True和False的形式表示需要和不需要的数据"
   ]
  },
  {
   "cell_type": "code",
   "execution_count": 4,
   "id": "8452e3c2",
   "metadata": {},
   "outputs": [
    {
     "data": {
      "text/plain": [
       "array([[ 0,  1,  2,  3],\n",
       "       [ 4,  5,  6,  7],\n",
       "       [ 8,  9, 10, 11]])"
      ]
     },
     "execution_count": 4,
     "metadata": {},
     "output_type": "execute_result"
    }
   ],
   "source": [
    "# 创建3*4的数组\n",
    "a3_4 = np.arange(12).reshape((3,4))\n",
    "a3_4"
   ]
  },
  {
   "cell_type": "code",
   "execution_count": 153,
   "id": "6b248679",
   "metadata": {},
   "outputs": [],
   "source": [
    "# 行变量 存在3个元素\n",
    "row1 = np.array([False,True,True])\n",
    "\n",
    "# 列变量 存在4个元素\n",
    "column1 = np.array([True,False,True,False])"
   ]
  },
  {
   "cell_type": "code",
   "execution_count": 155,
   "id": "4fa3ea5d",
   "metadata": {},
   "outputs": [
    {
     "data": {
      "text/plain": [
       "array([[ 4,  5,  6,  7],\n",
       "       [ 8,  9, 10, 11]])"
      ]
     },
     "execution_count": 155,
     "metadata": {},
     "output_type": "execute_result"
    }
   ],
   "source": [
    "# a3_4 是3行, 做切片时也提供3个元素的数组,轴的长度一致\n",
    "a3_4[row1]"
   ]
  },
  {
   "cell_type": "code",
   "execution_count": 177,
   "id": "cc8026e7",
   "metadata": {},
   "outputs": [
    {
     "data": {
      "text/plain": [
       "array([[ 4,  5,  6,  7],\n",
       "       [ 8,  9, 10, 11]])"
      ]
     },
     "execution_count": 177,
     "metadata": {},
     "output_type": "execute_result"
    }
   ],
   "source": [
    "a3_4[[1, 2]]\n",
    "# 数组中的元素依次运算生效，最后生成一个数组"
   ]
  },
  {
   "cell_type": "code",
   "execution_count": 161,
   "id": "6380b872",
   "metadata": {},
   "outputs": [
    {
     "data": {
      "text/plain": [
       "array([[ 0,  2],\n",
       "       [ 4,  6],\n",
       "       [ 8, 10]])"
      ]
     },
     "execution_count": 161,
     "metadata": {},
     "output_type": "execute_result"
    }
   ],
   "source": [
    "a3_4[...,column1]"
   ]
  },
  {
   "cell_type": "code",
   "execution_count": 181,
   "id": "b0df3cef",
   "metadata": {},
   "outputs": [
    {
     "data": {
      "text/plain": [
       "array([[ 0,  2],\n",
       "       [ 4,  6],\n",
       "       [ 8, 10]])"
      ]
     },
     "execution_count": 181,
     "metadata": {},
     "output_type": "execute_result"
    }
   ],
   "source": [
    "a3_4[...,[0, 2]]"
   ]
  },
  {
   "cell_type": "code",
   "execution_count": 11,
   "id": "9613e069",
   "metadata": {},
   "outputs": [
    {
     "data": {
      "text/plain": [
       "array([0, 4, 8])"
      ]
     },
     "execution_count": 11,
     "metadata": {},
     "output_type": "execute_result"
    }
   ],
   "source": [
    "a3_4[..., 0]"
   ]
  },
  {
   "cell_type": "code",
   "execution_count": 8,
   "id": "6ce0c891",
   "metadata": {},
   "outputs": [
    {
     "data": {
      "text/plain": [
       "array([0, 2])"
      ]
     },
     "execution_count": 8,
     "metadata": {},
     "output_type": "execute_result"
    }
   ],
   "source": [
    "a3_4[0, [0, 2]]"
   ]
  },
  {
   "cell_type": "code",
   "execution_count": 5,
   "id": "64e5f788",
   "metadata": {},
   "outputs": [
    {
     "data": {
      "text/plain": [
       "array([[ 0,  1,  2,  3],\n",
       "       [ 8,  9, 10, 11]])"
      ]
     },
     "execution_count": 5,
     "metadata": {},
     "output_type": "execute_result"
    }
   ],
   "source": [
    "a3_4[[0, 2], ...]"
   ]
  },
  {
   "cell_type": "code",
   "execution_count": 7,
   "id": "17ec5bd4",
   "metadata": {},
   "outputs": [
    {
     "data": {
      "text/plain": [
       "array([0, 8])"
      ]
     },
     "execution_count": 7,
     "metadata": {},
     "output_type": "execute_result"
    }
   ],
   "source": [
    "a3_4[[0, 2], 0]"
   ]
  },
  {
   "cell_type": "code",
   "execution_count": 9,
   "id": "5272b594",
   "metadata": {},
   "outputs": [
    {
     "data": {
      "text/plain": [
       "array([0, 1, 2, 3])"
      ]
     },
     "execution_count": 9,
     "metadata": {},
     "output_type": "execute_result"
    }
   ],
   "source": [
    "a3_4[0, ...]"
   ]
  },
  {
   "cell_type": "code",
   "execution_count": 10,
   "id": "022100cf",
   "metadata": {},
   "outputs": [
    {
     "data": {
      "text/plain": [
       "array([ 8,  9, 10, 11])"
      ]
     },
     "execution_count": 10,
     "metadata": {},
     "output_type": "execute_result"
    }
   ],
   "source": [
    "a3_4[2, ...]"
   ]
  },
  {
   "cell_type": "code",
   "execution_count": 194,
   "id": "9a62e431",
   "metadata": {},
   "outputs": [
    {
     "data": {
      "text/plain": [
       "array([ 4, 10])"
      ]
     },
     "execution_count": 194,
     "metadata": {},
     "output_type": "execute_result"
    }
   ],
   "source": [
    "a3_4[row1,column1]"
   ]
  },
  {
   "cell_type": "code",
   "execution_count": 196,
   "id": "8745da47",
   "metadata": {},
   "outputs": [
    {
     "data": {
      "text/plain": [
       "array([[ 0,  1,  2,  3],\n",
       "       [ 4,  5,  6,  7],\n",
       "       [ 8,  9, 10, 11]])"
      ]
     },
     "execution_count": 196,
     "metadata": {},
     "output_type": "execute_result"
    }
   ],
   "source": [
    "a3_4"
   ]
  },
  {
   "cell_type": "code",
   "execution_count": 203,
   "id": "26642477",
   "metadata": {},
   "outputs": [
    {
     "name": "stdout",
     "output_type": "stream",
     "text": [
      "[[ 0  1  2  3]\n",
      " [ 8  9 10 11]]\n",
      "[[ 0  2  3]\n",
      " [ 8 10 11]]\n"
     ]
    }
   ],
   "source": [
    "# 选择第1行和最后一行的第1，3，4列,操作步骤\n",
    "# 第一步:先选行\n",
    "print(a3_4[[0, -1], :])\n",
    "# 第二步:再选择列\n",
    "print(a3_4[[0, -1], :][:, [0, 2, 3]])\n",
    "# 不要执著于一个[]解决问题"
   ]
  },
  {
   "cell_type": "markdown",
   "id": "8e79e6b6",
   "metadata": {},
   "source": [
    "## 广播机制"
   ]
  },
  {
   "cell_type": "markdown",
   "id": "bf5b7d0a",
   "metadata": {},
   "source": [
    "广播(Broadcast)是 numpy 对不同形状(shape)的数组进行数值计算的方式，对数组的算术运算通常在相应的元素上进行。\n",
    "\n",
    "如果两个数组 a 和 b 形状相同，即满足 a.shape == b.shape，那么 a*b 的结果就是 a 与 b 数组对应位相乘。这要求维数相同，且各维度的长度相同。"
   ]
  },
  {
   "cell_type": "code",
   "execution_count": 205,
   "id": "392a329f",
   "metadata": {},
   "outputs": [
    {
     "name": "stdout",
     "output_type": "stream",
     "text": [
      "[ 10  40  90 160]\n"
     ]
    }
   ],
   "source": [
    "a = np.array([1,2,3,4]) \n",
    "b = np.array([10,20,30,40]) \n",
    "c = a * b \n",
    "print (c)"
   ]
  },
  {
   "cell_type": "markdown",
   "id": "3db62081",
   "metadata": {},
   "source": [
    "但如果两个形状不同的数组呢？它们之间就不能做算术运算了吗？当然不是！\n",
    "\n",
    "为了保持数组形状相同，NumPy 设计了一种广播机制 这种机制的核心是对形状较小的数组，在横向或纵向上进行一定次数的重复，使其与形状较大的数组拥有相同的维度。"
   ]
  },
  {
   "cell_type": "code",
   "execution_count": 207,
   "id": "118041b8",
   "metadata": {},
   "outputs": [
    {
     "name": "stdout",
     "output_type": "stream",
     "text": [
      "[[ 1  2  3]\n",
      " [11 12 13]\n",
      " [21 22 23]\n",
      " [31 32 33]]\n"
     ]
    }
   ],
   "source": [
    "a = np.array([[ 0, 0, 0],\n",
    "           [10,10,10],\n",
    "           [20,20,20],\n",
    "           [30,30,30]])\n",
    "b = np.array([1,2,3])\n",
    "print(a + b)"
   ]
  },
  {
   "cell_type": "markdown",
   "id": "aa20187a",
   "metadata": {},
   "source": [
    "广播的规则:\n",
    "- 让所有输入数组都向其中形状最长的数组看齐，形状中不足的部分都通过在前面加 1 补齐。\n",
    "- 输出数组的形状是输入数组形状的各个维度上的最大值。\n",
    "- 如果输入数组的某个维度和输出数组的对应维度的长度相同或者其长度为 1 时，这个数组能够用来计算，否则出错。\n",
    "- 当输入数组的某个维度的长度为 1 时，沿着此维度运算时都用此维度上的第一组值。\n",
    "\n",
    "> 这个我没看懂，但也懒得看了，估计说的也不一定清晰正确"
   ]
  },
  {
   "cell_type": "markdown",
   "id": "00a9f9a6",
   "metadata": {},
   "source": [
    "对于广播规则另一种简单理解：\n",
    "1. 将两个数组的维度大小右对齐，然后比较对应维度上的数值；\n",
    "2. 如果数值相等或其中有一个为1或者为空，则能进行广播运算，输出的维度大小为取数值大的数值；\n",
    "3. 否则不能进行数组运算。\n",
    "\n",
    "> 目前对广播机制的理解仅限于如何通过技巧来计算，并没有理解本质"
   ]
  },
  {
   "cell_type": "raw",
   "id": "48f83ecc",
   "metadata": {},
   "source": [
    "数组a大小为(2, 3)\n",
    "数组b大小为(1,)\n",
    "首先右对齐：\n",
    "   2   3\n",
    "       1\n",
    "----------\n",
    "   2   3\n",
    "所以最后两个数组运算的输出大小为：（2， 3）"
   ]
  },
  {
   "cell_type": "code",
   "execution_count": 209,
   "id": "033f5b8c",
   "metadata": {},
   "outputs": [
    {
     "name": "stdout",
     "output_type": "stream",
     "text": [
      "a: [[0 1 2]\n",
      " [3 4 5]]\n",
      "b: [5]\n"
     ]
    },
    {
     "data": {
      "text/plain": [
       "array([[ 0,  5, 10],\n",
       "       [15, 20, 25]])"
      ]
     },
     "execution_count": 209,
     "metadata": {},
     "output_type": "execute_result"
    }
   ],
   "source": [
    "# 数组a大小为(2, 3)\n",
    "a = np.arange(6).reshape(2, 3)\n",
    "print('a:', a)\n",
    "# 数组b大小为(1,)\n",
    "b = np.array([5])\n",
    "print('b:',b)\n",
    "c = a * b \n",
    "# 输出的大小为(2, 3)\n",
    "c"
   ]
  },
  {
   "cell_type": "raw",
   "id": "a60cbe82",
   "metadata": {},
   "source": [
    "数组a大小为(2, 1, 3)\n",
    "数组b大小为(4, 1)\n",
    "首先右对齐：\n",
    " 2  1  3\n",
    "    4  1\n",
    "----------\n",
    " 2  4  3\n",
    "所以最后两个数组运算的输出大小为：（2, 4, 3）"
   ]
  },
  {
   "cell_type": "code",
   "execution_count": 211,
   "id": "bcdfa413",
   "metadata": {},
   "outputs": [
    {
     "name": "stdout",
     "output_type": "stream",
     "text": [
      "a: [[[0 1 2]]\n",
      "\n",
      " [[3 4 5]]]\n",
      "----------\n",
      "b: [[0]\n",
      " [1]\n",
      " [2]\n",
      " [3]]\n",
      "----------\n",
      "[[[0 1 2]\n",
      "  [1 2 3]\n",
      "  [2 3 4]\n",
      "  [3 4 5]]\n",
      "\n",
      " [[3 4 5]\n",
      "  [4 5 6]\n",
      "  [5 6 7]\n",
      "  [6 7 8]]] (2, 4, 3)\n"
     ]
    }
   ],
   "source": [
    "# 数组大小为(2, 1, 3)\n",
    "a= np.arange(6).reshape(2, 1, 3)\n",
    "\n",
    "print('a:',a)\n",
    "print('-'*10)\n",
    "# 数组大小为(4, 1)\n",
    "b = np.arange(4).reshape(4, 1)\n",
    "print('b:',b)\n",
    "print('-'*10)\n",
    "c = a + b\n",
    "print(c,c.shape)"
   ]
  },
  {
   "cell_type": "markdown",
   "id": "baac2803",
   "metadata": {},
   "source": [
    "从这里能够看出:\n",
    "- 两个数组右对齐以后，对应维度里的数值要么相等，要么有一个为1，要么缺失取大值。\n",
    "- 除此之外就会报错。像下面的两个数组就不能做运算。"
   ]
  },
  {
   "cell_type": "raw",
   "id": "550881ce",
   "metadata": {},
   "source": [
    "数组a大小为(2, 1, 3)\n",
    "数组b大小为(4, 2)\n",
    "首先右对齐：\n",
    " 2  1  3\n",
    "    4  2\n",
    "----------\n",
    "2跟3不匹配，此时就不能做运算"
   ]
  },
  {
   "cell_type": "code",
   "execution_count": 12,
   "id": "30037a2a",
   "metadata": {},
   "outputs": [
    {
     "name": "stdout",
     "output_type": "stream",
     "text": [
      "a: [[[0 1 2]]\n",
      "\n",
      " [[3 4 5]]]\n",
      "----------\n",
      "b: [[0 1]\n",
      " [2 3]\n",
      " [4 5]\n",
      " [6 7]]\n",
      "----------\n"
     ]
    },
    {
     "ename": "ValueError",
     "evalue": "operands could not be broadcast together with shapes (2,1,3) (4,2) ",
     "output_type": "error",
     "traceback": [
      "\u001b[1;31m---------------------------------------------------------------------------\u001b[0m",
      "\u001b[1;31mValueError\u001b[0m                                Traceback (most recent call last)",
      "Input \u001b[1;32mIn [12]\u001b[0m, in \u001b[0;36m<cell line: 11>\u001b[1;34m()\u001b[0m\n\u001b[0;32m      9\u001b[0m \u001b[38;5;28mprint\u001b[39m(\u001b[38;5;124m'\u001b[39m\u001b[38;5;124m-\u001b[39m\u001b[38;5;124m'\u001b[39m\u001b[38;5;241m*\u001b[39m\u001b[38;5;241m10\u001b[39m)\n\u001b[0;32m     10\u001b[0m \u001b[38;5;66;03m# 运行报错\u001b[39;00m\n\u001b[1;32m---> 11\u001b[0m \u001b[43ma\u001b[49m\u001b[43m \u001b[49m\u001b[38;5;241;43m+\u001b[39;49m\u001b[43m \u001b[49m\u001b[43mb\u001b[49m\n",
      "\u001b[1;31mValueError\u001b[0m: operands could not be broadcast together with shapes (2,1,3) (4,2) "
     ]
    }
   ],
   "source": [
    "# 数组a大小为(2, 1, 3)\n",
    "a = np.arange(6).reshape(2, 1, 3)\n",
    "print('a:',a)\n",
    "print('-'*10)\n",
    "\n",
    "# 数组b大小为(4, 2)\n",
    "b = np.arange(8).reshape(4, 2)\n",
    "print('b:',b)\n",
    "print('-'*10)\n",
    "# 运行报错\n",
    "a + b"
   ]
  },
  {
   "cell_type": "markdown",
   "id": "7ee4fb1c",
   "metadata": {},
   "source": [
    "## 统计函数"
   ]
  },
  {
   "cell_type": "markdown",
   "id": "239cf6f6",
   "metadata": {},
   "source": [
    "### 平均值"
   ]
  },
  {
   "cell_type": "markdown",
   "id": "5ff1b877",
   "metadata": {},
   "source": [
    "`ndarray.mean(axis=None)`\n",
    "`np.mean(ndarray, axis=None)`\n",
    "\n",
    "求某一维度的平均值，要设置`axis`参数\n",
    "- `axis`的含义就是，**沿着某一个轴**进行运算\n",
    "- `axis=0`：保留第1个维度的数据形状，并用所有相同的数据形状取平均\n",
    "- `axis=1`：保留第2个维度的数据形状，并用所有相同的数据形状取平均\n",
    "- `axis=2`：保留第3个维度的数据形状，并用所有相同的数据形状取平均\n",
    "\n",
    "> 注意还要考虑到之前的维度，从而去寻找“平行”的数据形状；\n",
    ">\n",
    "> 记住，使用`axis`参数后，得到的结果维度会比原数组少1\n",
    "\n",
    "> 目前对此理解的并不深入"
   ]
  },
  {
   "cell_type": "code",
   "execution_count": 65,
   "id": "9eeca4c4",
   "metadata": {},
   "outputs": [
    {
     "name": "stdout",
     "output_type": "stream",
     "text": [
      "[[ 0  1  2  3  4]\n",
      " [ 5  6  7  8  9]\n",
      " [10 11 12 13 14]\n",
      " [15 16 17 18 19]]\n",
      "9.5\n",
      "9.5\n"
     ]
    }
   ],
   "source": [
    "m1 = np.arange(20).reshape((4,5))\n",
    "print(m1)\n",
    "# 默认求出数组所有元素的平均值\n",
    "print(m1.mean())\n",
    "print(np.mean(m1))"
   ]
  },
  {
   "cell_type": "code",
   "execution_count": 18,
   "id": "4aebd711",
   "metadata": {},
   "outputs": [
    {
     "name": "stdout",
     "output_type": "stream",
     "text": [
      "[[ 0  1  2  3  4]\n",
      " [ 5  6  7  8  9]\n",
      " [10 11 12 13 14]\n",
      " [15 16 17 18 19]]\n"
     ]
    },
    {
     "data": {
      "text/plain": [
       "array([ 7.5,  8.5,  9.5, 10.5, 11.5])"
      ]
     },
     "execution_count": 18,
     "metadata": {},
     "output_type": "execute_result"
    }
   ],
   "source": [
    "\n",
    "m1 = np.arange(20).reshape((4,5))\n",
    "print(m1)\n",
    "# axis=0将从上往下计算平均值\n",
    "m1.mean(axis=0)\n",
    "# 保留第一个维度的形状，即类似这样的形状：[0, 1, 2, 3, 4]，然后用所有相同的形状取平均"
   ]
  },
  {
   "cell_type": "code",
   "execution_count": 20,
   "id": "5841974a",
   "metadata": {},
   "outputs": [
    {
     "data": {
      "text/plain": [
       "array([ 2.,  7., 12., 17.])"
      ]
     },
     "execution_count": 20,
     "metadata": {},
     "output_type": "execute_result"
    }
   ],
   "source": [
    "\n",
    "# axis=1 将从左往右计算平均值\n",
    "m1.mean(axis=1)\n",
    "# 保留第二个维度的形状，即类似这样的形状：[0, 5, 10, 15]，然后用所有相同的形状取平均"
   ]
  },
  {
   "cell_type": "code",
   "execution_count": 23,
   "id": "c3464176",
   "metadata": {},
   "outputs": [
    {
     "data": {
      "text/plain": [
       "array([[[ 0,  1,  2,  3],\n",
       "        [ 4,  5,  6,  7],\n",
       "        [ 8,  9, 10, 11]],\n",
       "\n",
       "       [[12, 13, 14, 15],\n",
       "        [16, 17, 18, 19],\n",
       "        [20, 21, 22, 23]]])"
      ]
     },
     "execution_count": 23,
     "metadata": {},
     "output_type": "execute_result"
    }
   ],
   "source": [
    "m2 = np.arange(24).reshape(2, 3, 4)\n",
    "m2"
   ]
  },
  {
   "cell_type": "code",
   "execution_count": 29,
   "id": "dce442f6",
   "metadata": {},
   "outputs": [
    {
     "data": {
      "text/plain": [
       "array([[ 6.,  7.,  8.,  9.],\n",
       "       [10., 11., 12., 13.],\n",
       "       [14., 15., 16., 17.]])"
      ]
     },
     "execution_count": 29,
     "metadata": {},
     "output_type": "execute_result"
    }
   ],
   "source": [
    "m2.mean(axis = 0)\n",
    "# 保留第一个维度的形状，即类似这样的形状：\n",
    "# [[ 0,  1,  2,  3],\n",
    "# [ 4,  5,  6,  7],\n",
    "# [ 8,  9, 10, 11]]\n",
    "# 然后用所有相同的形状取平均"
   ]
  },
  {
   "cell_type": "code",
   "execution_count": 27,
   "id": "6c566e08",
   "metadata": {},
   "outputs": [
    {
     "data": {
      "text/plain": [
       "array([[ 4.,  5.,  6.,  7.],\n",
       "       [16., 17., 18., 19.]])"
      ]
     },
     "execution_count": 27,
     "metadata": {},
     "output_type": "execute_result"
    }
   ],
   "source": [
    "m2.mean(axis = 1)\n",
    "# 保留第二个维度的形状，即类似这样的形状：\n",
    "# [[ 0,  1,  2,  3],\n",
    "# [ 12,  13, 14, 15]]\n",
    "# 然后用所有相同的形状取平均"
   ]
  },
  {
   "cell_type": "code",
   "execution_count": 30,
   "id": "3a693e77",
   "metadata": {},
   "outputs": [
    {
     "data": {
      "text/plain": [
       "array([[ 1.5,  5.5,  9.5],\n",
       "       [13.5, 17.5, 21.5]])"
      ]
     },
     "execution_count": 30,
     "metadata": {},
     "output_type": "execute_result"
    }
   ],
   "source": [
    "m2.mean(axis = 2)\n",
    "# 保留第三个维度的形状，即类似这样的形状：\n",
    "# [[ 0, 4, 8],\n",
    "# [12, 16, 20]]\n",
    "# 然后用所有相同的形状取平均"
   ]
  },
  {
   "cell_type": "markdown",
   "id": "533d3c0c",
   "metadata": {},
   "source": [
    "### 中位数"
   ]
  },
  {
   "cell_type": "markdown",
   "id": "3aa90492",
   "metadata": {},
   "source": [
    "`np.median(ndarary, axis=None)`\n",
    "> 没有`ndarray.median()`\n",
    "\n",
    "又称中点数，中值。\n",
    "\n",
    "是按顺序排列的一组数据中居于中间位置的数，代表一个样本、种群或概率分布中的一个数值\n",
    "\n",
    "- 平均数：是一个\"虚拟\"的数，是通过计算得到的，它不是数据中的原始数据。\n",
    "\n",
    "    中位数：是一个不完全\"虚拟\"的数。\n",
    "- 平均数：反映了一组数据的平均大小，常用来一代表数据的总体 \"平均水平\"。\n",
    "\n",
    "    中位数：像一条分界线，将数据分成前半部分和后半部分，因此用来代表一组数据的\"中等水平\""
   ]
  },
  {
   "cell_type": "code",
   "execution_count": 32,
   "id": "b9273bfc",
   "metadata": {},
   "outputs": [
    {
     "data": {
      "text/plain": [
       "5.0"
      ]
     },
     "execution_count": 32,
     "metadata": {},
     "output_type": "execute_result"
    }
   ],
   "source": [
    "ar1 = np.array([1,3,5,6,8])\n",
    "np.median(ar1)"
   ]
  },
  {
   "cell_type": "code",
   "execution_count": 34,
   "id": "af9c2ff2",
   "metadata": {},
   "outputs": [
    {
     "data": {
      "text/plain": [
       "5.5"
      ]
     },
     "execution_count": 34,
     "metadata": {},
     "output_type": "execute_result"
    }
   ],
   "source": [
    "ar1 = np.array([1,3,5,6,8,9])\n",
    "np.median(ar1)"
   ]
  },
  {
   "cell_type": "code",
   "execution_count": 73,
   "id": "71765949",
   "metadata": {},
   "outputs": [
    {
     "data": {
      "text/plain": [
       "array([ 2.,  7., 12., 17.])"
      ]
     },
     "execution_count": 73,
     "metadata": {},
     "output_type": "execute_result"
    }
   ],
   "source": [
    "ar1 = np.arange(20).reshape(4, 5)\n",
    "np.median(ar1, axis=1)"
   ]
  },
  {
   "cell_type": "code",
   "execution_count": 84,
   "id": "f96b8d37",
   "metadata": {},
   "outputs": [
    {
     "ename": "AttributeError",
     "evalue": "'numpy.ndarray' object has no attribute 'median'",
     "output_type": "error",
     "traceback": [
      "\u001b[1;31m---------------------------------------------------------------------------\u001b[0m",
      "\u001b[1;31mAttributeError\u001b[0m                            Traceback (most recent call last)",
      "Input \u001b[1;32mIn [84]\u001b[0m, in \u001b[0;36m<cell line: 1>\u001b[1;34m()\u001b[0m\n\u001b[1;32m----> 1\u001b[0m \u001b[43mar1\u001b[49m\u001b[38;5;241;43m.\u001b[39;49m\u001b[43mmedian\u001b[49m()\n",
      "\u001b[1;31mAttributeError\u001b[0m: 'numpy.ndarray' object has no attribute 'median'"
     ]
    }
   ],
   "source": [
    "ar1.median()"
   ]
  },
  {
   "cell_type": "markdown",
   "id": "96e2ad66",
   "metadata": {},
   "source": [
    "### 标准差"
   ]
  },
  {
   "cell_type": "markdown",
   "id": "1ae03bc0",
   "metadata": {},
   "source": [
    "`ndarray.std(axis = None)`\n",
    "`np.std(ndarray, axis = None)`\n",
    "\n",
    "在概率统计中最常使用作为统计分布程度上的测量，是反映一组数据**离散程度**最常用的一种量化形式，是表示精确度的重要指标\n",
    "- 标准差定义是总体各单位标准值与其平均数离差平方的算术平均数的平方根。\n",
    "\n",
    "简单来说，标准差是一组数据平均值分散程度的一种度量。\n",
    "- 一个较大的标准差，代表大部分数值和其平均值之间差异较大；\n",
    "- 一个较小的标准差，代表这些数值较接近平均值。\n",
    "\n",
    ">标准差应用于投资上，可作为量度**回报稳定性**的指标。标准差数值越大，代表回报远离过去平均数值，回报较不稳定故风险越高。相反，标准差数值越小，代表回报较为稳定，风险亦较小。"
   ]
  },
  {
   "cell_type": "code",
   "execution_count": 36,
   "id": "db57c185",
   "metadata": {},
   "outputs": [
    {
     "name": "stdout",
     "output_type": "stream",
     "text": [
      "A组的标准差为: 17.07825127659933\n",
      "B组的标准差为: 2.160246899469287\n"
     ]
    }
   ],
   "source": [
    "\n",
    "'''\n",
    "例如，A、B两组各有6位学生参加同一次语文测验，\n",
    "A组的分数为95、85、75、65、55、45，\n",
    "B组的分数为73、72、71、69、68、67。\n",
    "分析那组学生之间的差距大?\n",
    "'''\n",
    "a = np.array([95,85,75,65,55,45])\n",
    "b = np.array([73,72,71,69,68,67])\n",
    "print('A组的标准差为:',a.std())\n",
    "print('B组的标准差为:',b.std())"
   ]
  },
  {
   "cell_type": "code",
   "execution_count": 55,
   "id": "4e7f12ba",
   "metadata": {},
   "outputs": [
    {
     "data": {
      "text/plain": [
       "17.07825127659933"
      ]
     },
     "execution_count": 55,
     "metadata": {},
     "output_type": "execute_result"
    }
   ],
   "source": [
    "# 按步骤计算下标准差\n",
    "np.sqrt(((a - a.mean()) ** 2).mean())"
   ]
  },
  {
   "cell_type": "code",
   "execution_count": 64,
   "id": "ab5897e6",
   "metadata": {},
   "outputs": [
    {
     "name": "stdout",
     "output_type": "stream",
     "text": [
      "[[ 0  1  2  3  4]\n",
      " [ 5  6  7  8  9]\n",
      " [10 11 12 13 14]\n",
      " [15 16 17 18 19]]\n",
      "5.766281297335398\n",
      "5.766281297335398\n",
      "[5.59016994 5.59016994 5.59016994 5.59016994 5.59016994]\n",
      "[5.59016994 5.59016994 5.59016994 5.59016994 5.59016994]\n",
      "[1.41421356 1.41421356 1.41421356 1.41421356]\n",
      "[1.41421356 1.41421356 1.41421356 1.41421356]\n"
     ]
    }
   ],
   "source": [
    "c = np.arange(20).reshape(4, 5)\n",
    "print(c)\n",
    "print(c.std())\n",
    "print(np.std(c))\n",
    "print(c.std(axis = 0))\n",
    "print(np.std(c, axis = 0))\n",
    "print(c.std(axis = 1))\n",
    "print(np.std(c, axis = 1))"
   ]
  },
  {
   "cell_type": "markdown",
   "id": "55071c82",
   "metadata": {},
   "source": [
    "### 方差"
   ]
  },
  {
   "cell_type": "markdown",
   "id": "f6bf0b8d",
   "metadata": {},
   "source": [
    "`ndarray.var(axis=None)`\n",
    "`np.var(ndarray, axis=None)`\n",
    "> 标准差有计量单位，而方差无计量单位，方差虽然也能很好的描述数据与均值的偏离程度，但是处理结果是不符合我们的直观思维的。 "
   ]
  },
  {
   "cell_type": "markdown",
   "id": "7c8926eb",
   "metadata": {},
   "source": [
    "### 最值"
   ]
  },
  {
   "cell_type": "markdown",
   "id": "14c50fe7",
   "metadata": {},
   "source": [
    "`ndarray.max(axis)`\n",
    "`np.max(ndarray, axis)`\n",
    "\n",
    "同样有`axis`参数，与平均值的效果类似"
   ]
  },
  {
   "cell_type": "code",
   "execution_count": 80,
   "id": "c848c626",
   "metadata": {},
   "outputs": [
    {
     "name": "stdout",
     "output_type": "stream",
     "text": [
      "[[ 0  1  2  3  4  5]\n",
      " [ 6  7  8  9 10 11]\n",
      " [12 13 14 15 16 17]\n",
      " [18 19 20 21 22 23]\n",
      " [24 25 26 27 28 29]]\n",
      "29\n",
      "axis=0,从上往下查找: [24 25 26 27 28 29]\n",
      "axis=1,从左往右查找 [ 5 11 17 23 29]\n",
      "0\n",
      "axis=0,从上往下查找: [0 1 2 3 4 5]\n",
      "axis=1,从左往右查找 [ 0  6 12 18 24]\n"
     ]
    }
   ],
   "source": [
    "\n",
    "m1 = np.arange(30).reshape(5, 6)\n",
    "print(m1)\n",
    "print(m1.max())\n",
    "print('axis=0,从上往下查找:',m1.max(axis=0))\n",
    "print('axis=1,从左往右查找',m1.max(axis=1))\n",
    "print(m1.min())\n",
    "print('axis=0,从上往下查找:',m1.min(0))\n",
    "print('axis=1,从左往右查找',m1.min(1))"
   ]
  },
  {
   "cell_type": "code",
   "execution_count": 77,
   "id": "be0c5865",
   "metadata": {},
   "outputs": [
    {
     "data": {
      "text/plain": [
       "array([24, 25, 26, 27, 28, 29])"
      ]
     },
     "execution_count": 77,
     "metadata": {},
     "output_type": "execute_result"
    }
   ],
   "source": [
    "np.max(m1)\n",
    "np.max(m1, 0)"
   ]
  },
  {
   "cell_type": "markdown",
   "id": "226e181b",
   "metadata": {},
   "source": [
    "### 加权平均值"
   ]
  },
  {
   "cell_type": "markdown",
   "id": "88460ffb",
   "metadata": {},
   "source": [
    "将各数值乘以相应的权数，然后加总求和得到总体值，再除以总的权数\n",
    "\n",
    "<b>numpy.average(ndarray, axis=None, weights=None, returned=False)</b>\n",
    "> 没有`ndarray.average()`\n",
    "\n",
    "- weights： 数组，可选\n",
    "\n",
    ">与 a 中的值关联的权重数组。 a 中的每个值都根据其关联的权重对平均值做出贡献。权重数组可以是一维的(在这种情况下，它的长度必须是沿给定轴的 a 的大小)或与 a 具有相同的形状。如果 weights=None，则假定 a 中的所有数据的权重等于 1。一维计算是：\n",
    ">\n",
    "> avg = sum(a * weights) / sum(weights)\n",
    "> 对权重的唯一限制是 sum(weights) 不能为 0。"
   ]
  },
  {
   "cell_type": "code",
   "execution_count": 83,
   "id": "3d63f265",
   "metadata": {},
   "outputs": [
    {
     "name": "stdout",
     "output_type": "stream",
     "text": [
      "33.333333333333336\n",
      "33.333333333333336\n",
      "37.5\n",
      "30.0\n"
     ]
    },
    {
     "ename": "AttributeError",
     "evalue": "'numpy.ndarray' object has no attribute 'average'",
     "output_type": "error",
     "traceback": [
      "\u001b[1;31m---------------------------------------------------------------------------\u001b[0m",
      "\u001b[1;31mAttributeError\u001b[0m                            Traceback (most recent call last)",
      "Input \u001b[1;32mIn [83]\u001b[0m, in \u001b[0;36m<cell line: 8>\u001b[1;34m()\u001b[0m\n\u001b[0;32m      6\u001b[0m \u001b[38;5;28mprint\u001b[39m(np\u001b[38;5;241m.\u001b[39maverage(average_a1, weights \u001b[38;5;241m=\u001b[39m [\u001b[38;5;241m2\u001b[39m, \u001b[38;5;241m1\u001b[39m, \u001b[38;5;241m1\u001b[39m]))\n\u001b[0;32m      7\u001b[0m a2 \u001b[38;5;241m=\u001b[39m np\u001b[38;5;241m.\u001b[39marray(average_a1)\n\u001b[1;32m----> 8\u001b[0m \u001b[43ma2\u001b[49m\u001b[38;5;241;43m.\u001b[39;49m\u001b[43maverage\u001b[49m()\n",
      "\u001b[1;31mAttributeError\u001b[0m: 'numpy.ndarray' object has no attribute 'average'"
     ]
    }
   ],
   "source": [
    "average_a1 = [20,30,50]\n",
    "\n",
    "print(np.mean(average_a1))\n",
    "print(np.average(average_a1))\n",
    "print(np.average(average_a1, weights = [1, 1, 2]))\n",
    "print(np.average(average_a1, weights = [2, 1, 1]))\n",
    "a2 = np.array(average_a1)\n",
    "a2.average()"
   ]
  },
  {
   "cell_type": "markdown",
   "id": "671667f9",
   "metadata": {},
   "source": [
    "## 矩阵运算"
   ]
  },
  {
   "cell_type": "markdown",
   "id": "d11590df",
   "metadata": {},
   "source": [
    "创建矩阵：\n",
    "- 注意**向量**的写法，依然有两对`[]`包围"
   ]
  },
  {
   "cell_type": "code",
   "execution_count": 106,
   "id": "b9a85a1a",
   "metadata": {},
   "outputs": [
    {
     "name": "stdout",
     "output_type": "stream",
     "text": [
      "[[1 2 3]\n",
      " [4 5 6]] \n",
      "\n",
      " [[1 2]\n",
      " [3 4]\n",
      " [5 6]] \n",
      "\n",
      " [[1 2 3]] \n",
      "\n",
      " [[9 8 7]\n",
      " [3 2 1]]\n"
     ]
    }
   ],
   "source": [
    "a = np.array([[1, 2, 3], [4, 5, 6]])\n",
    "b = np.array([[1, 2], [3, 4], [5, 6]])\n",
    "c = np.array([[1, 2, 3]])\n",
    "d = np.array([[9, 8, 7], [3, 2, 1]])\n",
    "print(a, '\\n\\n', b, '\\n\\n', c, '\\n\\n', d)"
   ]
  },
  {
   "cell_type": "markdown",
   "id": "4b02b79a",
   "metadata": {},
   "source": [
    "矩阵加法"
   ]
  },
  {
   "cell_type": "code",
   "execution_count": 88,
   "id": "9b35f28e",
   "metadata": {},
   "outputs": [
    {
     "data": {
      "text/plain": [
       "array([[10, 10, 10],\n",
       "       [ 7,  7,  7]])"
      ]
     },
     "execution_count": 88,
     "metadata": {},
     "output_type": "execute_result"
    }
   ],
   "source": [
    "sum = a + d\n",
    "sum"
   ]
  },
  {
   "cell_type": "markdown",
   "id": "3e3252e0",
   "metadata": {},
   "source": [
    "矩阵放缩"
   ]
  },
  {
   "cell_type": "code",
   "execution_count": 89,
   "id": "dcaedaf5",
   "metadata": {},
   "outputs": [
    {
     "data": {
      "text/plain": [
       "array([[ 3,  6,  9],\n",
       "       [12, 15, 18]])"
      ]
     },
     "execution_count": 89,
     "metadata": {},
     "output_type": "execute_result"
    }
   ],
   "source": [
    "e = 3 * a\n",
    "e"
   ]
  },
  {
   "cell_type": "markdown",
   "id": "4331495a",
   "metadata": {},
   "source": [
    "矩阵数乘、矩阵乘"
   ]
  },
  {
   "cell_type": "code",
   "execution_count": 92,
   "id": "9602d969",
   "metadata": {},
   "outputs": [
    {
     "data": {
      "text/plain": [
       "array([[22, 28],\n",
       "       [49, 64]])"
      ]
     },
     "execution_count": 92,
     "metadata": {},
     "output_type": "execute_result"
    }
   ],
   "source": [
    "e = np.dot(a, b)\n",
    "e"
   ]
  },
  {
   "cell_type": "code",
   "execution_count": 94,
   "id": "cd6096e2",
   "metadata": {},
   "outputs": [
    {
     "data": {
      "text/plain": [
       "array([[0.5, 1. , 1.5],\n",
       "       [2. , 2.5, 3. ]])"
      ]
     },
     "execution_count": 94,
     "metadata": {},
     "output_type": "execute_result"
    }
   ],
   "source": [
    "f = np.dot(0.5, a)\n",
    "f"
   ]
  },
  {
   "cell_type": "markdown",
   "id": "6642c4e9",
   "metadata": {},
   "source": [
    "元素乘："
   ]
  },
  {
   "cell_type": "code",
   "execution_count": 101,
   "id": "2cd68143",
   "metadata": {},
   "outputs": [
    {
     "data": {
      "text/plain": [
       "array([[ 9, 16, 21],\n",
       "       [12, 10,  6]])"
      ]
     },
     "execution_count": 101,
     "metadata": {},
     "output_type": "execute_result"
    }
   ],
   "source": [
    "e = a * d\n",
    "e"
   ]
  },
  {
   "cell_type": "markdown",
   "id": "12ae0850",
   "metadata": {},
   "source": [
    "矩阵转置"
   ]
  },
  {
   "cell_type": "code",
   "execution_count": 108,
   "id": "99693e9a",
   "metadata": {},
   "outputs": [
    {
     "data": {
      "text/plain": [
       "array([[1],\n",
       "       [2],\n",
       "       [3]])"
      ]
     },
     "execution_count": 108,
     "metadata": {},
     "output_type": "execute_result"
    }
   ],
   "source": [
    "e = c.T\n",
    "e"
   ]
  },
  {
   "cell_type": "markdown",
   "id": "f4528d6c",
   "metadata": {},
   "source": [
    "方阵的逆矩阵："
   ]
  },
  {
   "cell_type": "code",
   "execution_count": 111,
   "id": "cfa105f3",
   "metadata": {},
   "outputs": [
    {
     "name": "stdout",
     "output_type": "stream",
     "text": [
      "[[1 2]\n",
      " [3 4]]\n"
     ]
    },
    {
     "data": {
      "text/plain": [
       "array([[-2. ,  1. ],\n",
       "       [ 1.5, -0.5]])"
      ]
     },
     "execution_count": 111,
     "metadata": {},
     "output_type": "execute_result"
    }
   ],
   "source": [
    "e = np.array([[1, 2], [3, 4]])\n",
    "print(e)\n",
    "np.linalg.inv(e)"
   ]
  },
  {
   "cell_type": "markdown",
   "id": "da90f7f2",
   "metadata": {},
   "source": [
    "方阵的行列式："
   ]
  },
  {
   "cell_type": "code",
   "execution_count": 112,
   "id": "ffbc3251",
   "metadata": {},
   "outputs": [
    {
     "name": "stdout",
     "output_type": "stream",
     "text": [
      "[[1 2]\n",
      " [3 4]]\n"
     ]
    },
    {
     "data": {
      "text/plain": [
       "-2.0000000000000004"
      ]
     },
     "execution_count": 112,
     "metadata": {},
     "output_type": "execute_result"
    }
   ],
   "source": [
    "e = np.array([[1, 2], [3, 4]])\n",
    "print(e)\n",
    "np.linalg.det(e)"
   ]
  },
  {
   "cell_type": "markdown",
   "id": "a0fcbb7d",
   "metadata": {},
   "source": [
    "矩阵的轶："
   ]
  },
  {
   "cell_type": "code",
   "execution_count": 114,
   "id": "f5e4a222",
   "metadata": {},
   "outputs": [
    {
     "name": "stdout",
     "output_type": "stream",
     "text": [
      "[[1 2 5]\n",
      " [3 4 5]]\n"
     ]
    },
    {
     "data": {
      "text/plain": [
       "2"
      ]
     },
     "execution_count": 114,
     "metadata": {},
     "output_type": "execute_result"
    }
   ],
   "source": [
    "e = np.array([[1, 2, 5], [3, 4, 5]])\n",
    "print(e)\n",
    "np.linalg.matrix_rank(e)"
   ]
  }
 ],
 "metadata": {
  "kernelspec": {
   "display_name": "Python 3 (ipykernel)",
   "language": "python",
   "name": "python3"
  },
  "language_info": {
   "codemirror_mode": {
    "name": "ipython",
    "version": 3
   },
   "file_extension": ".py",
   "mimetype": "text/x-python",
   "name": "python",
   "nbconvert_exporter": "python",
   "pygments_lexer": "ipython3",
   "version": "3.9.12"
  },
  "toc": {
   "base_numbering": 1,
   "nav_menu": {},
   "number_sections": true,
   "sideBar": true,
   "skip_h1_title": false,
   "title_cell": "Table of Contents",
   "title_sidebar": "Contents",
   "toc_cell": false,
   "toc_position": {
    "height": "calc(100% - 180px)",
    "left": "10px",
    "top": "150px",
    "width": "370px"
   },
   "toc_section_display": true,
   "toc_window_display": true
  }
 },
 "nbformat": 4,
 "nbformat_minor": 5
}
